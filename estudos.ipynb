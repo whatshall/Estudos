{
  "cells": [
    {
      "cell_type": "code",
      "execution_count": null,
      "metadata": {
        "id": "Ck90vaEDJBam"
      },
      "outputs": [],
      "source": [
        "# declaração das variáveis\n",
        "inicio = 0\n",
        "fim = 100\n",
        "# verifica quais números são divisíveis por cinco, e exibe aqueles que são\n",
        "for numero in range(inicio, fim):\n",
        " if numero % 5 == 0:\n",
        "   print(numero)"
      ]
    },
    {
      "cell_type": "code",
      "execution_count": null,
      "metadata": {
        "colab": {
          "base_uri": "https://localhost:8080/"
        },
        "id": "HW0iyUS6JUNY",
        "outputId": "21a6ce13-6c14-4738-8cbd-4a4348bf7fea"
      },
      "outputs": [
        {
          "name": "stdout",
          "output_type": "stream",
          "text": [
            "55\n"
          ]
        }
      ],
      "source": [
        "x = '5' + '5'\n",
        "print(x)"
      ]
    },
    {
      "cell_type": "code",
      "execution_count": null,
      "metadata": {
        "colab": {
          "base_uri": "https://localhost:8080/"
        },
        "id": "VjiN96LIJZ1a",
        "outputId": "2540390f-fb03-4bfd-e8f0-4b14729456c7"
      },
      "outputs": [
        {
          "data": {
            "text/plain": [
              "str"
            ]
          },
          "execution_count": 7,
          "metadata": {},
          "output_type": "execute_result"
        }
      ],
      "source": [
        "type(x)"
      ]
    },
    {
      "cell_type": "code",
      "execution_count": null,
      "metadata": {
        "id": "EmV4aq4cJpDw"
      },
      "outputs": [],
      "source": [
        "# variáveis do tipo string\n",
        "nome = 'João da Silva'\n",
        "cidade = 'São Paulo'\n",
        "cpf = '123.456.789-00'"
      ]
    },
    {
      "cell_type": "code",
      "execution_count": null,
      "metadata": {
        "id": "vudrsMWFJrSg"
      },
      "outputs": [],
      "source": [
        "numero = '127957'"
      ]
    },
    {
      "cell_type": "code",
      "execution_count": null,
      "metadata": {
        "colab": {
          "base_uri": "https://localhost:8080/"
        },
        "id": "QuIIvma9K4ye",
        "outputId": "bae2d011-8a2f-4e9d-8a24-48ca7c69e14e"
      },
      "outputs": [
        {
          "data": {
            "text/plain": [
              "float"
            ]
          },
          "execution_count": 13,
          "metadata": {},
          "output_type": "execute_result"
        }
      ],
      "source": [
        "type(int(numero) + 1.0)"
      ]
    },
    {
      "cell_type": "code",
      "execution_count": null,
      "metadata": {
        "id": "4VVNCWqSLJgi"
      },
      "outputs": [],
      "source": [
        "x = (2 + 3) * 5 - 1"
      ]
    },
    {
      "cell_type": "code",
      "execution_count": null,
      "metadata": {
        "colab": {
          "base_uri": "https://localhost:8080/"
        },
        "id": "A0wKH-sv1TaQ",
        "outputId": "44108c3b-eaea-493a-c048-de1616c57515"
      },
      "outputs": [
        {
          "name": "stdout",
          "output_type": "stream",
          "text": [
            "{'Maria': 5, 'Julieta': 7, 'Fernando': 8, 'Cristiano': 9, 'Cláudio': 7}\n"
          ]
        }
      ],
      "source": [
        "# relação dos nomes\n",
        "nomes = ['Maria', 'Julieta', 'Fernando', 'Cristiano', 'Julieta', 'Maria', 'Fernando', 'Cláudio']\n",
        "# estrutura que irá armazenar o número de letras de cada nome\n",
        "qtd_letras = {}\n",
        "# calcula o tamanho de cada nome (em número de letras) e armazena o valor na estrutura\n",
        "for nome in nomes:\n",
        " qtd_letras[nome] = len(nome)\n",
        "print(qtd_letras)"
      ]
    },
    {
      "cell_type": "code",
      "execution_count": null,
      "metadata": {
        "colab": {
          "base_uri": "https://localhost:8080/"
        },
        "id": "RSnE8SF3-LYC",
        "outputId": "3a3b4e8d-b160-4600-dedb-e1fc4e08f6d2"
      },
      "outputs": [
        {
          "name": "stdout",
          "output_type": "stream",
          "text": [
            "{'Maria': 5, 'Julieta': 7, 'Fernando': 8, 'Cristiano': 9, 'Cláudio': 7}\n"
          ]
        }
      ],
      "source": [
        "qtd_letrass = {nome : len(nome) for nome in nomes}\n",
        "print(qtd_letras)"
      ]
    },
    {
      "cell_type": "code",
      "execution_count": null,
      "metadata": {
        "colab": {
          "base_uri": "https://localhost:8080/"
        },
        "id": "Qw2AiYKmBk7X",
        "outputId": "45798e24-6eb2-496c-b254-ad25f77d62ae"
      },
      "outputs": [
        {
          "name": "stdout",
          "output_type": "stream",
          "text": [
            "valor do raio, para obter a circuferência do círculo: 6\n",
            "area: 18.84\n"
          ]
        }
      ],
      "source": [
        "r = float(input('valor do raio, para obter a circuferência do círculo: '))\n",
        "pi = '3.14'\n",
        "\n",
        "area = float(pi) * r\n",
        "\n",
        "print(\"area: {:.2f}\".format(area))"
      ]
    },
    {
      "cell_type": "code",
      "execution_count": null,
      "metadata": {
        "colab": {
          "base_uri": "https://localhost:8080/"
        },
        "id": "DLMfQiL_EEi_",
        "outputId": "3cdf4b34-9974-49c9-9c6e-98a856d18c79"
      },
      "outputs": [
        {
          "name": "stdout",
          "output_type": "stream",
          "text": [
            "valor do raio, para obter a circuferência do círculo: 9\n",
            "area: 28.26\n"
          ]
        }
      ],
      "source": [
        "r = float(input('valor do raio, para obter a area do círculo: '))\n",
        "\n",
        "area = 3.14 * r\n",
        "\n",
        "print(\"area: {:.2f}\".format(area))"
      ]
    },
    {
      "cell_type": "code",
      "execution_count": null,
      "metadata": {
        "id": "kG_txGbMExxr"
      },
      "outputs": [],
      "source": [
        "# função explicita\n",
        "def area_circulo(pi, r):\n",
        "    return pi*r"
      ]
    },
    {
      "cell_type": "code",
      "execution_count": null,
      "metadata": {
        "id": "lNDp62ilGWog"
      },
      "outputs": [],
      "source": [
        "def area_circulo2(r):\n",
        "    return '3,14'*r"
      ]
    },
    {
      "cell_type": "code",
      "execution_count": null,
      "metadata": {
        "id": "x-_gMMXup-U9"
      },
      "outputs": [],
      "source": []
    },
    {
      "cell_type": "code",
      "execution_count": null,
      "metadata": {
        "colab": {
          "base_uri": "https://localhost:8080/"
        },
        "id": "_hRtauQyFUcp",
        "outputId": "f1ff0eba-7613-4c6d-f74d-8a6a346b9782"
      },
      "outputs": [
        {
          "data": {
            "text/plain": [
              "15.700000000000001"
            ]
          },
          "execution_count": 37,
          "metadata": {},
          "output_type": "execute_result"
        }
      ],
      "source": [
        "area_circulo(3.14,5)"
      ]
    },
    {
      "cell_type": "code",
      "execution_count": null,
      "metadata": {
        "colab": {
          "base_uri": "https://localhost:8080/",
          "height": 35
        },
        "id": "lahL3liPGmAi",
        "outputId": "81e35aef-f347-47b3-9f36-2d74943f82fc"
      },
      "outputs": [
        {
          "data": {
            "application/vnd.google.colaboratory.intrinsic+json": {
              "type": "string"
            },
            "text/plain": [
              "'3,143,143,14'"
            ]
          },
          "execution_count": 48,
          "metadata": {},
          "output_type": "execute_result"
        }
      ],
      "source": [
        "area_circulo2(3)"
      ]
    },
    {
      "cell_type": "code",
      "execution_count": null,
      "metadata": {
        "id": "zkN5Qj9vFq26"
      },
      "outputs": [],
      "source": [
        "# função anonima (lambda)\n",
        "area_circ = lambda pi, r : pi * r"
      ]
    },
    {
      "cell_type": "code",
      "execution_count": null,
      "metadata": {
        "colab": {
          "base_uri": "https://localhost:8080/"
        },
        "id": "43d8z-mMGRME",
        "outputId": "4e7a8aac-11ed-4012-a7e4-fd312b7c6067"
      },
      "outputs": [
        {
          "data": {
            "text/plain": [
              "60"
            ]
          },
          "execution_count": 31,
          "metadata": {},
          "output_type": "execute_result"
        }
      ],
      "source": [
        "area_circ(6,10)"
      ]
    },
    {
      "cell_type": "code",
      "execution_count": null,
      "metadata": {
        "id": "-Ty8eaxlp_OD"
      },
      "outputs": [],
      "source": [
        "import numpy as np\n",
        "import pandas as pd"
      ]
    },
    {
      "cell_type": "code",
      "execution_count": null,
      "metadata": {
        "colab": {
          "base_uri": "https://localhost:8080/"
        },
        "id": "DPjjwvPhqZ7b",
        "outputId": "253561b2-f1ce-4823-b931-d4d06d49437c"
      },
      "outputs": [
        {
          "name": "stdout",
          "output_type": "stream",
          "text": [
            "[[2. 2.]\n",
            " [2. 2.]]\n"
          ]
        }
      ],
      "source": [
        "X = np.ones((2, 2)) + np.ones((2, 2))\n",
        "print(X)"
      ]
    },
    {
      "cell_type": "code",
      "execution_count": null,
      "metadata": {
        "colab": {
          "base_uri": "https://localhost:8080/"
        },
        "id": "fQswishvrLBj",
        "outputId": "6259d404-8b83-45ee-e798-efd7b37b26a8"
      },
      "outputs": [
        {
          "name": "stdout",
          "output_type": "stream",
          "text": [
            "[[ 1 10]\n",
            " [ 3  4]]\n"
          ]
        }
      ],
      "source": [
        "X = np.array([[1,2], [3,4]])\n",
        "Y = X[0, :]\n",
        "Y[1] = 10\n",
        "print(X)"
      ]
    },
    {
      "cell_type": "code",
      "execution_count": null,
      "metadata": {
        "colab": {
          "base_uri": "https://localhost:8080/"
        },
        "id": "6HDnnjeasJ2S",
        "outputId": "0eb0e1bf-d939-4d5e-f651-38841ef5eb4b"
      },
      "outputs": [
        {
          "name": "stdout",
          "output_type": "stream",
          "text": [
            "10.5\n"
          ]
        }
      ],
      "source": [
        "X = np.array([[1,3], [11,10]])\n",
        "print(np.mean(X[X > np.pi]))"
      ]
    },
    {
      "cell_type": "code",
      "execution_count": null,
      "metadata": {
        "id": "89s4JCo7sqiS"
      },
      "outputs": [],
      "source": [
        "data = {'animal': ['cat', 'dog', 'snake', 'dog', 'dog', 'cat'],\n",
        "        'age': [2.5 , 1, 3, np.nan, 2 , np.nan],\n",
        "        'visits': [1, 3, 2, 4, 2, 1],\n",
        "        'priority': ['yes', 'no', 'yes', 'no', 'yes', 'no']}\n",
        "labels = ['a', 'b', 'c', 'd', 'e', 'f']"
      ]
    },
    {
      "cell_type": "code",
      "execution_count": null,
      "metadata": {
        "colab": {
          "base_uri": "https://localhost:8080/",
          "height": 238
        },
        "id": "Jz7m0EAktjrk",
        "outputId": "6614120a-6261-43a4-873e-bc2b1f596468"
      },
      "outputs": [
        {
          "data": {
            "text/html": [
              "\n",
              "  <div id=\"df-0c5a24ec-7711-4c40-a6a0-ddf642d27b86\">\n",
              "    <div class=\"colab-df-container\">\n",
              "      <div>\n",
              "<style scoped>\n",
              "    .dataframe tbody tr th:only-of-type {\n",
              "        vertical-align: middle;\n",
              "    }\n",
              "\n",
              "    .dataframe tbody tr th {\n",
              "        vertical-align: top;\n",
              "    }\n",
              "\n",
              "    .dataframe thead th {\n",
              "        text-align: right;\n",
              "    }\n",
              "</style>\n",
              "<table border=\"1\" class=\"dataframe\">\n",
              "  <thead>\n",
              "    <tr style=\"text-align: right;\">\n",
              "      <th></th>\n",
              "      <th>animal</th>\n",
              "      <th>age</th>\n",
              "      <th>visits</th>\n",
              "      <th>priority</th>\n",
              "    </tr>\n",
              "  </thead>\n",
              "  <tbody>\n",
              "    <tr>\n",
              "      <th>a</th>\n",
              "      <td>cat</td>\n",
              "      <td>2.5</td>\n",
              "      <td>1</td>\n",
              "      <td>yes</td>\n",
              "    </tr>\n",
              "    <tr>\n",
              "      <th>b</th>\n",
              "      <td>dog</td>\n",
              "      <td>1.0</td>\n",
              "      <td>3</td>\n",
              "      <td>no</td>\n",
              "    </tr>\n",
              "    <tr>\n",
              "      <th>c</th>\n",
              "      <td>snake</td>\n",
              "      <td>3.0</td>\n",
              "      <td>2</td>\n",
              "      <td>yes</td>\n",
              "    </tr>\n",
              "    <tr>\n",
              "      <th>d</th>\n",
              "      <td>dog</td>\n",
              "      <td>NaN</td>\n",
              "      <td>4</td>\n",
              "      <td>no</td>\n",
              "    </tr>\n",
              "    <tr>\n",
              "      <th>e</th>\n",
              "      <td>dog</td>\n",
              "      <td>2.0</td>\n",
              "      <td>2</td>\n",
              "      <td>yes</td>\n",
              "    </tr>\n",
              "    <tr>\n",
              "      <th>f</th>\n",
              "      <td>cat</td>\n",
              "      <td>NaN</td>\n",
              "      <td>1</td>\n",
              "      <td>no</td>\n",
              "    </tr>\n",
              "  </tbody>\n",
              "</table>\n",
              "</div>\n",
              "      <button class=\"colab-df-convert\" onclick=\"convertToInteractive('df-0c5a24ec-7711-4c40-a6a0-ddf642d27b86')\"\n",
              "              title=\"Convert this dataframe to an interactive table.\"\n",
              "              style=\"display:none;\">\n",
              "        \n",
              "  <svg xmlns=\"http://www.w3.org/2000/svg\" height=\"24px\"viewBox=\"0 0 24 24\"\n",
              "       width=\"24px\">\n",
              "    <path d=\"M0 0h24v24H0V0z\" fill=\"none\"/>\n",
              "    <path d=\"M18.56 5.44l.94 2.06.94-2.06 2.06-.94-2.06-.94-.94-2.06-.94 2.06-2.06.94zm-11 1L8.5 8.5l.94-2.06 2.06-.94-2.06-.94L8.5 2.5l-.94 2.06-2.06.94zm10 10l.94 2.06.94-2.06 2.06-.94-2.06-.94-.94-2.06-.94 2.06-2.06.94z\"/><path d=\"M17.41 7.96l-1.37-1.37c-.4-.4-.92-.59-1.43-.59-.52 0-1.04.2-1.43.59L10.3 9.45l-7.72 7.72c-.78.78-.78 2.05 0 2.83L4 21.41c.39.39.9.59 1.41.59.51 0 1.02-.2 1.41-.59l7.78-7.78 2.81-2.81c.8-.78.8-2.07 0-2.86zM5.41 20L4 18.59l7.72-7.72 1.47 1.35L5.41 20z\"/>\n",
              "  </svg>\n",
              "      </button>\n",
              "      \n",
              "  <style>\n",
              "    .colab-df-container {\n",
              "      display:flex;\n",
              "      flex-wrap:wrap;\n",
              "      gap: 12px;\n",
              "    }\n",
              "\n",
              "    .colab-df-convert {\n",
              "      background-color: #E8F0FE;\n",
              "      border: none;\n",
              "      border-radius: 50%;\n",
              "      cursor: pointer;\n",
              "      display: none;\n",
              "      fill: #1967D2;\n",
              "      height: 32px;\n",
              "      padding: 0 0 0 0;\n",
              "      width: 32px;\n",
              "    }\n",
              "\n",
              "    .colab-df-convert:hover {\n",
              "      background-color: #E2EBFA;\n",
              "      box-shadow: 0px 1px 2px rgba(60, 64, 67, 0.3), 0px 1px 3px 1px rgba(60, 64, 67, 0.15);\n",
              "      fill: #174EA6;\n",
              "    }\n",
              "\n",
              "    [theme=dark] .colab-df-convert {\n",
              "      background-color: #3B4455;\n",
              "      fill: #D2E3FC;\n",
              "    }\n",
              "\n",
              "    [theme=dark] .colab-df-convert:hover {\n",
              "      background-color: #434B5C;\n",
              "      box-shadow: 0px 1px 3px 1px rgba(0, 0, 0, 0.15);\n",
              "      filter: drop-shadow(0px 1px 2px rgba(0, 0, 0, 0.3));\n",
              "      fill: #FFFFFF;\n",
              "    }\n",
              "  </style>\n",
              "\n",
              "      <script>\n",
              "        const buttonEl =\n",
              "          document.querySelector('#df-0c5a24ec-7711-4c40-a6a0-ddf642d27b86 button.colab-df-convert');\n",
              "        buttonEl.style.display =\n",
              "          google.colab.kernel.accessAllowed ? 'block' : 'none';\n",
              "\n",
              "        async function convertToInteractive(key) {\n",
              "          const element = document.querySelector('#df-0c5a24ec-7711-4c40-a6a0-ddf642d27b86');\n",
              "          const dataTable =\n",
              "            await google.colab.kernel.invokeFunction('convertToInteractive',\n",
              "                                                     [key], {});\n",
              "          if (!dataTable) return;\n",
              "\n",
              "          const docLinkHtml = 'Like what you see? Visit the ' +\n",
              "            '<a target=\"_blank\" href=https://colab.research.google.com/notebooks/data_table.ipynb>data table notebook</a>'\n",
              "            + ' to learn more about interactive tables.';\n",
              "          element.innerHTML = '';\n",
              "          dataTable['output_type'] = 'display_data';\n",
              "          await google.colab.output.renderOutput(dataTable, element);\n",
              "          const docLink = document.createElement('div');\n",
              "          docLink.innerHTML = docLinkHtml;\n",
              "          element.appendChild(docLink);\n",
              "        }\n",
              "      </script>\n",
              "    </div>\n",
              "  </div>\n",
              "  "
            ],
            "text/plain": [
              "  animal  age  visits priority\n",
              "a    cat  2.5       1      yes\n",
              "b    dog  1.0       3       no\n",
              "c  snake  3.0       2      yes\n",
              "d    dog  NaN       4       no\n",
              "e    dog  2.0       2      yes\n",
              "f    cat  NaN       1       no"
            ]
          },
          "execution_count": 30,
          "metadata": {},
          "output_type": "execute_result"
        }
      ],
      "source": [
        "df = pd.DataFrame(data=data, index=labels)\n",
        "df"
      ]
    },
    {
      "cell_type": "code",
      "execution_count": null,
      "metadata": {
        "colab": {
          "base_uri": "https://localhost:8080/"
        },
        "id": "9AJfiTUjt8Z5",
        "outputId": "6c0dccb5-2cf4-4d42-e9b2-50a9e9c5ca9c"
      },
      "outputs": [
        {
          "data": {
            "text/plain": [
              "dog      3\n",
              "cat      2\n",
              "snake    1\n",
              "Name: animal, dtype: int64"
            ]
          },
          "execution_count": 34,
          "metadata": {},
          "output_type": "execute_result"
        }
      ],
      "source": [
        "df['animal'].value_counts()"
      ]
    },
    {
      "cell_type": "code",
      "execution_count": null,
      "metadata": {
        "colab": {
          "base_uri": "https://localhost:8080/"
        },
        "id": "Uam41tUvuWOB",
        "outputId": "f7512722-aac0-472f-928e-1a468c0cb496"
      },
      "outputs": [
        {
          "data": {
            "text/plain": [
              "a    yes\n",
              "b     no\n",
              "c    yes\n",
              "d     no\n",
              "e    yes\n",
              "f     no\n",
              "Name: priority, dtype: object"
            ]
          },
          "execution_count": 35,
          "metadata": {},
          "output_type": "execute_result"
        }
      ],
      "source": [
        "df.iloc[:, 3]"
      ]
    },
    {
      "cell_type": "code",
      "execution_count": null,
      "metadata": {
        "colab": {
          "base_uri": "https://localhost:8080/"
        },
        "id": "vlEMYWWEu-x4",
        "outputId": "8527f64e-007c-457a-d962-77cfbf4a5fac"
      },
      "outputs": [
        {
          "data": {
            "text/plain": [
              "a    1\n",
              "b    3\n",
              "c    2\n",
              "d    4\n",
              "e    2\n",
              "f    1\n",
              "Name: visits, dtype: int64"
            ]
          },
          "execution_count": 36,
          "metadata": {},
          "output_type": "execute_result"
        }
      ],
      "source": [
        "df.iloc[:, -2]"
      ]
    },
    {
      "cell_type": "code",
      "execution_count": null,
      "metadata": {
        "colab": {
          "base_uri": "https://localhost:8080/",
          "height": 238
        },
        "id": "bh_JrmrbvS5h",
        "outputId": "3c1bd458-8cd2-4c1d-b5ac-090d0ea7267e"
      },
      "outputs": [
        {
          "data": {
            "text/html": [
              "\n",
              "  <div id=\"df-11b11e7f-9542-4898-bed1-98b4cbe9358b\">\n",
              "    <div class=\"colab-df-container\">\n",
              "      <div>\n",
              "<style scoped>\n",
              "    .dataframe tbody tr th:only-of-type {\n",
              "        vertical-align: middle;\n",
              "    }\n",
              "\n",
              "    .dataframe tbody tr th {\n",
              "        vertical-align: top;\n",
              "    }\n",
              "\n",
              "    .dataframe thead th {\n",
              "        text-align: right;\n",
              "    }\n",
              "</style>\n",
              "<table border=\"1\" class=\"dataframe\">\n",
              "  <thead>\n",
              "    <tr style=\"text-align: right;\">\n",
              "      <th></th>\n",
              "      <th>animal</th>\n",
              "      <th>age</th>\n",
              "      <th>visits</th>\n",
              "      <th>priority</th>\n",
              "    </tr>\n",
              "  </thead>\n",
              "  <tbody>\n",
              "    <tr>\n",
              "      <th>d</th>\n",
              "      <td>dog</td>\n",
              "      <td>NaN</td>\n",
              "      <td>4</td>\n",
              "      <td>no</td>\n",
              "    </tr>\n",
              "    <tr>\n",
              "      <th>b</th>\n",
              "      <td>dog</td>\n",
              "      <td>1.0</td>\n",
              "      <td>3</td>\n",
              "      <td>no</td>\n",
              "    </tr>\n",
              "    <tr>\n",
              "      <th>c</th>\n",
              "      <td>snake</td>\n",
              "      <td>3.0</td>\n",
              "      <td>2</td>\n",
              "      <td>yes</td>\n",
              "    </tr>\n",
              "    <tr>\n",
              "      <th>e</th>\n",
              "      <td>dog</td>\n",
              "      <td>2.0</td>\n",
              "      <td>2</td>\n",
              "      <td>yes</td>\n",
              "    </tr>\n",
              "    <tr>\n",
              "      <th>a</th>\n",
              "      <td>cat</td>\n",
              "      <td>2.5</td>\n",
              "      <td>1</td>\n",
              "      <td>yes</td>\n",
              "    </tr>\n",
              "    <tr>\n",
              "      <th>f</th>\n",
              "      <td>cat</td>\n",
              "      <td>NaN</td>\n",
              "      <td>1</td>\n",
              "      <td>no</td>\n",
              "    </tr>\n",
              "  </tbody>\n",
              "</table>\n",
              "</div>\n",
              "      <button class=\"colab-df-convert\" onclick=\"convertToInteractive('df-11b11e7f-9542-4898-bed1-98b4cbe9358b')\"\n",
              "              title=\"Convert this dataframe to an interactive table.\"\n",
              "              style=\"display:none;\">\n",
              "        \n",
              "  <svg xmlns=\"http://www.w3.org/2000/svg\" height=\"24px\"viewBox=\"0 0 24 24\"\n",
              "       width=\"24px\">\n",
              "    <path d=\"M0 0h24v24H0V0z\" fill=\"none\"/>\n",
              "    <path d=\"M18.56 5.44l.94 2.06.94-2.06 2.06-.94-2.06-.94-.94-2.06-.94 2.06-2.06.94zm-11 1L8.5 8.5l.94-2.06 2.06-.94-2.06-.94L8.5 2.5l-.94 2.06-2.06.94zm10 10l.94 2.06.94-2.06 2.06-.94-2.06-.94-.94-2.06-.94 2.06-2.06.94z\"/><path d=\"M17.41 7.96l-1.37-1.37c-.4-.4-.92-.59-1.43-.59-.52 0-1.04.2-1.43.59L10.3 9.45l-7.72 7.72c-.78.78-.78 2.05 0 2.83L4 21.41c.39.39.9.59 1.41.59.51 0 1.02-.2 1.41-.59l7.78-7.78 2.81-2.81c.8-.78.8-2.07 0-2.86zM5.41 20L4 18.59l7.72-7.72 1.47 1.35L5.41 20z\"/>\n",
              "  </svg>\n",
              "      </button>\n",
              "      \n",
              "  <style>\n",
              "    .colab-df-container {\n",
              "      display:flex;\n",
              "      flex-wrap:wrap;\n",
              "      gap: 12px;\n",
              "    }\n",
              "\n",
              "    .colab-df-convert {\n",
              "      background-color: #E8F0FE;\n",
              "      border: none;\n",
              "      border-radius: 50%;\n",
              "      cursor: pointer;\n",
              "      display: none;\n",
              "      fill: #1967D2;\n",
              "      height: 32px;\n",
              "      padding: 0 0 0 0;\n",
              "      width: 32px;\n",
              "    }\n",
              "\n",
              "    .colab-df-convert:hover {\n",
              "      background-color: #E2EBFA;\n",
              "      box-shadow: 0px 1px 2px rgba(60, 64, 67, 0.3), 0px 1px 3px 1px rgba(60, 64, 67, 0.15);\n",
              "      fill: #174EA6;\n",
              "    }\n",
              "\n",
              "    [theme=dark] .colab-df-convert {\n",
              "      background-color: #3B4455;\n",
              "      fill: #D2E3FC;\n",
              "    }\n",
              "\n",
              "    [theme=dark] .colab-df-convert:hover {\n",
              "      background-color: #434B5C;\n",
              "      box-shadow: 0px 1px 3px 1px rgba(0, 0, 0, 0.15);\n",
              "      filter: drop-shadow(0px 1px 2px rgba(0, 0, 0, 0.3));\n",
              "      fill: #FFFFFF;\n",
              "    }\n",
              "  </style>\n",
              "\n",
              "      <script>\n",
              "        const buttonEl =\n",
              "          document.querySelector('#df-11b11e7f-9542-4898-bed1-98b4cbe9358b button.colab-df-convert');\n",
              "        buttonEl.style.display =\n",
              "          google.colab.kernel.accessAllowed ? 'block' : 'none';\n",
              "\n",
              "        async function convertToInteractive(key) {\n",
              "          const element = document.querySelector('#df-11b11e7f-9542-4898-bed1-98b4cbe9358b');\n",
              "          const dataTable =\n",
              "            await google.colab.kernel.invokeFunction('convertToInteractive',\n",
              "                                                     [key], {});\n",
              "          if (!dataTable) return;\n",
              "\n",
              "          const docLinkHtml = 'Like what you see? Visit the ' +\n",
              "            '<a target=\"_blank\" href=https://colab.research.google.com/notebooks/data_table.ipynb>data table notebook</a>'\n",
              "            + ' to learn more about interactive tables.';\n",
              "          element.innerHTML = '';\n",
              "          dataTable['output_type'] = 'display_data';\n",
              "          await google.colab.output.renderOutput(dataTable, element);\n",
              "          const docLink = document.createElement('div');\n",
              "          docLink.innerHTML = docLinkHtml;\n",
              "          element.appendChild(docLink);\n",
              "        }\n",
              "      </script>\n",
              "    </div>\n",
              "  </div>\n",
              "  "
            ],
            "text/plain": [
              "  animal  age  visits priority\n",
              "d    dog  NaN       4       no\n",
              "b    dog  1.0       3       no\n",
              "c  snake  3.0       2      yes\n",
              "e    dog  2.0       2      yes\n",
              "a    cat  2.5       1      yes\n",
              "f    cat  NaN       1       no"
            ]
          },
          "execution_count": 39,
          "metadata": {},
          "output_type": "execute_result"
        }
      ],
      "source": [
        "df.sort_values(by='visits', ascending=False)"
      ]
    },
    {
      "cell_type": "code",
      "execution_count": null,
      "metadata": {
        "id": "_65lY4wSvfnR"
      },
      "outputs": [],
      "source": [
        "ytrue = np.array([1., 2., 1.])\n",
        "xpred = np.array([1.1, 1.98, 1.05])"
      ]
    },
    {
      "cell_type": "code",
      "execution_count": null,
      "metadata": {
        "id": "WrinnMa5wEhk"
      },
      "outputs": [],
      "source": [
        "ytrue = np.array([1.1, 1.98, 1.05])\n",
        "xpred = np.array([1.1, 1.98, 1.05])"
      ]
    },
    {
      "cell_type": "code",
      "execution_count": null,
      "metadata": {
        "colab": {
          "base_uri": "https://localhost:8080/"
        },
        "id": "IFXfC2hEvxBg",
        "outputId": "0efc7bcb-780e-40ba-daa9-264aa716d788"
      },
      "outputs": [
        {
          "data": {
            "text/plain": [
              "0.0"
            ]
          },
          "execution_count": 48,
          "metadata": {},
          "output_type": "execute_result"
        }
      ],
      "source": [
        "np.sqrt(((ytrue-xpred)**2).mean())"
      ]
    },
    {
      "cell_type": "code",
      "execution_count": null,
      "metadata": {
        "colab": {
          "base_uri": "https://localhost:8080/",
          "height": 112
        },
        "id": "eAIKa8ESz9Xm",
        "outputId": "aa97ff27-a51f-4fec-f7fb-83694632d5d3"
      },
      "outputs": [
        {
          "output_type": "execute_result",
          "data": {
            "text/plain": [
              "     datetime  rec_id  season  year  month  hour  is_holiday  weekday  \\\n",
              "0  2011-01-01       1       1     0      1     0           0        6   \n",
              "1  2011-01-01       2       1     0      1     1           0        6   \n",
              "\n",
              "   is_workingday  weather_condition  temp   atemp  humidity  windspeed  \\\n",
              "0              0                  1  0.24  0.2879      0.81        0.0   \n",
              "1              0                  1  0.22  0.2727      0.80        0.0   \n",
              "\n",
              "   casual  registered  total_count  \n",
              "0       3          13           16  \n",
              "1       8          32           40  "
            ],
            "text/html": [
              "\n",
              "  <div id=\"df-aa22f43f-90c4-4878-9d75-992a2b5e45aa\">\n",
              "    <div class=\"colab-df-container\">\n",
              "      <div>\n",
              "<style scoped>\n",
              "    .dataframe tbody tr th:only-of-type {\n",
              "        vertical-align: middle;\n",
              "    }\n",
              "\n",
              "    .dataframe tbody tr th {\n",
              "        vertical-align: top;\n",
              "    }\n",
              "\n",
              "    .dataframe thead th {\n",
              "        text-align: right;\n",
              "    }\n",
              "</style>\n",
              "<table border=\"1\" class=\"dataframe\">\n",
              "  <thead>\n",
              "    <tr style=\"text-align: right;\">\n",
              "      <th></th>\n",
              "      <th>datetime</th>\n",
              "      <th>rec_id</th>\n",
              "      <th>season</th>\n",
              "      <th>year</th>\n",
              "      <th>month</th>\n",
              "      <th>hour</th>\n",
              "      <th>is_holiday</th>\n",
              "      <th>weekday</th>\n",
              "      <th>is_workingday</th>\n",
              "      <th>weather_condition</th>\n",
              "      <th>temp</th>\n",
              "      <th>atemp</th>\n",
              "      <th>humidity</th>\n",
              "      <th>windspeed</th>\n",
              "      <th>casual</th>\n",
              "      <th>registered</th>\n",
              "      <th>total_count</th>\n",
              "    </tr>\n",
              "  </thead>\n",
              "  <tbody>\n",
              "    <tr>\n",
              "      <th>0</th>\n",
              "      <td>2011-01-01</td>\n",
              "      <td>1</td>\n",
              "      <td>1</td>\n",
              "      <td>0</td>\n",
              "      <td>1</td>\n",
              "      <td>0</td>\n",
              "      <td>0</td>\n",
              "      <td>6</td>\n",
              "      <td>0</td>\n",
              "      <td>1</td>\n",
              "      <td>0.24</td>\n",
              "      <td>0.2879</td>\n",
              "      <td>0.81</td>\n",
              "      <td>0.0</td>\n",
              "      <td>3</td>\n",
              "      <td>13</td>\n",
              "      <td>16</td>\n",
              "    </tr>\n",
              "    <tr>\n",
              "      <th>1</th>\n",
              "      <td>2011-01-01</td>\n",
              "      <td>2</td>\n",
              "      <td>1</td>\n",
              "      <td>0</td>\n",
              "      <td>1</td>\n",
              "      <td>1</td>\n",
              "      <td>0</td>\n",
              "      <td>6</td>\n",
              "      <td>0</td>\n",
              "      <td>1</td>\n",
              "      <td>0.22</td>\n",
              "      <td>0.2727</td>\n",
              "      <td>0.80</td>\n",
              "      <td>0.0</td>\n",
              "      <td>8</td>\n",
              "      <td>32</td>\n",
              "      <td>40</td>\n",
              "    </tr>\n",
              "  </tbody>\n",
              "</table>\n",
              "</div>\n",
              "      <button class=\"colab-df-convert\" onclick=\"convertToInteractive('df-aa22f43f-90c4-4878-9d75-992a2b5e45aa')\"\n",
              "              title=\"Convert this dataframe to an interactive table.\"\n",
              "              style=\"display:none;\">\n",
              "        \n",
              "  <svg xmlns=\"http://www.w3.org/2000/svg\" height=\"24px\"viewBox=\"0 0 24 24\"\n",
              "       width=\"24px\">\n",
              "    <path d=\"M0 0h24v24H0V0z\" fill=\"none\"/>\n",
              "    <path d=\"M18.56 5.44l.94 2.06.94-2.06 2.06-.94-2.06-.94-.94-2.06-.94 2.06-2.06.94zm-11 1L8.5 8.5l.94-2.06 2.06-.94-2.06-.94L8.5 2.5l-.94 2.06-2.06.94zm10 10l.94 2.06.94-2.06 2.06-.94-2.06-.94-.94-2.06-.94 2.06-2.06.94z\"/><path d=\"M17.41 7.96l-1.37-1.37c-.4-.4-.92-.59-1.43-.59-.52 0-1.04.2-1.43.59L10.3 9.45l-7.72 7.72c-.78.78-.78 2.05 0 2.83L4 21.41c.39.39.9.59 1.41.59.51 0 1.02-.2 1.41-.59l7.78-7.78 2.81-2.81c.8-.78.8-2.07 0-2.86zM5.41 20L4 18.59l7.72-7.72 1.47 1.35L5.41 20z\"/>\n",
              "  </svg>\n",
              "      </button>\n",
              "      \n",
              "  <style>\n",
              "    .colab-df-container {\n",
              "      display:flex;\n",
              "      flex-wrap:wrap;\n",
              "      gap: 12px;\n",
              "    }\n",
              "\n",
              "    .colab-df-convert {\n",
              "      background-color: #E8F0FE;\n",
              "      border: none;\n",
              "      border-radius: 50%;\n",
              "      cursor: pointer;\n",
              "      display: none;\n",
              "      fill: #1967D2;\n",
              "      height: 32px;\n",
              "      padding: 0 0 0 0;\n",
              "      width: 32px;\n",
              "    }\n",
              "\n",
              "    .colab-df-convert:hover {\n",
              "      background-color: #E2EBFA;\n",
              "      box-shadow: 0px 1px 2px rgba(60, 64, 67, 0.3), 0px 1px 3px 1px rgba(60, 64, 67, 0.15);\n",
              "      fill: #174EA6;\n",
              "    }\n",
              "\n",
              "    [theme=dark] .colab-df-convert {\n",
              "      background-color: #3B4455;\n",
              "      fill: #D2E3FC;\n",
              "    }\n",
              "\n",
              "    [theme=dark] .colab-df-convert:hover {\n",
              "      background-color: #434B5C;\n",
              "      box-shadow: 0px 1px 3px 1px rgba(0, 0, 0, 0.15);\n",
              "      filter: drop-shadow(0px 1px 2px rgba(0, 0, 0, 0.3));\n",
              "      fill: #FFFFFF;\n",
              "    }\n",
              "  </style>\n",
              "\n",
              "      <script>\n",
              "        const buttonEl =\n",
              "          document.querySelector('#df-aa22f43f-90c4-4878-9d75-992a2b5e45aa button.colab-df-convert');\n",
              "        buttonEl.style.display =\n",
              "          google.colab.kernel.accessAllowed ? 'block' : 'none';\n",
              "\n",
              "        async function convertToInteractive(key) {\n",
              "          const element = document.querySelector('#df-aa22f43f-90c4-4878-9d75-992a2b5e45aa');\n",
              "          const dataTable =\n",
              "            await google.colab.kernel.invokeFunction('convertToInteractive',\n",
              "                                                     [key], {});\n",
              "          if (!dataTable) return;\n",
              "\n",
              "          const docLinkHtml = 'Like what you see? Visit the ' +\n",
              "            '<a target=\"_blank\" href=https://colab.research.google.com/notebooks/data_table.ipynb>data table notebook</a>'\n",
              "            + ' to learn more about interactive tables.';\n",
              "          element.innerHTML = '';\n",
              "          dataTable['output_type'] = 'display_data';\n",
              "          await google.colab.output.renderOutput(dataTable, element);\n",
              "          const docLink = document.createElement('div');\n",
              "          docLink.innerHTML = docLinkHtml;\n",
              "          element.appendChild(docLink);\n",
              "        }\n",
              "      </script>\n",
              "    </div>\n",
              "  </div>\n",
              "  "
            ]
          },
          "metadata": {},
          "execution_count": 57
        }
      ],
      "source": [
        "df = pd.read_csv(\"/content/bike-sharing.csv\")\n",
        "df.head(2)"
      ]
    },
    {
      "cell_type": "code",
      "execution_count": null,
      "metadata": {
        "colab": {
          "base_uri": "https://localhost:8080/",
          "height": 424
        },
        "id": "xtv0WigZJm2w",
        "outputId": "b9346025-f5b4-463e-d2c9-7efa34dcbf0b"
      },
      "outputs": [
        {
          "output_type": "execute_result",
          "data": {
            "text/plain": [
              "         datetime  rec_id  season  year  month  hour  is_holiday  weekday  \\\n",
              "0      2011-01-01       1       1     0      1     0           0        6   \n",
              "1      2011-01-01       2       1     0      1     1           0        6   \n",
              "2      2011-01-01       3       1     0      1     2           0        6   \n",
              "3      2011-01-01       4       1     0      1     3           0        6   \n",
              "4      2011-01-01       5       1     0      1     4           0        6   \n",
              "...           ...     ...     ...   ...    ...   ...         ...      ...   \n",
              "17374  2012-12-31   17375       1     1     12    19           0        1   \n",
              "17375  2012-12-31   17376       1     1     12    20           0        1   \n",
              "17376  2012-12-31   17377       1     1     12    21           0        1   \n",
              "17377  2012-12-31   17378       1     1     12    22           0        1   \n",
              "17378  2012-12-31   17379       1     1     12    23           0        1   \n",
              "\n",
              "       is_workingday  weather_condition  temp   atemp  humidity  windspeed  \\\n",
              "0                  0                  1  0.24  0.2879      0.81     0.0000   \n",
              "1                  0                  1  0.22  0.2727      0.80     0.0000   \n",
              "2                  0                  1  0.22  0.2727      0.80     0.0000   \n",
              "3                  0                  1  0.24  0.2879      0.75     0.0000   \n",
              "4                  0                  1  0.24  0.2879      0.75     0.0000   \n",
              "...              ...                ...   ...     ...       ...        ...   \n",
              "17374              1                  2  0.26  0.2576      0.60     0.1642   \n",
              "17375              1                  2  0.26  0.2576      0.60     0.1642   \n",
              "17376              1                  1  0.26  0.2576      0.60     0.1642   \n",
              "17377              1                  1  0.26  0.2727      0.56     0.1343   \n",
              "17378              1                  1  0.26  0.2727      0.65     0.1343   \n",
              "\n",
              "       casual  registered  total_count  \n",
              "0           3          13           16  \n",
              "1           8          32           40  \n",
              "2           5          27           32  \n",
              "3           3          10           13  \n",
              "4           0           1            1  \n",
              "...       ...         ...          ...  \n",
              "17374      11         108          119  \n",
              "17375       8          81           89  \n",
              "17376       7          83           90  \n",
              "17377      13          48           61  \n",
              "17378      12          37           49  \n",
              "\n",
              "[17379 rows x 17 columns]"
            ],
            "text/html": [
              "\n",
              "  <div id=\"df-507a449b-4c09-4467-9acc-8cc850e5a02c\">\n",
              "    <div class=\"colab-df-container\">\n",
              "      <div>\n",
              "<style scoped>\n",
              "    .dataframe tbody tr th:only-of-type {\n",
              "        vertical-align: middle;\n",
              "    }\n",
              "\n",
              "    .dataframe tbody tr th {\n",
              "        vertical-align: top;\n",
              "    }\n",
              "\n",
              "    .dataframe thead th {\n",
              "        text-align: right;\n",
              "    }\n",
              "</style>\n",
              "<table border=\"1\" class=\"dataframe\">\n",
              "  <thead>\n",
              "    <tr style=\"text-align: right;\">\n",
              "      <th></th>\n",
              "      <th>datetime</th>\n",
              "      <th>rec_id</th>\n",
              "      <th>season</th>\n",
              "      <th>year</th>\n",
              "      <th>month</th>\n",
              "      <th>hour</th>\n",
              "      <th>is_holiday</th>\n",
              "      <th>weekday</th>\n",
              "      <th>is_workingday</th>\n",
              "      <th>weather_condition</th>\n",
              "      <th>temp</th>\n",
              "      <th>atemp</th>\n",
              "      <th>humidity</th>\n",
              "      <th>windspeed</th>\n",
              "      <th>casual</th>\n",
              "      <th>registered</th>\n",
              "      <th>total_count</th>\n",
              "    </tr>\n",
              "  </thead>\n",
              "  <tbody>\n",
              "    <tr>\n",
              "      <th>0</th>\n",
              "      <td>2011-01-01</td>\n",
              "      <td>1</td>\n",
              "      <td>1</td>\n",
              "      <td>0</td>\n",
              "      <td>1</td>\n",
              "      <td>0</td>\n",
              "      <td>0</td>\n",
              "      <td>6</td>\n",
              "      <td>0</td>\n",
              "      <td>1</td>\n",
              "      <td>0.24</td>\n",
              "      <td>0.2879</td>\n",
              "      <td>0.81</td>\n",
              "      <td>0.0000</td>\n",
              "      <td>3</td>\n",
              "      <td>13</td>\n",
              "      <td>16</td>\n",
              "    </tr>\n",
              "    <tr>\n",
              "      <th>1</th>\n",
              "      <td>2011-01-01</td>\n",
              "      <td>2</td>\n",
              "      <td>1</td>\n",
              "      <td>0</td>\n",
              "      <td>1</td>\n",
              "      <td>1</td>\n",
              "      <td>0</td>\n",
              "      <td>6</td>\n",
              "      <td>0</td>\n",
              "      <td>1</td>\n",
              "      <td>0.22</td>\n",
              "      <td>0.2727</td>\n",
              "      <td>0.80</td>\n",
              "      <td>0.0000</td>\n",
              "      <td>8</td>\n",
              "      <td>32</td>\n",
              "      <td>40</td>\n",
              "    </tr>\n",
              "    <tr>\n",
              "      <th>2</th>\n",
              "      <td>2011-01-01</td>\n",
              "      <td>3</td>\n",
              "      <td>1</td>\n",
              "      <td>0</td>\n",
              "      <td>1</td>\n",
              "      <td>2</td>\n",
              "      <td>0</td>\n",
              "      <td>6</td>\n",
              "      <td>0</td>\n",
              "      <td>1</td>\n",
              "      <td>0.22</td>\n",
              "      <td>0.2727</td>\n",
              "      <td>0.80</td>\n",
              "      <td>0.0000</td>\n",
              "      <td>5</td>\n",
              "      <td>27</td>\n",
              "      <td>32</td>\n",
              "    </tr>\n",
              "    <tr>\n",
              "      <th>3</th>\n",
              "      <td>2011-01-01</td>\n",
              "      <td>4</td>\n",
              "      <td>1</td>\n",
              "      <td>0</td>\n",
              "      <td>1</td>\n",
              "      <td>3</td>\n",
              "      <td>0</td>\n",
              "      <td>6</td>\n",
              "      <td>0</td>\n",
              "      <td>1</td>\n",
              "      <td>0.24</td>\n",
              "      <td>0.2879</td>\n",
              "      <td>0.75</td>\n",
              "      <td>0.0000</td>\n",
              "      <td>3</td>\n",
              "      <td>10</td>\n",
              "      <td>13</td>\n",
              "    </tr>\n",
              "    <tr>\n",
              "      <th>4</th>\n",
              "      <td>2011-01-01</td>\n",
              "      <td>5</td>\n",
              "      <td>1</td>\n",
              "      <td>0</td>\n",
              "      <td>1</td>\n",
              "      <td>4</td>\n",
              "      <td>0</td>\n",
              "      <td>6</td>\n",
              "      <td>0</td>\n",
              "      <td>1</td>\n",
              "      <td>0.24</td>\n",
              "      <td>0.2879</td>\n",
              "      <td>0.75</td>\n",
              "      <td>0.0000</td>\n",
              "      <td>0</td>\n",
              "      <td>1</td>\n",
              "      <td>1</td>\n",
              "    </tr>\n",
              "    <tr>\n",
              "      <th>...</th>\n",
              "      <td>...</td>\n",
              "      <td>...</td>\n",
              "      <td>...</td>\n",
              "      <td>...</td>\n",
              "      <td>...</td>\n",
              "      <td>...</td>\n",
              "      <td>...</td>\n",
              "      <td>...</td>\n",
              "      <td>...</td>\n",
              "      <td>...</td>\n",
              "      <td>...</td>\n",
              "      <td>...</td>\n",
              "      <td>...</td>\n",
              "      <td>...</td>\n",
              "      <td>...</td>\n",
              "      <td>...</td>\n",
              "      <td>...</td>\n",
              "    </tr>\n",
              "    <tr>\n",
              "      <th>17374</th>\n",
              "      <td>2012-12-31</td>\n",
              "      <td>17375</td>\n",
              "      <td>1</td>\n",
              "      <td>1</td>\n",
              "      <td>12</td>\n",
              "      <td>19</td>\n",
              "      <td>0</td>\n",
              "      <td>1</td>\n",
              "      <td>1</td>\n",
              "      <td>2</td>\n",
              "      <td>0.26</td>\n",
              "      <td>0.2576</td>\n",
              "      <td>0.60</td>\n",
              "      <td>0.1642</td>\n",
              "      <td>11</td>\n",
              "      <td>108</td>\n",
              "      <td>119</td>\n",
              "    </tr>\n",
              "    <tr>\n",
              "      <th>17375</th>\n",
              "      <td>2012-12-31</td>\n",
              "      <td>17376</td>\n",
              "      <td>1</td>\n",
              "      <td>1</td>\n",
              "      <td>12</td>\n",
              "      <td>20</td>\n",
              "      <td>0</td>\n",
              "      <td>1</td>\n",
              "      <td>1</td>\n",
              "      <td>2</td>\n",
              "      <td>0.26</td>\n",
              "      <td>0.2576</td>\n",
              "      <td>0.60</td>\n",
              "      <td>0.1642</td>\n",
              "      <td>8</td>\n",
              "      <td>81</td>\n",
              "      <td>89</td>\n",
              "    </tr>\n",
              "    <tr>\n",
              "      <th>17376</th>\n",
              "      <td>2012-12-31</td>\n",
              "      <td>17377</td>\n",
              "      <td>1</td>\n",
              "      <td>1</td>\n",
              "      <td>12</td>\n",
              "      <td>21</td>\n",
              "      <td>0</td>\n",
              "      <td>1</td>\n",
              "      <td>1</td>\n",
              "      <td>1</td>\n",
              "      <td>0.26</td>\n",
              "      <td>0.2576</td>\n",
              "      <td>0.60</td>\n",
              "      <td>0.1642</td>\n",
              "      <td>7</td>\n",
              "      <td>83</td>\n",
              "      <td>90</td>\n",
              "    </tr>\n",
              "    <tr>\n",
              "      <th>17377</th>\n",
              "      <td>2012-12-31</td>\n",
              "      <td>17378</td>\n",
              "      <td>1</td>\n",
              "      <td>1</td>\n",
              "      <td>12</td>\n",
              "      <td>22</td>\n",
              "      <td>0</td>\n",
              "      <td>1</td>\n",
              "      <td>1</td>\n",
              "      <td>1</td>\n",
              "      <td>0.26</td>\n",
              "      <td>0.2727</td>\n",
              "      <td>0.56</td>\n",
              "      <td>0.1343</td>\n",
              "      <td>13</td>\n",
              "      <td>48</td>\n",
              "      <td>61</td>\n",
              "    </tr>\n",
              "    <tr>\n",
              "      <th>17378</th>\n",
              "      <td>2012-12-31</td>\n",
              "      <td>17379</td>\n",
              "      <td>1</td>\n",
              "      <td>1</td>\n",
              "      <td>12</td>\n",
              "      <td>23</td>\n",
              "      <td>0</td>\n",
              "      <td>1</td>\n",
              "      <td>1</td>\n",
              "      <td>1</td>\n",
              "      <td>0.26</td>\n",
              "      <td>0.2727</td>\n",
              "      <td>0.65</td>\n",
              "      <td>0.1343</td>\n",
              "      <td>12</td>\n",
              "      <td>37</td>\n",
              "      <td>49</td>\n",
              "    </tr>\n",
              "  </tbody>\n",
              "</table>\n",
              "<p>17379 rows × 17 columns</p>\n",
              "</div>\n",
              "      <button class=\"colab-df-convert\" onclick=\"convertToInteractive('df-507a449b-4c09-4467-9acc-8cc850e5a02c')\"\n",
              "              title=\"Convert this dataframe to an interactive table.\"\n",
              "              style=\"display:none;\">\n",
              "        \n",
              "  <svg xmlns=\"http://www.w3.org/2000/svg\" height=\"24px\"viewBox=\"0 0 24 24\"\n",
              "       width=\"24px\">\n",
              "    <path d=\"M0 0h24v24H0V0z\" fill=\"none\"/>\n",
              "    <path d=\"M18.56 5.44l.94 2.06.94-2.06 2.06-.94-2.06-.94-.94-2.06-.94 2.06-2.06.94zm-11 1L8.5 8.5l.94-2.06 2.06-.94-2.06-.94L8.5 2.5l-.94 2.06-2.06.94zm10 10l.94 2.06.94-2.06 2.06-.94-2.06-.94-.94-2.06-.94 2.06-2.06.94z\"/><path d=\"M17.41 7.96l-1.37-1.37c-.4-.4-.92-.59-1.43-.59-.52 0-1.04.2-1.43.59L10.3 9.45l-7.72 7.72c-.78.78-.78 2.05 0 2.83L4 21.41c.39.39.9.59 1.41.59.51 0 1.02-.2 1.41-.59l7.78-7.78 2.81-2.81c.8-.78.8-2.07 0-2.86zM5.41 20L4 18.59l7.72-7.72 1.47 1.35L5.41 20z\"/>\n",
              "  </svg>\n",
              "      </button>\n",
              "      \n",
              "  <style>\n",
              "    .colab-df-container {\n",
              "      display:flex;\n",
              "      flex-wrap:wrap;\n",
              "      gap: 12px;\n",
              "    }\n",
              "\n",
              "    .colab-df-convert {\n",
              "      background-color: #E8F0FE;\n",
              "      border: none;\n",
              "      border-radius: 50%;\n",
              "      cursor: pointer;\n",
              "      display: none;\n",
              "      fill: #1967D2;\n",
              "      height: 32px;\n",
              "      padding: 0 0 0 0;\n",
              "      width: 32px;\n",
              "    }\n",
              "\n",
              "    .colab-df-convert:hover {\n",
              "      background-color: #E2EBFA;\n",
              "      box-shadow: 0px 1px 2px rgba(60, 64, 67, 0.3), 0px 1px 3px 1px rgba(60, 64, 67, 0.15);\n",
              "      fill: #174EA6;\n",
              "    }\n",
              "\n",
              "    [theme=dark] .colab-df-convert {\n",
              "      background-color: #3B4455;\n",
              "      fill: #D2E3FC;\n",
              "    }\n",
              "\n",
              "    [theme=dark] .colab-df-convert:hover {\n",
              "      background-color: #434B5C;\n",
              "      box-shadow: 0px 1px 3px 1px rgba(0, 0, 0, 0.15);\n",
              "      filter: drop-shadow(0px 1px 2px rgba(0, 0, 0, 0.3));\n",
              "      fill: #FFFFFF;\n",
              "    }\n",
              "  </style>\n",
              "\n",
              "      <script>\n",
              "        const buttonEl =\n",
              "          document.querySelector('#df-507a449b-4c09-4467-9acc-8cc850e5a02c button.colab-df-convert');\n",
              "        buttonEl.style.display =\n",
              "          google.colab.kernel.accessAllowed ? 'block' : 'none';\n",
              "\n",
              "        async function convertToInteractive(key) {\n",
              "          const element = document.querySelector('#df-507a449b-4c09-4467-9acc-8cc850e5a02c');\n",
              "          const dataTable =\n",
              "            await google.colab.kernel.invokeFunction('convertToInteractive',\n",
              "                                                     [key], {});\n",
              "          if (!dataTable) return;\n",
              "\n",
              "          const docLinkHtml = 'Like what you see? Visit the ' +\n",
              "            '<a target=\"_blank\" href=https://colab.research.google.com/notebooks/data_table.ipynb>data table notebook</a>'\n",
              "            + ' to learn more about interactive tables.';\n",
              "          element.innerHTML = '';\n",
              "          dataTable['output_type'] = 'display_data';\n",
              "          await google.colab.output.renderOutput(dataTable, element);\n",
              "          const docLink = document.createElement('div');\n",
              "          docLink.innerHTML = docLinkHtml;\n",
              "          element.appendChild(docLink);\n",
              "        }\n",
              "      </script>\n",
              "    </div>\n",
              "  </div>\n",
              "  "
            ]
          },
          "metadata": {},
          "execution_count": 3
        }
      ],
      "source": [
        "df"
      ]
    },
    {
      "cell_type": "code",
      "execution_count": null,
      "metadata": {
        "colab": {
          "base_uri": "https://localhost:8080/"
        },
        "id": "PI1VsVVqMINu",
        "outputId": "90bd7f06-a6a9-4804-fb0c-25b2c60f265b"
      },
      "outputs": [
        {
          "output_type": "execute_result",
          "data": {
            "text/plain": [
              "Index(['datetime', 'rec_id', 'season', 'year', 'month', 'hour', 'is_holiday',\n",
              "       'weekday', 'is_workingday', 'weather_condition', 'temp', 'atemp',\n",
              "       'humidity', 'windspeed', 'casual', 'registered', 'total_count'],\n",
              "      dtype='object')"
            ]
          },
          "metadata": {},
          "execution_count": 4
        }
      ],
      "source": [
        "df.columns"
      ]
    },
    {
      "cell_type": "code",
      "execution_count": null,
      "metadata": {
        "colab": {
          "base_uri": "https://localhost:8080/"
        },
        "id": "a1NgkLnzJuG_",
        "outputId": "bff88355-7cc9-403e-c594-bce2a0b27308"
      },
      "outputs": [
        {
          "output_type": "execute_result",
          "data": {
            "text/plain": [
              "0.19009760630646177"
            ]
          },
          "metadata": {},
          "execution_count": 5
        }
      ],
      "source": [
        "df['windspeed'].mean()"
      ]
    },
    {
      "cell_type": "code",
      "execution_count": null,
      "metadata": {
        "colab": {
          "base_uri": "https://localhost:8080/"
        },
        "id": "f2cyQgX3J5CF",
        "outputId": "a9802f2c-512b-45d8-a988-9888f10b6b12"
      },
      "outputs": [
        {
          "output_type": "execute_result",
          "data": {
            "text/plain": [
              "0.4969871684216583"
            ]
          },
          "metadata": {},
          "execution_count": 6
        }
      ],
      "source": [
        "df['temp'].mean()"
      ]
    },
    {
      "cell_type": "code",
      "execution_count": null,
      "metadata": {
        "colab": {
          "base_uri": "https://localhost:8080/"
        },
        "id": "_EnQqmJSJ9YI",
        "outputId": "8068c5ba-f813-4fbf-ccff-108119b86d24"
      },
      "outputs": [
        {
          "output_type": "execute_result",
          "data": {
            "text/plain": [
              "count          17379\n",
              "unique           731\n",
              "top       2011-01-01\n",
              "freq              24\n",
              "Name: datetime, dtype: object"
            ]
          },
          "metadata": {},
          "execution_count": 7
        }
      ],
      "source": [
        "df['datetime'].describe()"
      ]
    },
    {
      "cell_type": "code",
      "source": [
        "df.sort_values(by=['total_count', 'datetime'], ascending = False)"
      ],
      "metadata": {
        "colab": {
          "base_uri": "https://localhost:8080/",
          "height": 424
        },
        "id": "qECxuh2Tx4Hg",
        "outputId": "00a2706d-4ed3-450a-8bff-c7c17da3b423"
      },
      "execution_count": null,
      "outputs": [
        {
          "output_type": "execute_result",
          "data": {
            "text/plain": [
              "         datetime  rec_id  season  year  month  hour  is_holiday  weekday  \\\n",
              "14773  2012-09-12   14774       3     1      9    18           0        3   \n",
              "14964  2012-09-20   14965       3     1      9    17           0        4   \n",
              "14748  2012-09-11   14749       3     1      9    17           0        2   \n",
              "14725  2012-09-10   14726       3     1      9    18           0        1   \n",
              "15084  2012-09-25   15085       4     1      9    17           0        2   \n",
              "...           ...     ...     ...   ...    ...   ...         ...      ...   \n",
              "71     2011-01-04      72       1     0      1     2           0        2   \n",
              "49     2011-01-03      50       1     0      1     4           0        1   \n",
              "30     2011-01-02      31       1     0      1     7           0        0   \n",
              "4      2011-01-01       5       1     0      1     4           0        6   \n",
              "5      2011-01-01       6       1     0      1     5           0        6   \n",
              "\n",
              "       is_workingday  weather_condition  temp   atemp  humidity  windspeed  \\\n",
              "14773              1                  1  0.66  0.6212      0.44     0.2537   \n",
              "14964              1                  1  0.64  0.6212      0.50     0.2239   \n",
              "14748              1                  1  0.70  0.6364      0.28     0.0000   \n",
              "14725              1                  1  0.62  0.6212      0.35     0.2985   \n",
              "15084              1                  1  0.66  0.6212      0.39     0.2836   \n",
              "...              ...                ...   ...     ...       ...        ...   \n",
              "71                 1                  1  0.14  0.1515      0.63     0.1343   \n",
              "49                 1                  1  0.16  0.1364      0.47     0.3881   \n",
              "30                 0                  2  0.40  0.4091      0.76     0.1940   \n",
              "4                  0                  1  0.24  0.2879      0.75     0.0000   \n",
              "5                  0                  2  0.24  0.2576      0.75     0.0896   \n",
              "\n",
              "       casual  registered  total_count  \n",
              "14773      91         886          977  \n",
              "14964      91         885          976  \n",
              "14748     168         802          970  \n",
              "14725     111         857          968  \n",
              "15084     107         860          967  \n",
              "...       ...         ...          ...  \n",
              "71          0           1            1  \n",
              "49          0           1            1  \n",
              "30          0           1            1  \n",
              "4           0           1            1  \n",
              "5           0           1            1  \n",
              "\n",
              "[17379 rows x 17 columns]"
            ],
            "text/html": [
              "\n",
              "  <div id=\"df-80aa5fdf-a642-4270-a09f-e78c648fd528\">\n",
              "    <div class=\"colab-df-container\">\n",
              "      <div>\n",
              "<style scoped>\n",
              "    .dataframe tbody tr th:only-of-type {\n",
              "        vertical-align: middle;\n",
              "    }\n",
              "\n",
              "    .dataframe tbody tr th {\n",
              "        vertical-align: top;\n",
              "    }\n",
              "\n",
              "    .dataframe thead th {\n",
              "        text-align: right;\n",
              "    }\n",
              "</style>\n",
              "<table border=\"1\" class=\"dataframe\">\n",
              "  <thead>\n",
              "    <tr style=\"text-align: right;\">\n",
              "      <th></th>\n",
              "      <th>datetime</th>\n",
              "      <th>rec_id</th>\n",
              "      <th>season</th>\n",
              "      <th>year</th>\n",
              "      <th>month</th>\n",
              "      <th>hour</th>\n",
              "      <th>is_holiday</th>\n",
              "      <th>weekday</th>\n",
              "      <th>is_workingday</th>\n",
              "      <th>weather_condition</th>\n",
              "      <th>temp</th>\n",
              "      <th>atemp</th>\n",
              "      <th>humidity</th>\n",
              "      <th>windspeed</th>\n",
              "      <th>casual</th>\n",
              "      <th>registered</th>\n",
              "      <th>total_count</th>\n",
              "    </tr>\n",
              "  </thead>\n",
              "  <tbody>\n",
              "    <tr>\n",
              "      <th>14773</th>\n",
              "      <td>2012-09-12</td>\n",
              "      <td>14774</td>\n",
              "      <td>3</td>\n",
              "      <td>1</td>\n",
              "      <td>9</td>\n",
              "      <td>18</td>\n",
              "      <td>0</td>\n",
              "      <td>3</td>\n",
              "      <td>1</td>\n",
              "      <td>1</td>\n",
              "      <td>0.66</td>\n",
              "      <td>0.6212</td>\n",
              "      <td>0.44</td>\n",
              "      <td>0.2537</td>\n",
              "      <td>91</td>\n",
              "      <td>886</td>\n",
              "      <td>977</td>\n",
              "    </tr>\n",
              "    <tr>\n",
              "      <th>14964</th>\n",
              "      <td>2012-09-20</td>\n",
              "      <td>14965</td>\n",
              "      <td>3</td>\n",
              "      <td>1</td>\n",
              "      <td>9</td>\n",
              "      <td>17</td>\n",
              "      <td>0</td>\n",
              "      <td>4</td>\n",
              "      <td>1</td>\n",
              "      <td>1</td>\n",
              "      <td>0.64</td>\n",
              "      <td>0.6212</td>\n",
              "      <td>0.50</td>\n",
              "      <td>0.2239</td>\n",
              "      <td>91</td>\n",
              "      <td>885</td>\n",
              "      <td>976</td>\n",
              "    </tr>\n",
              "    <tr>\n",
              "      <th>14748</th>\n",
              "      <td>2012-09-11</td>\n",
              "      <td>14749</td>\n",
              "      <td>3</td>\n",
              "      <td>1</td>\n",
              "      <td>9</td>\n",
              "      <td>17</td>\n",
              "      <td>0</td>\n",
              "      <td>2</td>\n",
              "      <td>1</td>\n",
              "      <td>1</td>\n",
              "      <td>0.70</td>\n",
              "      <td>0.6364</td>\n",
              "      <td>0.28</td>\n",
              "      <td>0.0000</td>\n",
              "      <td>168</td>\n",
              "      <td>802</td>\n",
              "      <td>970</td>\n",
              "    </tr>\n",
              "    <tr>\n",
              "      <th>14725</th>\n",
              "      <td>2012-09-10</td>\n",
              "      <td>14726</td>\n",
              "      <td>3</td>\n",
              "      <td>1</td>\n",
              "      <td>9</td>\n",
              "      <td>18</td>\n",
              "      <td>0</td>\n",
              "      <td>1</td>\n",
              "      <td>1</td>\n",
              "      <td>1</td>\n",
              "      <td>0.62</td>\n",
              "      <td>0.6212</td>\n",
              "      <td>0.35</td>\n",
              "      <td>0.2985</td>\n",
              "      <td>111</td>\n",
              "      <td>857</td>\n",
              "      <td>968</td>\n",
              "    </tr>\n",
              "    <tr>\n",
              "      <th>15084</th>\n",
              "      <td>2012-09-25</td>\n",
              "      <td>15085</td>\n",
              "      <td>4</td>\n",
              "      <td>1</td>\n",
              "      <td>9</td>\n",
              "      <td>17</td>\n",
              "      <td>0</td>\n",
              "      <td>2</td>\n",
              "      <td>1</td>\n",
              "      <td>1</td>\n",
              "      <td>0.66</td>\n",
              "      <td>0.6212</td>\n",
              "      <td>0.39</td>\n",
              "      <td>0.2836</td>\n",
              "      <td>107</td>\n",
              "      <td>860</td>\n",
              "      <td>967</td>\n",
              "    </tr>\n",
              "    <tr>\n",
              "      <th>...</th>\n",
              "      <td>...</td>\n",
              "      <td>...</td>\n",
              "      <td>...</td>\n",
              "      <td>...</td>\n",
              "      <td>...</td>\n",
              "      <td>...</td>\n",
              "      <td>...</td>\n",
              "      <td>...</td>\n",
              "      <td>...</td>\n",
              "      <td>...</td>\n",
              "      <td>...</td>\n",
              "      <td>...</td>\n",
              "      <td>...</td>\n",
              "      <td>...</td>\n",
              "      <td>...</td>\n",
              "      <td>...</td>\n",
              "      <td>...</td>\n",
              "    </tr>\n",
              "    <tr>\n",
              "      <th>71</th>\n",
              "      <td>2011-01-04</td>\n",
              "      <td>72</td>\n",
              "      <td>1</td>\n",
              "      <td>0</td>\n",
              "      <td>1</td>\n",
              "      <td>2</td>\n",
              "      <td>0</td>\n",
              "      <td>2</td>\n",
              "      <td>1</td>\n",
              "      <td>1</td>\n",
              "      <td>0.14</td>\n",
              "      <td>0.1515</td>\n",
              "      <td>0.63</td>\n",
              "      <td>0.1343</td>\n",
              "      <td>0</td>\n",
              "      <td>1</td>\n",
              "      <td>1</td>\n",
              "    </tr>\n",
              "    <tr>\n",
              "      <th>49</th>\n",
              "      <td>2011-01-03</td>\n",
              "      <td>50</td>\n",
              "      <td>1</td>\n",
              "      <td>0</td>\n",
              "      <td>1</td>\n",
              "      <td>4</td>\n",
              "      <td>0</td>\n",
              "      <td>1</td>\n",
              "      <td>1</td>\n",
              "      <td>1</td>\n",
              "      <td>0.16</td>\n",
              "      <td>0.1364</td>\n",
              "      <td>0.47</td>\n",
              "      <td>0.3881</td>\n",
              "      <td>0</td>\n",
              "      <td>1</td>\n",
              "      <td>1</td>\n",
              "    </tr>\n",
              "    <tr>\n",
              "      <th>30</th>\n",
              "      <td>2011-01-02</td>\n",
              "      <td>31</td>\n",
              "      <td>1</td>\n",
              "      <td>0</td>\n",
              "      <td>1</td>\n",
              "      <td>7</td>\n",
              "      <td>0</td>\n",
              "      <td>0</td>\n",
              "      <td>0</td>\n",
              "      <td>2</td>\n",
              "      <td>0.40</td>\n",
              "      <td>0.4091</td>\n",
              "      <td>0.76</td>\n",
              "      <td>0.1940</td>\n",
              "      <td>0</td>\n",
              "      <td>1</td>\n",
              "      <td>1</td>\n",
              "    </tr>\n",
              "    <tr>\n",
              "      <th>4</th>\n",
              "      <td>2011-01-01</td>\n",
              "      <td>5</td>\n",
              "      <td>1</td>\n",
              "      <td>0</td>\n",
              "      <td>1</td>\n",
              "      <td>4</td>\n",
              "      <td>0</td>\n",
              "      <td>6</td>\n",
              "      <td>0</td>\n",
              "      <td>1</td>\n",
              "      <td>0.24</td>\n",
              "      <td>0.2879</td>\n",
              "      <td>0.75</td>\n",
              "      <td>0.0000</td>\n",
              "      <td>0</td>\n",
              "      <td>1</td>\n",
              "      <td>1</td>\n",
              "    </tr>\n",
              "    <tr>\n",
              "      <th>5</th>\n",
              "      <td>2011-01-01</td>\n",
              "      <td>6</td>\n",
              "      <td>1</td>\n",
              "      <td>0</td>\n",
              "      <td>1</td>\n",
              "      <td>5</td>\n",
              "      <td>0</td>\n",
              "      <td>6</td>\n",
              "      <td>0</td>\n",
              "      <td>2</td>\n",
              "      <td>0.24</td>\n",
              "      <td>0.2576</td>\n",
              "      <td>0.75</td>\n",
              "      <td>0.0896</td>\n",
              "      <td>0</td>\n",
              "      <td>1</td>\n",
              "      <td>1</td>\n",
              "    </tr>\n",
              "  </tbody>\n",
              "</table>\n",
              "<p>17379 rows × 17 columns</p>\n",
              "</div>\n",
              "      <button class=\"colab-df-convert\" onclick=\"convertToInteractive('df-80aa5fdf-a642-4270-a09f-e78c648fd528')\"\n",
              "              title=\"Convert this dataframe to an interactive table.\"\n",
              "              style=\"display:none;\">\n",
              "        \n",
              "  <svg xmlns=\"http://www.w3.org/2000/svg\" height=\"24px\"viewBox=\"0 0 24 24\"\n",
              "       width=\"24px\">\n",
              "    <path d=\"M0 0h24v24H0V0z\" fill=\"none\"/>\n",
              "    <path d=\"M18.56 5.44l.94 2.06.94-2.06 2.06-.94-2.06-.94-.94-2.06-.94 2.06-2.06.94zm-11 1L8.5 8.5l.94-2.06 2.06-.94-2.06-.94L8.5 2.5l-.94 2.06-2.06.94zm10 10l.94 2.06.94-2.06 2.06-.94-2.06-.94-.94-2.06-.94 2.06-2.06.94z\"/><path d=\"M17.41 7.96l-1.37-1.37c-.4-.4-.92-.59-1.43-.59-.52 0-1.04.2-1.43.59L10.3 9.45l-7.72 7.72c-.78.78-.78 2.05 0 2.83L4 21.41c.39.39.9.59 1.41.59.51 0 1.02-.2 1.41-.59l7.78-7.78 2.81-2.81c.8-.78.8-2.07 0-2.86zM5.41 20L4 18.59l7.72-7.72 1.47 1.35L5.41 20z\"/>\n",
              "  </svg>\n",
              "      </button>\n",
              "      \n",
              "  <style>\n",
              "    .colab-df-container {\n",
              "      display:flex;\n",
              "      flex-wrap:wrap;\n",
              "      gap: 12px;\n",
              "    }\n",
              "\n",
              "    .colab-df-convert {\n",
              "      background-color: #E8F0FE;\n",
              "      border: none;\n",
              "      border-radius: 50%;\n",
              "      cursor: pointer;\n",
              "      display: none;\n",
              "      fill: #1967D2;\n",
              "      height: 32px;\n",
              "      padding: 0 0 0 0;\n",
              "      width: 32px;\n",
              "    }\n",
              "\n",
              "    .colab-df-convert:hover {\n",
              "      background-color: #E2EBFA;\n",
              "      box-shadow: 0px 1px 2px rgba(60, 64, 67, 0.3), 0px 1px 3px 1px rgba(60, 64, 67, 0.15);\n",
              "      fill: #174EA6;\n",
              "    }\n",
              "\n",
              "    [theme=dark] .colab-df-convert {\n",
              "      background-color: #3B4455;\n",
              "      fill: #D2E3FC;\n",
              "    }\n",
              "\n",
              "    [theme=dark] .colab-df-convert:hover {\n",
              "      background-color: #434B5C;\n",
              "      box-shadow: 0px 1px 3px 1px rgba(0, 0, 0, 0.15);\n",
              "      filter: drop-shadow(0px 1px 2px rgba(0, 0, 0, 0.3));\n",
              "      fill: #FFFFFF;\n",
              "    }\n",
              "  </style>\n",
              "\n",
              "      <script>\n",
              "        const buttonEl =\n",
              "          document.querySelector('#df-80aa5fdf-a642-4270-a09f-e78c648fd528 button.colab-df-convert');\n",
              "        buttonEl.style.display =\n",
              "          google.colab.kernel.accessAllowed ? 'block' : 'none';\n",
              "\n",
              "        async function convertToInteractive(key) {\n",
              "          const element = document.querySelector('#df-80aa5fdf-a642-4270-a09f-e78c648fd528');\n",
              "          const dataTable =\n",
              "            await google.colab.kernel.invokeFunction('convertToInteractive',\n",
              "                                                     [key], {});\n",
              "          if (!dataTable) return;\n",
              "\n",
              "          const docLinkHtml = 'Like what you see? Visit the ' +\n",
              "            '<a target=\"_blank\" href=https://colab.research.google.com/notebooks/data_table.ipynb>data table notebook</a>'\n",
              "            + ' to learn more about interactive tables.';\n",
              "          element.innerHTML = '';\n",
              "          dataTable['output_type'] = 'display_data';\n",
              "          await google.colab.output.renderOutput(dataTable, element);\n",
              "          const docLink = document.createElement('div');\n",
              "          docLink.innerHTML = docLinkHtml;\n",
              "          element.appendChild(docLink);\n",
              "        }\n",
              "      </script>\n",
              "    </div>\n",
              "  </div>\n",
              "  "
            ]
          },
          "metadata": {},
          "execution_count": 12
        }
      ]
    },
    {
      "cell_type": "code",
      "source": [
        "df.plot(style = '-o', \n",
        "        linewidth = 2, #color = 'red', \n",
        "        figsize = (10,5), \n",
        "        grid = True)\n",
        "#df.plot(style = '--', figsize = (20,8), grid = True)\n",
        "#df.plot(style = '-.', figsize = (20,8), grid = True)"
      ],
      "metadata": {
        "colab": {
          "base_uri": "https://localhost:8080/",
          "height": 337
        },
        "id": "TmnZQwrzzGJ7",
        "outputId": "fcc76e41-1fd4-4553-f036-048a8955b698"
      },
      "execution_count": null,
      "outputs": [
        {
          "output_type": "execute_result",
          "data": {
            "text/plain": [
              "<matplotlib.axes._subplots.AxesSubplot at 0x7f0b8f2c04d0>"
            ]
          },
          "metadata": {},
          "execution_count": 33
        },
        {
          "output_type": "display_data",
          "data": {
            "text/plain": [
              "<Figure size 720x360 with 1 Axes>"
            ],
            "image/png": "[encoded data removed]"
          },
          "metadata": {
            "needs_background": "light"
          }
        }
      ]
    },
    {
      "cell_type": "code",
      "source": [
        "df['weekday'].value_counts().plot.bar(figsize = (10, 5),\n",
        "                                      rot = 0)"
      ],
      "metadata": {
        "colab": {
          "base_uri": "https://localhost:8080/",
          "height": 337
        },
        "id": "d7J6StKo1zDa",
        "outputId": "d3fae50d-bc35-4645-f181-368ce6cf462b"
      },
      "execution_count": null,
      "outputs": [
        {
          "output_type": "execute_result",
          "data": {
            "text/plain": [
              "<matplotlib.axes._subplots.AxesSubplot at 0x7f0b8f089090>"
            ]
          },
          "metadata": {},
          "execution_count": 34
        },
        {
          "output_type": "display_data",
          "data": {
            "text/plain": [
              "<Figure size 720x360 with 1 Axes>"
            ],
            "image/png": "[encoded data removed]"
          },
          "metadata": {
            "needs_background": "light"
          }
        }
      ]
    },
    {
      "cell_type": "code",
      "source": [
        "df.groupby('season').mean()#sum()"
      ],
      "metadata": {
        "colab": {
          "base_uri": "https://localhost:8080/",
          "height": 206
        },
        "id": "ddYZ1IU50cw5",
        "outputId": "e4a243cc-bcdc-4875-e3db-6076a496d36d"
      },
      "execution_count": null,
      "outputs": [
        {
          "output_type": "execute_result",
          "data": {
            "text/plain": [
              "              rec_id      year      month       hour  is_holiday   weekday  \\\n",
              "season                                                                       \n",
              "1        6302.008015  0.512494   3.119755  11.648515    0.038661  3.008722   \n",
              "2        7287.727376  0.500340   4.654117  11.512134    0.021774  2.991608   \n",
              "3        9526.588968  0.501779   7.689724  11.507562    0.021352  3.033141   \n",
              "4       11655.779301  0.495747  10.702505  11.522448    0.034026  2.979915   \n",
              "\n",
              "        is_workingday  weather_condition      temp     atemp  humidity  \\\n",
              "season                                                                   \n",
              "1            0.658652           1.460160  0.299147  0.298116  0.581348   \n",
              "2            0.695396           1.443638  0.544663  0.520547  0.627022   \n",
              "3            0.698621           1.330294  0.706410  0.656004  0.633167   \n",
              "4            0.676749           1.472117  0.423138  0.415738  0.667124   \n",
              "\n",
              "        windspeed     casual  registered  total_count  \n",
              "season                                                 \n",
              "1        0.215107  14.290901   96.823668   111.114569  \n",
              "2        0.203410  46.160581  162.183488   208.344069  \n",
              "3        0.171593  50.287144  185.729093   236.016237  \n",
              "4        0.170819  30.666824  168.202032   198.868856  "
            ],
            "text/html": [
              "\n",
              "  <div id=\"df-2ebc0033-2c8f-4da4-827c-b32a53b89b43\">\n",
              "    <div class=\"colab-df-container\">\n",
              "      <div>\n",
              "<style scoped>\n",
              "    .dataframe tbody tr th:only-of-type {\n",
              "        vertical-align: middle;\n",
              "    }\n",
              "\n",
              "    .dataframe tbody tr th {\n",
              "        vertical-align: top;\n",
              "    }\n",
              "\n",
              "    .dataframe thead th {\n",
              "        text-align: right;\n",
              "    }\n",
              "</style>\n",
              "<table border=\"1\" class=\"dataframe\">\n",
              "  <thead>\n",
              "    <tr style=\"text-align: right;\">\n",
              "      <th></th>\n",
              "      <th>rec_id</th>\n",
              "      <th>year</th>\n",
              "      <th>month</th>\n",
              "      <th>hour</th>\n",
              "      <th>is_holiday</th>\n",
              "      <th>weekday</th>\n",
              "      <th>is_workingday</th>\n",
              "      <th>weather_condition</th>\n",
              "      <th>temp</th>\n",
              "      <th>atemp</th>\n",
              "      <th>humidity</th>\n",
              "      <th>windspeed</th>\n",
              "      <th>casual</th>\n",
              "      <th>registered</th>\n",
              "      <th>total_count</th>\n",
              "    </tr>\n",
              "    <tr>\n",
              "      <th>season</th>\n",
              "      <th></th>\n",
              "      <th></th>\n",
              "      <th></th>\n",
              "      <th></th>\n",
              "      <th></th>\n",
              "      <th></th>\n",
              "      <th></th>\n",
              "      <th></th>\n",
              "      <th></th>\n",
              "      <th></th>\n",
              "      <th></th>\n",
              "      <th></th>\n",
              "      <th></th>\n",
              "      <th></th>\n",
              "      <th></th>\n",
              "    </tr>\n",
              "  </thead>\n",
              "  <tbody>\n",
              "    <tr>\n",
              "      <th>1</th>\n",
              "      <td>6302.008015</td>\n",
              "      <td>0.512494</td>\n",
              "      <td>3.119755</td>\n",
              "      <td>11.648515</td>\n",
              "      <td>0.038661</td>\n",
              "      <td>3.008722</td>\n",
              "      <td>0.658652</td>\n",
              "      <td>1.460160</td>\n",
              "      <td>0.299147</td>\n",
              "      <td>0.298116</td>\n",
              "      <td>0.581348</td>\n",
              "      <td>0.215107</td>\n",
              "      <td>14.290901</td>\n",
              "      <td>96.823668</td>\n",
              "      <td>111.114569</td>\n",
              "    </tr>\n",
              "    <tr>\n",
              "      <th>2</th>\n",
              "      <td>7287.727376</td>\n",
              "      <td>0.500340</td>\n",
              "      <td>4.654117</td>\n",
              "      <td>11.512134</td>\n",
              "      <td>0.021774</td>\n",
              "      <td>2.991608</td>\n",
              "      <td>0.695396</td>\n",
              "      <td>1.443638</td>\n",
              "      <td>0.544663</td>\n",
              "      <td>0.520547</td>\n",
              "      <td>0.627022</td>\n",
              "      <td>0.203410</td>\n",
              "      <td>46.160581</td>\n",
              "      <td>162.183488</td>\n",
              "      <td>208.344069</td>\n",
              "    </tr>\n",
              "    <tr>\n",
              "      <th>3</th>\n",
              "      <td>9526.588968</td>\n",
              "      <td>0.501779</td>\n",
              "      <td>7.689724</td>\n",
              "      <td>11.507562</td>\n",
              "      <td>0.021352</td>\n",
              "      <td>3.033141</td>\n",
              "      <td>0.698621</td>\n",
              "      <td>1.330294</td>\n",
              "      <td>0.706410</td>\n",
              "      <td>0.656004</td>\n",
              "      <td>0.633167</td>\n",
              "      <td>0.171593</td>\n",
              "      <td>50.287144</td>\n",
              "      <td>185.729093</td>\n",
              "      <td>236.016237</td>\n",
              "    </tr>\n",
              "    <tr>\n",
              "      <th>4</th>\n",
              "      <td>11655.779301</td>\n",
              "      <td>0.495747</td>\n",
              "      <td>10.702505</td>\n",
              "      <td>11.522448</td>\n",
              "      <td>0.034026</td>\n",
              "      <td>2.979915</td>\n",
              "      <td>0.676749</td>\n",
              "      <td>1.472117</td>\n",
              "      <td>0.423138</td>\n",
              "      <td>0.415738</td>\n",
              "      <td>0.667124</td>\n",
              "      <td>0.170819</td>\n",
              "      <td>30.666824</td>\n",
              "      <td>168.202032</td>\n",
              "      <td>198.868856</td>\n",
              "    </tr>\n",
              "  </tbody>\n",
              "</table>\n",
              "</div>\n",
              "      <button class=\"colab-df-convert\" onclick=\"convertToInteractive('df-2ebc0033-2c8f-4da4-827c-b32a53b89b43')\"\n",
              "              title=\"Convert this dataframe to an interactive table.\"\n",
              "              style=\"display:none;\">\n",
              "        \n",
              "  <svg xmlns=\"http://www.w3.org/2000/svg\" height=\"24px\"viewBox=\"0 0 24 24\"\n",
              "       width=\"24px\">\n",
              "    <path d=\"M0 0h24v24H0V0z\" fill=\"none\"/>\n",
              "    <path d=\"M18.56 5.44l.94 2.06.94-2.06 2.06-.94-2.06-.94-.94-2.06-.94 2.06-2.06.94zm-11 1L8.5 8.5l.94-2.06 2.06-.94-2.06-.94L8.5 2.5l-.94 2.06-2.06.94zm10 10l.94 2.06.94-2.06 2.06-.94-2.06-.94-.94-2.06-.94 2.06-2.06.94z\"/><path d=\"M17.41 7.96l-1.37-1.37c-.4-.4-.92-.59-1.43-.59-.52 0-1.04.2-1.43.59L10.3 9.45l-7.72 7.72c-.78.78-.78 2.05 0 2.83L4 21.41c.39.39.9.59 1.41.59.51 0 1.02-.2 1.41-.59l7.78-7.78 2.81-2.81c.8-.78.8-2.07 0-2.86zM5.41 20L4 18.59l7.72-7.72 1.47 1.35L5.41 20z\"/>\n",
              "  </svg>\n",
              "      </button>\n",
              "      \n",
              "  <style>\n",
              "    .colab-df-container {\n",
              "      display:flex;\n",
              "      flex-wrap:wrap;\n",
              "      gap: 12px;\n",
              "    }\n",
              "\n",
              "    .colab-df-convert {\n",
              "      background-color: #E8F0FE;\n",
              "      border: none;\n",
              "      border-radius: 50%;\n",
              "      cursor: pointer;\n",
              "      display: none;\n",
              "      fill: #1967D2;\n",
              "      height: 32px;\n",
              "      padding: 0 0 0 0;\n",
              "      width: 32px;\n",
              "    }\n",
              "\n",
              "    .colab-df-convert:hover {\n",
              "      background-color: #E2EBFA;\n",
              "      box-shadow: 0px 1px 2px rgba(60, 64, 67, 0.3), 0px 1px 3px 1px rgba(60, 64, 67, 0.15);\n",
              "      fill: #174EA6;\n",
              "    }\n",
              "\n",
              "    [theme=dark] .colab-df-convert {\n",
              "      background-color: #3B4455;\n",
              "      fill: #D2E3FC;\n",
              "    }\n",
              "\n",
              "    [theme=dark] .colab-df-convert:hover {\n",
              "      background-color: #434B5C;\n",
              "      box-shadow: 0px 1px 3px 1px rgba(0, 0, 0, 0.15);\n",
              "      filter: drop-shadow(0px 1px 2px rgba(0, 0, 0, 0.3));\n",
              "      fill: #FFFFFF;\n",
              "    }\n",
              "  </style>\n",
              "\n",
              "      <script>\n",
              "        const buttonEl =\n",
              "          document.querySelector('#df-2ebc0033-2c8f-4da4-827c-b32a53b89b43 button.colab-df-convert');\n",
              "        buttonEl.style.display =\n",
              "          google.colab.kernel.accessAllowed ? 'block' : 'none';\n",
              "\n",
              "        async function convertToInteractive(key) {\n",
              "          const element = document.querySelector('#df-2ebc0033-2c8f-4da4-827c-b32a53b89b43');\n",
              "          const dataTable =\n",
              "            await google.colab.kernel.invokeFunction('convertToInteractive',\n",
              "                                                     [key], {});\n",
              "          if (!dataTable) return;\n",
              "\n",
              "          const docLinkHtml = 'Like what you see? Visit the ' +\n",
              "            '<a target=\"_blank\" href=https://colab.research.google.com/notebooks/data_table.ipynb>data table notebook</a>'\n",
              "            + ' to learn more about interactive tables.';\n",
              "          element.innerHTML = '';\n",
              "          dataTable['output_type'] = 'display_data';\n",
              "          await google.colab.output.renderOutput(dataTable, element);\n",
              "          const docLink = document.createElement('div');\n",
              "          docLink.innerHTML = docLinkHtml;\n",
              "          element.appendChild(docLink);\n",
              "        }\n",
              "      </script>\n",
              "    </div>\n",
              "  </div>\n",
              "  "
            ]
          },
          "metadata": {},
          "execution_count": 38
        }
      ]
    },
    {
      "cell_type": "code",
      "source": [
        "df.groupby('weekday').mean()#sum()"
      ],
      "metadata": {
        "colab": {
          "base_uri": "https://localhost:8080/",
          "height": 300
        },
        "id": "zi1EnabJ4M-s",
        "outputId": "2c0543b7-5c40-4182-d0c6-0f49ff224326"
      },
      "execution_count": null,
      "outputs": [
        {
          "output_type": "execute_result",
          "data": {
            "text/plain": [
              "              rec_id    season      year     month       hour  is_holiday  \\\n",
              "weekday                                                                     \n",
              "0        8697.580735  2.490408  0.507994  6.487210  11.555156    0.000000   \n",
              "1        8645.734167  2.488503  0.501815  6.479225  11.556676    0.144010   \n",
              "2        8665.830004  2.529148  0.501834  6.516918  11.622095    0.009376   \n",
              "3        8703.582222  2.510707  0.503434  6.543838  11.527273    0.009697   \n",
              "4        8739.579927  2.521651  0.504249  6.590045  11.556050    0.019425   \n",
              "5        8725.739043  2.495778  0.501809  6.593888  11.527945    0.019300   \n",
              "6        8652.199841  2.476115  0.496815  6.553344  11.483678    0.000000   \n",
              "\n",
              "         is_workingday  weather_condition      temp     atemp  humidity  \\\n",
              "weekday                                                                   \n",
              "0             0.000000           1.362110  0.483821  0.465507  0.627994   \n",
              "1             0.855990           1.431222  0.495046  0.475908  0.635651   \n",
              "2             0.990624           1.476152  0.508569  0.487179  0.639833   \n",
              "3             0.990303           1.485657  0.506675  0.483528  0.644820   \n",
              "4             0.980575           1.402266  0.507017  0.485021  0.609628   \n",
              "5             0.980700           1.412143  0.496429  0.471828  0.613840   \n",
              "6             0.000000           1.408838  0.481847  0.461909  0.619084   \n",
              "\n",
              "         windspeed     casual  registered  total_count  \n",
              "weekday                                                 \n",
              "0         0.188093  56.163469  121.305356   177.468825  \n",
              "1         0.188863  28.553449  155.191206   183.744655  \n",
              "2         0.191917  23.580514  167.658377   191.238891  \n",
              "3         0.187172  23.159192  167.971313   191.130505  \n",
              "4         0.191987  24.872521  171.564144   196.436665  \n",
              "5         0.186430  31.458786  164.677121   196.135907  \n",
              "6         0.196190  61.246815  128.962978   190.209793  "
            ],
            "text/html": [
              "\n",
              "  <div id=\"df-9abf92f0-899f-4a6d-ac61-a145bea245a5\">\n",
              "    <div class=\"colab-df-container\">\n",
              "      <div>\n",
              "<style scoped>\n",
              "    .dataframe tbody tr th:only-of-type {\n",
              "        vertical-align: middle;\n",
              "    }\n",
              "\n",
              "    .dataframe tbody tr th {\n",
              "        vertical-align: top;\n",
              "    }\n",
              "\n",
              "    .dataframe thead th {\n",
              "        text-align: right;\n",
              "    }\n",
              "</style>\n",
              "<table border=\"1\" class=\"dataframe\">\n",
              "  <thead>\n",
              "    <tr style=\"text-align: right;\">\n",
              "      <th></th>\n",
              "      <th>rec_id</th>\n",
              "      <th>season</th>\n",
              "      <th>year</th>\n",
              "      <th>month</th>\n",
              "      <th>hour</th>\n",
              "      <th>is_holiday</th>\n",
              "      <th>is_workingday</th>\n",
              "      <th>weather_condition</th>\n",
              "      <th>temp</th>\n",
              "      <th>atemp</th>\n",
              "      <th>humidity</th>\n",
              "      <th>windspeed</th>\n",
              "      <th>casual</th>\n",
              "      <th>registered</th>\n",
              "      <th>total_count</th>\n",
              "    </tr>\n",
              "    <tr>\n",
              "      <th>weekday</th>\n",
              "      <th></th>\n",
              "      <th></th>\n",
              "      <th></th>\n",
              "      <th></th>\n",
              "      <th></th>\n",
              "      <th></th>\n",
              "      <th></th>\n",
              "      <th></th>\n",
              "      <th></th>\n",
              "      <th></th>\n",
              "      <th></th>\n",
              "      <th></th>\n",
              "      <th></th>\n",
              "      <th></th>\n",
              "      <th></th>\n",
              "    </tr>\n",
              "  </thead>\n",
              "  <tbody>\n",
              "    <tr>\n",
              "      <th>0</th>\n",
              "      <td>8697.580735</td>\n",
              "      <td>2.490408</td>\n",
              "      <td>0.507994</td>\n",
              "      <td>6.487210</td>\n",
              "      <td>11.555156</td>\n",
              "      <td>0.000000</td>\n",
              "      <td>0.000000</td>\n",
              "      <td>1.362110</td>\n",
              "      <td>0.483821</td>\n",
              "      <td>0.465507</td>\n",
              "      <td>0.627994</td>\n",
              "      <td>0.188093</td>\n",
              "      <td>56.163469</td>\n",
              "      <td>121.305356</td>\n",
              "      <td>177.468825</td>\n",
              "    </tr>\n",
              "    <tr>\n",
              "      <th>1</th>\n",
              "      <td>8645.734167</td>\n",
              "      <td>2.488503</td>\n",
              "      <td>0.501815</td>\n",
              "      <td>6.479225</td>\n",
              "      <td>11.556676</td>\n",
              "      <td>0.144010</td>\n",
              "      <td>0.855990</td>\n",
              "      <td>1.431222</td>\n",
              "      <td>0.495046</td>\n",
              "      <td>0.475908</td>\n",
              "      <td>0.635651</td>\n",
              "      <td>0.188863</td>\n",
              "      <td>28.553449</td>\n",
              "      <td>155.191206</td>\n",
              "      <td>183.744655</td>\n",
              "    </tr>\n",
              "    <tr>\n",
              "      <th>2</th>\n",
              "      <td>8665.830004</td>\n",
              "      <td>2.529148</td>\n",
              "      <td>0.501834</td>\n",
              "      <td>6.516918</td>\n",
              "      <td>11.622095</td>\n",
              "      <td>0.009376</td>\n",
              "      <td>0.990624</td>\n",
              "      <td>1.476152</td>\n",
              "      <td>0.508569</td>\n",
              "      <td>0.487179</td>\n",
              "      <td>0.639833</td>\n",
              "      <td>0.191917</td>\n",
              "      <td>23.580514</td>\n",
              "      <td>167.658377</td>\n",
              "      <td>191.238891</td>\n",
              "    </tr>\n",
              "    <tr>\n",
              "      <th>3</th>\n",
              "      <td>8703.582222</td>\n",
              "      <td>2.510707</td>\n",
              "      <td>0.503434</td>\n",
              "      <td>6.543838</td>\n",
              "      <td>11.527273</td>\n",
              "      <td>0.009697</td>\n",
              "      <td>0.990303</td>\n",
              "      <td>1.485657</td>\n",
              "      <td>0.506675</td>\n",
              "      <td>0.483528</td>\n",
              "      <td>0.644820</td>\n",
              "      <td>0.187172</td>\n",
              "      <td>23.159192</td>\n",
              "      <td>167.971313</td>\n",
              "      <td>191.130505</td>\n",
              "    </tr>\n",
              "    <tr>\n",
              "      <th>4</th>\n",
              "      <td>8739.579927</td>\n",
              "      <td>2.521651</td>\n",
              "      <td>0.504249</td>\n",
              "      <td>6.590045</td>\n",
              "      <td>11.556050</td>\n",
              "      <td>0.019425</td>\n",
              "      <td>0.980575</td>\n",
              "      <td>1.402266</td>\n",
              "      <td>0.507017</td>\n",
              "      <td>0.485021</td>\n",
              "      <td>0.609628</td>\n",
              "      <td>0.191987</td>\n",
              "      <td>24.872521</td>\n",
              "      <td>171.564144</td>\n",
              "      <td>196.436665</td>\n",
              "    </tr>\n",
              "    <tr>\n",
              "      <th>5</th>\n",
              "      <td>8725.739043</td>\n",
              "      <td>2.495778</td>\n",
              "      <td>0.501809</td>\n",
              "      <td>6.593888</td>\n",
              "      <td>11.527945</td>\n",
              "      <td>0.019300</td>\n",
              "      <td>0.980700</td>\n",
              "      <td>1.412143</td>\n",
              "      <td>0.496429</td>\n",
              "      <td>0.471828</td>\n",
              "      <td>0.613840</td>\n",
              "      <td>0.186430</td>\n",
              "      <td>31.458786</td>\n",
              "      <td>164.677121</td>\n",
              "      <td>196.135907</td>\n",
              "    </tr>\n",
              "    <tr>\n",
              "      <th>6</th>\n",
              "      <td>8652.199841</td>\n",
              "      <td>2.476115</td>\n",
              "      <td>0.496815</td>\n",
              "      <td>6.553344</td>\n",
              "      <td>11.483678</td>\n",
              "      <td>0.000000</td>\n",
              "      <td>0.000000</td>\n",
              "      <td>1.408838</td>\n",
              "      <td>0.481847</td>\n",
              "      <td>0.461909</td>\n",
              "      <td>0.619084</td>\n",
              "      <td>0.196190</td>\n",
              "      <td>61.246815</td>\n",
              "      <td>128.962978</td>\n",
              "      <td>190.209793</td>\n",
              "    </tr>\n",
              "  </tbody>\n",
              "</table>\n",
              "</div>\n",
              "      <button class=\"colab-df-convert\" onclick=\"convertToInteractive('df-9abf92f0-899f-4a6d-ac61-a145bea245a5')\"\n",
              "              title=\"Convert this dataframe to an interactive table.\"\n",
              "              style=\"display:none;\">\n",
              "        \n",
              "  <svg xmlns=\"http://www.w3.org/2000/svg\" height=\"24px\"viewBox=\"0 0 24 24\"\n",
              "       width=\"24px\">\n",
              "    <path d=\"M0 0h24v24H0V0z\" fill=\"none\"/>\n",
              "    <path d=\"M18.56 5.44l.94 2.06.94-2.06 2.06-.94-2.06-.94-.94-2.06-.94 2.06-2.06.94zm-11 1L8.5 8.5l.94-2.06 2.06-.94-2.06-.94L8.5 2.5l-.94 2.06-2.06.94zm10 10l.94 2.06.94-2.06 2.06-.94-2.06-.94-.94-2.06-.94 2.06-2.06.94z\"/><path d=\"M17.41 7.96l-1.37-1.37c-.4-.4-.92-.59-1.43-.59-.52 0-1.04.2-1.43.59L10.3 9.45l-7.72 7.72c-.78.78-.78 2.05 0 2.83L4 21.41c.39.39.9.59 1.41.59.51 0 1.02-.2 1.41-.59l7.78-7.78 2.81-2.81c.8-.78.8-2.07 0-2.86zM5.41 20L4 18.59l7.72-7.72 1.47 1.35L5.41 20z\"/>\n",
              "  </svg>\n",
              "      </button>\n",
              "      \n",
              "  <style>\n",
              "    .colab-df-container {\n",
              "      display:flex;\n",
              "      flex-wrap:wrap;\n",
              "      gap: 12px;\n",
              "    }\n",
              "\n",
              "    .colab-df-convert {\n",
              "      background-color: #E8F0FE;\n",
              "      border: none;\n",
              "      border-radius: 50%;\n",
              "      cursor: pointer;\n",
              "      display: none;\n",
              "      fill: #1967D2;\n",
              "      height: 32px;\n",
              "      padding: 0 0 0 0;\n",
              "      width: 32px;\n",
              "    }\n",
              "\n",
              "    .colab-df-convert:hover {\n",
              "      background-color: #E2EBFA;\n",
              "      box-shadow: 0px 1px 2px rgba(60, 64, 67, 0.3), 0px 1px 3px 1px rgba(60, 64, 67, 0.15);\n",
              "      fill: #174EA6;\n",
              "    }\n",
              "\n",
              "    [theme=dark] .colab-df-convert {\n",
              "      background-color: #3B4455;\n",
              "      fill: #D2E3FC;\n",
              "    }\n",
              "\n",
              "    [theme=dark] .colab-df-convert:hover {\n",
              "      background-color: #434B5C;\n",
              "      box-shadow: 0px 1px 3px 1px rgba(0, 0, 0, 0.15);\n",
              "      filter: drop-shadow(0px 1px 2px rgba(0, 0, 0, 0.3));\n",
              "      fill: #FFFFFF;\n",
              "    }\n",
              "  </style>\n",
              "\n",
              "      <script>\n",
              "        const buttonEl =\n",
              "          document.querySelector('#df-9abf92f0-899f-4a6d-ac61-a145bea245a5 button.colab-df-convert');\n",
              "        buttonEl.style.display =\n",
              "          google.colab.kernel.accessAllowed ? 'block' : 'none';\n",
              "\n",
              "        async function convertToInteractive(key) {\n",
              "          const element = document.querySelector('#df-9abf92f0-899f-4a6d-ac61-a145bea245a5');\n",
              "          const dataTable =\n",
              "            await google.colab.kernel.invokeFunction('convertToInteractive',\n",
              "                                                     [key], {});\n",
              "          if (!dataTable) return;\n",
              "\n",
              "          const docLinkHtml = 'Like what you see? Visit the ' +\n",
              "            '<a target=\"_blank\" href=https://colab.research.google.com/notebooks/data_table.ipynb>data table notebook</a>'\n",
              "            + ' to learn more about interactive tables.';\n",
              "          element.innerHTML = '';\n",
              "          dataTable['output_type'] = 'display_data';\n",
              "          await google.colab.output.renderOutput(dataTable, element);\n",
              "          const docLink = document.createElement('div');\n",
              "          docLink.innerHTML = docLinkHtml;\n",
              "          element.appendChild(docLink);\n",
              "        }\n",
              "      </script>\n",
              "    </div>\n",
              "  </div>\n",
              "  "
            ]
          },
          "metadata": {},
          "execution_count": 40
        }
      ]
    },
    {
      "cell_type": "code",
      "source": [
        "print('Qual o tamanho desse dataset?')\n",
        "print(df.info())"
      ],
      "metadata": {
        "colab": {
          "base_uri": "https://localhost:8080/"
        },
        "id": "NX4I4I5b6X3S",
        "outputId": "336ffba2-0b39-4610-a028-e718f5dcb214"
      },
      "execution_count": null,
      "outputs": [
        {
          "output_type": "stream",
          "name": "stdout",
          "text": [
            "Qual o tamanho desse dataset?\n",
            "<class 'pandas.core.frame.DataFrame'>\n",
            "RangeIndex: 17379 entries, 0 to 17378\n",
            "Data columns (total 17 columns):\n",
            " #   Column             Non-Null Count  Dtype  \n",
            "---  ------             --------------  -----  \n",
            " 0   datetime           17379 non-null  object \n",
            " 1   rec_id             17379 non-null  int64  \n",
            " 2   season             17379 non-null  int64  \n",
            " 3   year               17379 non-null  int64  \n",
            " 4   month              17379 non-null  int64  \n",
            " 5   hour               17379 non-null  int64  \n",
            " 6   is_holiday         17379 non-null  int64  \n",
            " 7   weekday            17379 non-null  int64  \n",
            " 8   is_workingday      17379 non-null  int64  \n",
            " 9   weather_condition  17379 non-null  int64  \n",
            " 10  temp               17379 non-null  float64\n",
            " 11  atemp              17379 non-null  float64\n",
            " 12  humidity           17379 non-null  float64\n",
            " 13  windspeed          17379 non-null  float64\n",
            " 14  casual             17379 non-null  int64  \n",
            " 15  registered         17379 non-null  int64  \n",
            " 16  total_count        17379 non-null  int64  \n",
            "dtypes: float64(4), int64(12), object(1)\n",
            "memory usage: 2.3+ MB\n",
            "None\n"
          ]
        }
      ]
    },
    {
      "cell_type": "code",
      "source": [
        "print('Qual a média da coluna windspeed?')\n",
        "print(df['windspeed'].mean())"
      ],
      "metadata": {
        "colab": {
          "base_uri": "https://localhost:8080/"
        },
        "id": "c3ARGXEO6a6Y",
        "outputId": "689e77d8-9b02-4b1f-94c7-ed396716826c"
      },
      "execution_count": null,
      "outputs": [
        {
          "output_type": "stream",
          "name": "stdout",
          "text": [
            "Qual a média da coluna windspeed?\n",
            "0.19009760630646177\n"
          ]
        }
      ]
    },
    {
      "cell_type": "code",
      "source": [
        "print('Qual a média da coluna temp?')\n",
        "print(df['temp'].describe())"
      ],
      "metadata": {
        "colab": {
          "base_uri": "https://localhost:8080/"
        },
        "id": "maMJMrTC6bMV",
        "outputId": "58fff834-e069-4815-a540-240f5707954b"
      },
      "execution_count": null,
      "outputs": [
        {
          "output_type": "stream",
          "name": "stdout",
          "text": [
            "Qual a média da coluna temp?\n",
            "count    17379.000000\n",
            "mean         0.496987\n",
            "std          0.192556\n",
            "min          0.020000\n",
            "25%          0.340000\n",
            "50%          0.500000\n",
            "75%          0.660000\n",
            "max          1.000000\n",
            "Name: temp, dtype: float64\n"
          ]
        }
      ]
    },
    {
      "cell_type": "code",
      "source": [
        "print('Quantos registros existem para o ano de 2011?')\n",
        "print(df[df['year'] == 0])"
      ],
      "metadata": {
        "colab": {
          "base_uri": "https://localhost:8080/"
        },
        "id": "gcpPnpB_6bfE",
        "outputId": "50c87a4f-c7d1-45bb-b470-adf1a7d23713"
      },
      "execution_count": null,
      "outputs": [
        {
          "output_type": "stream",
          "name": "stdout",
          "text": [
            "Quantos registros existem para o ano de 2011?\n",
            "        datetime  rec_id  season  year  month  hour  is_holiday  weekday  \\\n",
            "0     2011-01-01       1       1     0      1     0           0        6   \n",
            "1     2011-01-01       2       1     0      1     1           0        6   \n",
            "2     2011-01-01       3       1     0      1     2           0        6   \n",
            "3     2011-01-01       4       1     0      1     3           0        6   \n",
            "4     2011-01-01       5       1     0      1     4           0        6   \n",
            "...          ...     ...     ...   ...    ...   ...         ...      ...   \n",
            "8640  2011-12-31    8641       1     0     12    19           0        6   \n",
            "8641  2011-12-31    8642       1     0     12    20           0        6   \n",
            "8642  2011-12-31    8643       1     0     12    21           0        6   \n",
            "8643  2011-12-31    8644       1     0     12    22           0        6   \n",
            "8644  2011-12-31    8645       1     0     12    23           0        6   \n",
            "\n",
            "      is_workingday  weather_condition  temp   atemp  humidity  windspeed  \\\n",
            "0                 0                  1  0.24  0.2879      0.81     0.0000   \n",
            "1                 0                  1  0.22  0.2727      0.80     0.0000   \n",
            "2                 0                  1  0.22  0.2727      0.80     0.0000   \n",
            "3                 0                  1  0.24  0.2879      0.75     0.0000   \n",
            "4                 0                  1  0.24  0.2879      0.75     0.0000   \n",
            "...             ...                ...   ...     ...       ...        ...   \n",
            "8640              0                  1  0.42  0.4242      0.54     0.2239   \n",
            "8641              0                  1  0.42  0.4242      0.54     0.2239   \n",
            "8642              0                  1  0.40  0.4091      0.58     0.1940   \n",
            "8643              0                  1  0.38  0.3939      0.62     0.1343   \n",
            "8644              0                  1  0.36  0.3788      0.66     0.0000   \n",
            "\n",
            "      casual  registered  total_count  \n",
            "0          3          13           16  \n",
            "1          8          32           40  \n",
            "2          5          27           32  \n",
            "3          3          10           13  \n",
            "4          0           1            1  \n",
            "...      ...         ...          ...  \n",
            "8640      19          73           92  \n",
            "8641       8          63           71  \n",
            "8642       2          50           52  \n",
            "8643       2          36           38  \n",
            "8644       4          27           31  \n",
            "\n",
            "[8645 rows x 17 columns]\n"
          ]
        }
      ]
    },
    {
      "cell_type": "code",
      "source": [
        "print('Quantos registros existem para o ano de 2012?')\n",
        "print(df[df['year'] == 1])"
      ],
      "metadata": {
        "colab": {
          "base_uri": "https://localhost:8080/"
        },
        "id": "BWs3MCmP6bhf",
        "outputId": "b6f84c57-7519-4c84-a978-050ee5cf9cee"
      },
      "execution_count": null,
      "outputs": [
        {
          "output_type": "stream",
          "name": "stdout",
          "text": [
            "Quantos registros existem para o ano de 2012?\n",
            "         datetime  rec_id  season  year  month  hour  is_holiday  weekday  \\\n",
            "8645   2012-01-01    8646       1     1      1     0           0        0   \n",
            "8646   2012-01-01    8647       1     1      1     1           0        0   \n",
            "8647   2012-01-01    8648       1     1      1     2           0        0   \n",
            "8648   2012-01-01    8649       1     1      1     3           0        0   \n",
            "8649   2012-01-01    8650       1     1      1     4           0        0   \n",
            "...           ...     ...     ...   ...    ...   ...         ...      ...   \n",
            "17374  2012-12-31   17375       1     1     12    19           0        1   \n",
            "17375  2012-12-31   17376       1     1     12    20           0        1   \n",
            "17376  2012-12-31   17377       1     1     12    21           0        1   \n",
            "17377  2012-12-31   17378       1     1     12    22           0        1   \n",
            "17378  2012-12-31   17379       1     1     12    23           0        1   \n",
            "\n",
            "       is_workingday  weather_condition  temp   atemp  humidity  windspeed  \\\n",
            "8645               0                  1  0.36  0.3788      0.66     0.0000   \n",
            "8646               0                  1  0.36  0.3485      0.66     0.1343   \n",
            "8647               0                  1  0.32  0.3485      0.76     0.0000   \n",
            "8648               0                  1  0.30  0.3333      0.81     0.0000   \n",
            "8649               0                  1  0.28  0.3030      0.81     0.0896   \n",
            "...              ...                ...   ...     ...       ...        ...   \n",
            "17374              1                  2  0.26  0.2576      0.60     0.1642   \n",
            "17375              1                  2  0.26  0.2576      0.60     0.1642   \n",
            "17376              1                  1  0.26  0.2576      0.60     0.1642   \n",
            "17377              1                  1  0.26  0.2727      0.56     0.1343   \n",
            "17378              1                  1  0.26  0.2727      0.65     0.1343   \n",
            "\n",
            "       casual  registered  total_count  \n",
            "8645        5          43           48  \n",
            "8646       15          78           93  \n",
            "8647       16          59           75  \n",
            "8648       11          41           52  \n",
            "8649        0           8            8  \n",
            "...       ...         ...          ...  \n",
            "17374      11         108          119  \n",
            "17375       8          81           89  \n",
            "17376       7          83           90  \n",
            "17377      13          48           61  \n",
            "17378      12          37           49  \n",
            "\n",
            "[8734 rows x 17 columns]\n"
          ]
        }
      ]
    },
    {
      "cell_type": "code",
      "source": [
        "#set da numero do ano como index\n",
        "df = df.set_index('year')\n",
        "#contagem pros index \n",
        "x = df.loc[df.index == 1, ['total_count']].values\n",
        "z = df.loc[df.index == 0, ['total_count']].values\n",
        "y = df['total_count'].values\n",
        "print(f'Total de locações em 2012: {np.sum(x)}')\n",
        "print(f'Total de locações em 2011: {np.sum(z)}')\n",
        "print(f'Total geral de locações: {np.sum(y)}')"
      ],
      "metadata": {
        "colab": {
          "base_uri": "https://localhost:8080/"
        },
        "id": "rHu1TZbc6bjs",
        "outputId": "ead00609-0afb-4188-9a5c-a5b324bf2906"
      },
      "execution_count": null,
      "outputs": [
        {
          "output_type": "stream",
          "name": "stdout",
          "text": [
            "Total de locações em 2012: 2049576\n",
            "Total de locações em 2011: 1243103\n",
            "Total geral de locações: 3292679\n"
          ]
        }
      ]
    },
    {
      "cell_type": "code",
      "source": [
        "print('Qual estação do ano contém a maior média de locações de bicicletas?')\n",
        "print('Qual estação do ano contém a menor média de locações de bicicletas?')\n",
        "df.groupby(by='season')\n",
        "print(df.groupby(by='season').mean())"
      ],
      "metadata": {
        "colab": {
          "base_uri": "https://localhost:8080/"
        },
        "id": "RUsayvUj7UWY",
        "outputId": "4e1175f1-2f15-4bfb-8221-4f5944f4dc1c"
      },
      "execution_count": null,
      "outputs": [
        {
          "output_type": "stream",
          "name": "stdout",
          "text": [
            "Qual estação do ano contém a maior média de locações de bicicletas?\n",
            "Qual estação do ano contém a menor média de locações de bicicletas?\n",
            "              rec_id      month       hour  is_holiday   weekday  \\\n",
            "season                                                             \n",
            "1        6302.008015   3.119755  11.648515    0.038661  3.008722   \n",
            "2        7287.727376   4.654117  11.512134    0.021774  2.991608   \n",
            "3        9526.588968   7.689724  11.507562    0.021352  3.033141   \n",
            "4       11655.779301  10.702505  11.522448    0.034026  2.979915   \n",
            "\n",
            "        is_workingday  weather_condition      temp     atemp  humidity  \\\n",
            "season                                                                   \n",
            "1            0.658652           1.460160  0.299147  0.298116  0.581348   \n",
            "2            0.695396           1.443638  0.544663  0.520547  0.627022   \n",
            "3            0.698621           1.330294  0.706410  0.656004  0.633167   \n",
            "4            0.676749           1.472117  0.423138  0.415738  0.667124   \n",
            "\n",
            "        windspeed     casual  registered  total_count  \n",
            "season                                                 \n",
            "1        0.215107  14.290901   96.823668   111.114569  \n",
            "2        0.203410  46.160581  162.183488   208.344069  \n",
            "3        0.171593  50.287144  185.729093   236.016237  \n",
            "4        0.170819  30.666824  168.202032   198.868856  \n"
          ]
        }
      ]
    },
    {
      "cell_type": "code",
      "source": [
        "print('Qual horário do dia contém a maior média de locações de bicicletas?')\n",
        "print('Qual horário do dia contém a menor média de locações de bicicletas?')\n",
        "df.groupby(by='hour')\n",
        "print(df.groupby(by='hour').mean())"
      ],
      "metadata": {
        "colab": {
          "base_uri": "https://localhost:8080/"
        },
        "id": "WII56dvi7mjl",
        "outputId": "8fe9163f-7824-48e9-bc7e-09bd4afc30e5"
      },
      "execution_count": null,
      "outputs": [
        {
          "output_type": "stream",
          "name": "stdout",
          "text": [
            "Qual horário do dia contém a maior média de locações de bicicletas?\n",
            "Qual horário do dia contém a menor média de locações de bicicletas?\n",
            "           rec_id    season     month  is_holiday   weekday  is_workingday  \\\n",
            "hour                                                                         \n",
            "0     8677.683196  2.500000  6.534435    0.028926  3.004132       0.683196   \n",
            "1     8672.640884  2.497238  6.526243    0.029006  3.008287       0.682320   \n",
            "2     8746.538462  2.511888  6.567832    0.029371  3.027972       0.681119   \n",
            "3     8819.661406  2.539455  6.645624    0.025825  3.027260       0.674319   \n",
            "4     8892.555237  2.552367  6.664275    0.028694  3.011478       0.674319   \n",
            "5     8758.301255  2.513250  6.581590    0.029289  3.023710       0.690377   \n",
            "6     8674.376552  2.497931  6.531034    0.028966  3.009655       0.684138   \n",
            "7     8660.155433  2.496561  6.525447    0.028886  3.001376       0.682256   \n",
            "8     8661.155433  2.496561  6.525447    0.028886  3.001376       0.682256   \n",
            "9     8662.155433  2.496561  6.525447    0.028886  3.001376       0.682256   \n",
            "10    8663.155433  2.496561  6.525447    0.028886  3.001376       0.682256   \n",
            "11    8664.155433  2.496561  6.525447    0.028886  3.001376       0.682256   \n",
            "12    8653.798077  2.494505  6.517857    0.028846  3.000000       0.682692   \n",
            "13    8664.716049  2.496571  6.522634    0.028807  2.998628       0.683128   \n",
            "14    8665.716049  2.496571  6.522634    0.028807  2.998628       0.683128   \n",
            "15    8666.716049  2.496571  6.522634    0.028807  2.998628       0.683128   \n",
            "16    8656.647945  2.494521  6.515068    0.028767  3.000000       0.683562   \n",
            "17    8657.647945  2.494521  6.515068    0.028767  3.000000       0.683562   \n",
            "18    8673.884615  2.495879  6.520604    0.028846  2.995879       0.684066   \n",
            "19    8674.884615  2.495879  6.520604    0.028846  2.995879       0.684066   \n",
            "20    8675.884615  2.495879  6.520604    0.028846  2.995879       0.684066   \n",
            "21    8676.884615  2.495879  6.520604    0.028846  2.995879       0.684066   \n",
            "22    8677.884615  2.495879  6.520604    0.028846  2.995879       0.684066   \n",
            "23    8678.884615  2.495879  6.520604    0.028846  2.995879       0.684066   \n",
            "\n",
            "      weather_condition      temp     atemp  humidity  windspeed     casual  \\\n",
            "hour                                                                          \n",
            "0              1.398072  0.467410  0.451105  0.691019   0.161758  10.158402   \n",
            "1              1.400552  0.459365  0.443289  0.704213   0.158659   6.504144   \n",
            "2              1.409790  0.454573  0.439184  0.716825   0.154519   4.772028   \n",
            "3              1.424677  0.453113  0.438396  0.729785   0.150929   2.715925   \n",
            "4              1.426112  0.446628  0.432549  0.742367   0.155813   1.253945   \n",
            "5              1.422594  0.436123  0.423145  0.742929   0.150342   1.411437   \n",
            "6              1.451034  0.432469  0.419376  0.744179   0.157722   4.161379   \n",
            "7              1.486933  0.439092  0.425557  0.730908   0.163916  11.055021   \n",
            "8              1.474553  0.454993  0.440272  0.702682   0.176563  21.679505   \n",
            "9              1.484182  0.476726  0.458715  0.661692   0.191262  30.891334   \n",
            "10             1.462173  0.500578  0.478139  0.616066   0.202041  46.477304   \n",
            "11             1.449794  0.522613  0.497477  0.571431   0.207339  59.540578   \n",
            "12             1.467033  0.540275  0.512903  0.536703   0.216013  68.293956   \n",
            "13             1.444444  0.554733  0.525499  0.511591   0.221633  72.308642   \n",
            "14             1.433471  0.565075  0.534188  0.496982   0.232462  75.567901   \n",
            "15             1.425240  0.568615  0.536598  0.492126   0.235143  74.905350   \n",
            "16             1.398630  0.564959  0.532460  0.495795   0.237317  73.745205   \n",
            "17             1.409589  0.554575  0.523224  0.513438   0.233371  74.273973   \n",
            "18             1.410714  0.541181  0.512736  0.535989   0.224684  61.120879   \n",
            "19             1.381868  0.524176  0.499459  0.572445   0.210148  48.770604   \n",
            "20             1.379121  0.508599  0.487221  0.601470   0.195222  36.233516   \n",
            "21             1.373626  0.495302  0.476503  0.631538   0.180871  28.255495   \n",
            "22             1.376374  0.484505  0.466535  0.653146   0.174640  22.252747   \n",
            "23             1.416209  0.475027  0.458086  0.673269   0.164802  15.199176   \n",
            "\n",
            "      registered  total_count  \n",
            "hour                           \n",
            "0      43.739669    53.898072  \n",
            "1      26.871547    33.375691  \n",
            "2      18.097902    22.869930  \n",
            "3       9.011478    11.727403  \n",
            "4       5.098996     6.352941  \n",
            "5      18.478382    19.889819  \n",
            "6      71.882759    76.044138  \n",
            "7     201.009629   212.064649  \n",
            "8     337.331499   359.011004  \n",
            "9     188.418157   219.309491  \n",
            "10    127.191197   173.668501  \n",
            "11    148.602476   208.143054  \n",
            "12    185.021978   253.315934  \n",
            "13    181.352538   253.661180  \n",
            "14    165.381344   240.949246  \n",
            "15    176.327846   251.233196  \n",
            "16    238.238356   311.983562  \n",
            "17    387.178082   461.452055  \n",
            "18    364.390110   425.510989  \n",
            "19    262.752747   311.523352  \n",
            "20    189.796703   226.030220  \n",
            "21    144.059066   172.314560  \n",
            "22    109.082418   131.335165  \n",
            "23     72.631868    87.831044  \n"
          ]
        }
      ]
    },
    {
      "cell_type": "code",
      "source": [
        "print('Que dia da semana contém a maior média de locações de bicicletas?')\n",
        "print('Que dia da semana contém a menor média de locações de bicicletas?')\n",
        "df.groupby(by='weekday')\n",
        "print(df.groupby(by='weekday').mean())"
      ],
      "metadata": {
        "colab": {
          "base_uri": "https://localhost:8080/"
        },
        "id": "2PNI2OLA7syx",
        "outputId": "574d81ac-d27d-4a32-b10e-8add86b4576e"
      },
      "execution_count": null,
      "outputs": [
        {
          "output_type": "stream",
          "name": "stdout",
          "text": [
            "Que dia da semana contém a maior média de locações de bicicletas?\n",
            "Que dia da semana contém a menor média de locações de bicicletas?\n",
            "              rec_id    season     month       hour  is_holiday  \\\n",
            "weekday                                                           \n",
            "0        8697.580735  2.490408  6.487210  11.555156    0.000000   \n",
            "1        8645.734167  2.488503  6.479225  11.556676    0.144010   \n",
            "2        8665.830004  2.529148  6.516918  11.622095    0.009376   \n",
            "3        8703.582222  2.510707  6.543838  11.527273    0.009697   \n",
            "4        8739.579927  2.521651  6.590045  11.556050    0.019425   \n",
            "5        8725.739043  2.495778  6.593888  11.527945    0.019300   \n",
            "6        8652.199841  2.476115  6.553344  11.483678    0.000000   \n",
            "\n",
            "         is_workingday  weather_condition      temp     atemp  humidity  \\\n",
            "weekday                                                                   \n",
            "0             0.000000           1.362110  0.483821  0.465507  0.627994   \n",
            "1             0.855990           1.431222  0.495046  0.475908  0.635651   \n",
            "2             0.990624           1.476152  0.508569  0.487179  0.639833   \n",
            "3             0.990303           1.485657  0.506675  0.483528  0.644820   \n",
            "4             0.980575           1.402266  0.507017  0.485021  0.609628   \n",
            "5             0.980700           1.412143  0.496429  0.471828  0.613840   \n",
            "6             0.000000           1.408838  0.481847  0.461909  0.619084   \n",
            "\n",
            "         windspeed     casual  registered  total_count  \n",
            "weekday                                                 \n",
            "0         0.188093  56.163469  121.305356   177.468825  \n",
            "1         0.188863  28.553449  155.191206   183.744655  \n",
            "2         0.191917  23.580514  167.658377   191.238891  \n",
            "3         0.187172  23.159192  167.971313   191.130505  \n",
            "4         0.191987  24.872521  171.564144   196.436665  \n",
            "5         0.186430  31.458786  164.677121   196.135907  \n",
            "6         0.196190  61.246815  128.962978   190.209793  \n"
          ]
        }
      ]
    },
    {
      "cell_type": "code",
      "source": [
        "print('Às quartas-feiras (weekday = 3), qual o horário do dia contém a maior média de locações de bicicletas?')\n",
        "df = df.set_index('weekday')\n",
        "q = df.loc[df.index == 3, ['hour', 'total_count']]\n",
        "q.groupby(by='hour')\n",
        "print(q.groupby(by='hour').mean())"
      ],
      "metadata": {
        "colab": {
          "base_uri": "https://localhost:8080/"
        },
        "id": "EntO14h37yL1",
        "outputId": "f0b1226f-2092-4f75-b250-c060c9562b30"
      },
      "execution_count": null,
      "outputs": [
        {
          "output_type": "stream",
          "name": "stdout",
          "text": [
            "Às quartas-feiras (weekday = 3), qual o horário do dia contém a maior média de locações de bicicletas?\n",
            "      total_count\n",
            "hour             \n",
            "0       34.557692\n",
            "1       15.336538\n",
            "2        7.813725\n",
            "3        4.888889\n",
            "4        4.968750\n",
            "5       25.750000\n",
            "6      107.807692\n",
            "7      303.980769\n",
            "8      488.326923\n",
            "9      238.528846\n",
            "10     131.894231\n",
            "11     152.201923\n",
            "12     193.903846\n",
            "13     185.826923\n",
            "14     170.548077\n",
            "15     181.288462\n",
            "16     272.961538\n",
            "17     513.144231\n",
            "18     494.029126\n",
            "19     357.504854\n",
            "20     256.660194\n",
            "21     194.669903\n",
            "22     143.689320\n",
            "23      83.737864\n"
          ]
        }
      ]
    },
    {
      "cell_type": "code",
      "source": [
        "print('Aos sábados (weekday = 6), qual o horário do dia contém a maior média de locações de bicicletas?')\n",
        "s = df.loc[df.index == 6, ['hour', 'total_count']]\n",
        "s.groupby(by='hour')\n",
        "print(s.groupby(by='hour').mean())"
      ],
      "metadata": {
        "colab": {
          "base_uri": "https://localhost:8080/"
        },
        "id": "KZA-YxBC78e4",
        "outputId": "4690414c-1b22-441e-a42f-0668b15f182d"
      },
      "execution_count": null,
      "outputs": [
        {
          "output_type": "stream",
          "name": "stdout",
          "text": [
            "Aos sábados (weekday = 6), qual o horário do dia contém a maior média de locações de bicicletas?\n",
            "      total_count\n",
            "hour             \n",
            "0       94.304762\n",
            "1       67.780952\n",
            "2       50.495238\n",
            "3       22.885714\n",
            "4        7.657143\n",
            "5        8.291262\n",
            "6       21.000000\n",
            "7       45.961905\n",
            "8      114.476190\n",
            "9      186.790476\n",
            "10     263.723810\n",
            "11     328.609524\n",
            "12     375.380952\n",
            "13     385.371429\n",
            "14     381.333333\n",
            "15     382.428571\n",
            "16     366.142857\n",
            "17     334.409524\n",
            "18     292.048077\n",
            "19     239.932692\n",
            "20     180.865385\n",
            "21     156.000000\n",
            "22     139.663462\n",
            "23     115.855769\n"
          ]
        }
      ]
    }
  ],
  "metadata": {
    "colab": {
      "collapsed_sections": [],
      "provenance": []
    },
    "kernelspec": {
      "display_name": "Python 3",
      "name": "python3"
    },
    "language_info": {
      "name": "python"
    }
  },
  "nbformat": 4,
  "nbformat_minor": 0
}