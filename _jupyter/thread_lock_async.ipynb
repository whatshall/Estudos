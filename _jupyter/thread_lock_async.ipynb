{
 "cells": [
  {
   "cell_type": "code",
   "execution_count": 17,
   "id": "ea792fe3-1544-4e8b-804c-2626cd36c9a5",
   "metadata": {},
   "outputs": [],
   "source": [
    "from time import sleep\n",
    "from threading import Thread\n",
    "from threading import Lock"
   ]
  },
  {
   "cell_type": "code",
   "execution_count": 2,
   "id": "f93c919f-48b1-4d7c-b30e-be940cfa31ad",
   "metadata": {
    "collapsed": true,
    "jupyter": {
     "outputs_hidden": true
    },
    "tags": []
   },
   "outputs": [
    {
     "name": "stdout",
     "output_type": "stream",
     "text": [
      "hello\n",
      "0\n",
      "1\n",
      "2\n",
      "3\n",
      "4\n",
      "5\n",
      "6\n",
      "7\n",
      "8\n",
      "9\n",
      "alô\n"
     ]
    }
   ],
   "source": [
    "# THREAD\n",
    "print(\"hello\")\n",
    "\n",
    "for i in range(10):\n",
    "    print(i)\n",
    "    sleep(.5)\n",
    "    \n",
    "print(\"alô\")"
   ]
  },
  {
   "cell_type": "code",
   "execution_count": 8,
   "id": "e72c5356-7f00-4397-9843-7e3424ea2a00",
   "metadata": {
    "collapsed": true,
    "jupyter": {
     "outputs_hidden": true
    },
    "tags": []
   },
   "outputs": [
    {
     "name": "stdout",
     "output_type": "stream",
     "text": [
      "0\n",
      "1\n",
      "alô\n",
      "2\n",
      "3\n",
      "4\n",
      "alô\n",
      "5\n",
      "6\n",
      "alô\n",
      "7\n",
      "8\n",
      "9\n",
      "alô\n",
      "10\n",
      "11\n",
      "12\n",
      "13\n",
      "14\n",
      "15\n",
      "16\n",
      "17\n",
      "18\n",
      "19\n"
     ]
    }
   ],
   "source": [
    "class teste(Thread):\n",
    "    def __init__(self, texto, tempo):\n",
    "        self.texto = texto\n",
    "        self.tempo = tempo\n",
    "        \n",
    "        super().__init__()\n",
    "        \n",
    "    def run(self):\n",
    "        sleep(self.tempo)\n",
    "        print(self.texto)\n",
    "        \n",
    "t1 = teste(\"alô\", 2)\n",
    "t1.start()\n",
    "\n",
    "t2 = teste(\"alô\", 5)\n",
    "t2.start()\n",
    "\n",
    "t3 = teste(\"alô\", 7)\n",
    "t3.start()\n",
    "\n",
    "t4 = teste(\"alô\", 10)\n",
    "t4.start()\n",
    "\n",
    "for i in range(20):\n",
    "    print(i)\n",
    "    sleep(1)"
   ]
  },
  {
   "cell_type": "code",
   "execution_count": 19,
   "id": "4b1f55f8-74ed-4fd5-b069-774d0837a7d5",
   "metadata": {
    "collapsed": true,
    "jupyter": {
     "outputs_hidden": true
    },
    "tags": []
   },
   "outputs": [
    {
     "name": "stdout",
     "output_type": "stream",
     "text": [
      "vc comprou 1 coisas.              temos 9 em estoque\n",
      "vc comprou 2 coisas.              temos 7 em estoque\n",
      "vc comprou 3 coisas.              temos 4 em estoque\n",
      "vc comprou 4 coisas.              temos 0 em estoque\n",
      "sem coisas suficientes.\n",
      "sem coisas suficientes.\n",
      "sem coisas suficientes.\n",
      "sem coisas suficientes.\n",
      "sem coisas suficientes.\n",
      "sem coisas suficientes.\n",
      "sem coisas suficientes.\n",
      "sem coisas suficientes.\n",
      "sem coisas suficientes.\n",
      "sem coisas suficientes.\n"
     ]
    }
   ],
   "source": [
    "# LOCK\n",
    "class Coisas:\n",
    "    def __init__(self, estoque):\n",
    "        self.estoque = estoque\n",
    "        self.lock = Lock()\n",
    "        \n",
    "    def comprar(self, quantidade):\n",
    "        self.lock.acquire()\n",
    "        if self.estoque < quantidade:\n",
    "            print(f'sem coisas suficientes.')\n",
    "            self.lock.release()\n",
    "            return\n",
    "        sleep(1)\n",
    "        self.estoque -= quantidade\n",
    "        print(f'vc comprou {quantidade} coisas.\\\n",
    "              temos {self.estoque} em estoque')\n",
    "        self.lock.release()\n",
    "if __name__ == '__main__':\n",
    "    coisas = Coisas(10)\n",
    "    #coisas.comprar(1)\n",
    "    for i in range(1, 15):\n",
    "    #    coisas.comprar(1)\n",
    "    # Passando a thread\n",
    "        t = Thread(target = coisas.comprar, args = (i,))\n",
    "        t.start()"
   ]
  },
  {
   "cell_type": "code",
   "execution_count": 20,
   "id": "3ee39b7a-b4e2-4ce3-bdb8-f5b7f18f9241",
   "metadata": {},
   "outputs": [],
   "source": [
    "# ASYNC\n",
    "import nest_asyncio\n",
    "nest_asyncio.apply()\n",
    "import asyncio\n",
    "from multiprocessing import Pool, cpu_count\n",
    "import concurrent.futures\n",
    "import sys\n",
    "from enum import Enum\n",
    "import aiohttp\n",
    "import requests"
   ]
  },
  {
   "cell_type": "code",
   "execution_count": 21,
   "id": "58c520bc-3755-4a4e-968b-1ab383c287be",
   "metadata": {},
   "outputs": [],
   "source": [
    "def get_ids_cervejarias():\n",
    "    r = requests.get('https://api.openbrewerydb.org/breweries')\n",
    "    if r.status_code == 200:\n",
    "        return [r['id'] for r in r.json()]"
   ]
  },
  {
   "cell_type": "code",
   "execution_count": 22,
   "id": "16da28ba-6cbe-4370-931e-c622776d278e",
   "metadata": {},
   "outputs": [],
   "source": [
    "def get_cervejaria():\n",
    "    r = requests.get(f'https://api.openbrewerydb.org/breweries/{id_c}')\n",
    "    if r.status_code == 200:\n",
    "        return [r['id'] for r in r.json()]"
   ]
  },
  {
   "cell_type": "code",
   "execution_count": null,
   "id": "55923528-535d-41db-96b3-90e392afe7da",
   "metadata": {},
   "outputs": [],
   "source": []
  }
 ],
 "metadata": {
  "kernelspec": {
   "display_name": "Python 3 (ipykernel)",
   "language": "python",
   "name": "python3"
  },
  "language_info": {
   "codemirror_mode": {
    "name": "ipython",
    "version": 3
   },
   "file_extension": ".py",
   "mimetype": "text/x-python",
   "name": "python",
   "nbconvert_exporter": "python",
   "pygments_lexer": "ipython3",
   "version": "3.9.12"
  }
 },
 "nbformat": 4,
 "nbformat_minor": 5
}
