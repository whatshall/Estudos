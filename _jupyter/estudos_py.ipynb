{
  "nbformat": 4,
  "nbformat_minor": 0,
  "metadata": {
    "colab": {
      "provenance": [],
      "collapsed_sections": []
    },
    "kernelspec": {
      "name": "python3",
      "display_name": "Python 3"
    },
    "language_info": {
      "name": "python"
    }
  },
  "cells": [
    {
      "cell_type": "code",
      "execution_count": null,
      "metadata": {
        "id": "Ck90vaEDJBam"
      },
      "outputs": [],
      "source": [
        "# declaração das variáveis\n",
        "inicio = 0\n",
        "fim = 100\n",
        "# verifica quais números são divisíveis por cinco, e exibe aqueles que são\n",
        "for numero in range(inicio, fim):\n",
        " if numero % 5 == 0:\n",
        "   print(numero)"
      ]
    },
    {
      "cell_type": "code",
      "source": [
        "# (3)\n",
        "r = float(input('valor do raio, para obter a circuferência do círculo: '))\n",
        "pi = '3.14'\n",
        "\n",
        "area = float(pi) * r\n",
        "\n",
        "print(\"area: {:.2f}\".format(area))"
      ],
      "metadata": {
        "colab": {
          "base_uri": "https://localhost:8080/"
        },
        "id": "Qw2AiYKmBk7X",
        "outputId": "45798e24-6eb2-496c-b254-ad25f77d62ae"
      },
      "execution_count": null,
      "outputs": [
        {
          "output_type": "stream",
          "name": "stdout",
          "text": [
            "valor do raio, para obter a circuferência do círculo: 6\n",
            "area: 18.84\n"
          ]
        }
      ]
    },
    {
      "cell_type": "code",
      "source": [
        "r = float(input('valor do raio, para obter a area do círculo: '))\n",
        "\n",
        "area = 3.14 * r\n",
        "\n",
        "print(\"area: {:.2f}\".format(area))"
      ],
      "metadata": {
        "colab": {
          "base_uri": "https://localhost:8080/"
        },
        "id": "DLMfQiL_EEi_",
        "outputId": "3cdf4b34-9974-49c9-9c6e-98a856d18c79"
      },
      "execution_count": null,
      "outputs": [
        {
          "output_type": "stream",
          "name": "stdout",
          "text": [
            "valor do raio, para obter a circuferência do círculo: 9\n",
            "area: 28.26\n"
          ]
        }
      ]
    },
    {
      "cell_type": "code",
      "source": [
        "# função explicita\n",
        "def area_circulo(pi, r):\n",
        "    return pi*r"
      ],
      "metadata": {
        "id": "kG_txGbMExxr"
      },
      "execution_count": null,
      "outputs": []
    },
    {
      "cell_type": "code",
      "source": [
        "def area_circulo2(r):\n",
        "    return '3,14'*r"
      ],
      "metadata": {
        "id": "lNDp62ilGWog"
      },
      "execution_count": null,
      "outputs": []
    },
    {
      "cell_type": "code",
      "source": [
        "area_circulo(3.14,5)"
      ],
      "metadata": {
        "colab": {
          "base_uri": "https://localhost:8080/"
        },
        "id": "_hRtauQyFUcp",
        "outputId": "f1ff0eba-7613-4c6d-f74d-8a6a346b9782"
      },
      "execution_count": null,
      "outputs": [
        {
          "output_type": "execute_result",
          "data": {
            "text/plain": [
              "15.700000000000001"
            ]
          },
          "metadata": {},
          "execution_count": 37
        }
      ]
    },
    {
      "cell_type": "code",
      "source": [
        "# (4)\n",
        "# função anonima (lambda)\n",
        "area_circ = lambda pi, r : pi * r"
      ],
      "metadata": {
        "id": "zkN5Qj9vFq26"
      },
      "execution_count": null,
      "outputs": []
    },
    {
      "cell_type": "code",
      "source": [
        "area_circ(6,10)"
      ],
      "metadata": {
        "colab": {
          "base_uri": "https://localhost:8080/"
        },
        "id": "43d8z-mMGRME",
        "outputId": "4e7a8aac-11ed-4012-a7e4-fd312b7c6067"
      },
      "execution_count": null,
      "outputs": [
        {
          "output_type": "execute_result",
          "data": {
            "text/plain": [
              "60"
            ]
          },
          "metadata": {},
          "execution_count": 31
        }
      ]
    },
    {
      "cell_type": "code",
      "source": [
        "# (5) Crie um módulo em Python, chamado processalista (arquivo processalista.py), \n",
        "# com as seguintes funções, que deverão receber como argumento uma lista (tipo list) de números inteiros\n",
        "\n",
        "# 1.Encontra e retorna o maior número impar presente na lista\n",
        "def maior_impar(lista):\n",
        "  impares = [i for i in lista if i % 2 != 0]\n",
        "  print('maior impar :', max(impares))\n",
        "  return lista\n",
        "\n",
        "# fç lambda\n",
        "maior_impar_2 = lambda lista: max([i for i in lista if i % 2 != 0])\n",
        "###########################################################\n",
        "\n",
        "# 2.Encontra e retorna o menor número impar presente na lista\n",
        "def menor_impar(lista):\n",
        "  impares = [i for i in lista if i % 2 != 0]\n",
        "  print('menor impar :', min(impares))\n",
        "  return lista\n",
        "\n",
        "# fç lambda\n",
        "menor_impar_2 = lambda lista: min([i for i in lista if i % 2 != 0])\n",
        "\n",
        "######################################################################\n",
        "# 3.Encontra e retorna o maior e o menor número ímpar presentes na lista\n",
        "def maior_e_menor_impar(lista):\n",
        "  impares = [i for i in lista if i % 2 != 0]\n",
        "  print('menor impar :', min(impares))\n",
        "  print('maior impar :', max(impares))\n",
        "  return lista\n",
        "\n",
        "######################################################################\n",
        "def maior_valor(lista):\n",
        "    try:\n",
        "        if len(lista) == 0:\n",
        "            return None\n",
        "\n",
        "        maior = lista[0]\n",
        "\n",
        "        for valor in lista:\n",
        "            if valor > maior:\n",
        "                maior = valor\n",
        "\n",
        "        return maior\n",
        "    except TypeError:\n",
        "        return lista"
      ],
      "metadata": {
        "id": "Sf78dHekzT5o"
      },
      "execution_count": null,
      "outputs": []
    },
    {
      "cell_type": "code",
      "source": [
        "maior_impar([3, 9, 15, 19, 25, 2, 77, 12, 13, 79, 102])"
      ],
      "metadata": {
        "colab": {
          "base_uri": "https://localhost:8080/"
        },
        "id": "gCCm4z2S2Arb",
        "outputId": "94fb8b22-0341-4235-dabc-edbc63da9ba8"
      },
      "execution_count": null,
      "outputs": [
        {
          "output_type": "stream",
          "name": "stdout",
          "text": [
            "maior impar : 79\n"
          ]
        },
        {
          "output_type": "execute_result",
          "data": {
            "text/plain": [
              "[3, 9, 15, 19, 25, 2, 77, 12, 13, 79, 102]"
            ]
          },
          "metadata": {},
          "execution_count": 91
        }
      ]
    },
    {
      "cell_type": "code",
      "source": [
        "maior_impar_2([3, 9, 15, 19, 25, 2, 77, 12, 13, 79,102])"
      ],
      "metadata": {
        "colab": {
          "base_uri": "https://localhost:8080/"
        },
        "id": "jVxJSk1g8frH",
        "outputId": "fed60580-1444-4bae-80b0-96ead3437c62"
      },
      "execution_count": null,
      "outputs": [
        {
          "output_type": "execute_result",
          "data": {
            "text/plain": [
              "79"
            ]
          },
          "metadata": {},
          "execution_count": 92
        }
      ]
    },
    {
      "cell_type": "code",
      "source": [
        "menor_impar([3, 9, 15, 19, 25, 2, 77, 12, 13, 79])"
      ],
      "metadata": {
        "colab": {
          "base_uri": "https://localhost:8080/"
        },
        "id": "HFjUkvCX9AYr",
        "outputId": "b357ddb3-418f-436e-cb36-1f67ca73b0ea"
      },
      "execution_count": null,
      "outputs": [
        {
          "output_type": "stream",
          "name": "stdout",
          "text": [
            "menor impar : 3\n"
          ]
        },
        {
          "output_type": "execute_result",
          "data": {
            "text/plain": [
              "[3, 9, 15, 19, 25, 2, 77, 12, 13, 79]"
            ]
          },
          "metadata": {},
          "execution_count": 94
        }
      ]
    },
    {
      "cell_type": "code",
      "source": [
        "maior_e_menor_impar([3, 9, 15, 19, 25, 2, 77, 12, 13, 79])"
      ],
      "metadata": {
        "colab": {
          "base_uri": "https://localhost:8080/"
        },
        "id": "DA7OZK1g_jC5",
        "outputId": "b1c0c306-f2fc-469b-82eb-4b737f764a76"
      },
      "execution_count": null,
      "outputs": [
        {
          "output_type": "stream",
          "name": "stdout",
          "text": [
            "menor impar : 3\n",
            "maior impar : 79\n"
          ]
        },
        {
          "output_type": "execute_result",
          "data": {
            "text/plain": [
              "[3, 9, 15, 19, 25, 2, 77, 12, 13, 79]"
            ]
          },
          "metadata": {},
          "execution_count": 95
        }
      ]
    },
    {
      "cell_type": "code",
      "source": [
        "# (6) Considere a seguinte agenda de disponibilidade de atendimento de uma clínica com vários médicos, cada um de uma especialidade distinta. \n",
        "# Esta clínica possuí apenas três consultórios, e, por isso, no máximo três médicos podem atender por dia.\n",
        "\n",
        "# relação de dias da semana que cada médico atende\n",
        "cardio = {'terca', 'quarta'}\n",
        "orto = {'terca', 'quinta'}\n",
        "dermato = {'segunda', 'quarta', 'sexta'}\n",
        "neuro = {'terca', 'quinta', 'sexta'}\n",
        "psiq = {'segunda', 'quarta', 'sexta'}\n",
        "\n",
        "# Calcula quais os dias possíveis para dois médicos\n",
        "def disp_dois_especialistas(medico01, medico02):\n",
        "   print('Dias em comum:',medico01 & medico02) \n",
        "\n",
        "# Calcula quais os dias possíveis para três médicos\n",
        "def disp_tres_especialistas(medico01, medico02, medico03):\n",
        "   print('Dias em comum:', medico01 & medico02& medico03) \n"
      ],
      "metadata": {
        "id": "45Hhvs8cBd9I"
      },
      "execution_count": null,
      "outputs": []
    },
    {
      "cell_type": "code",
      "source": [
        "# Médicos solicitados: ortopedista e neurologista\n",
        "disp_dois_especialistas(orto, neuro)\n",
        "\n",
        "# Médicos solicitados: dermatologista, neurologista, psquiatra\n",
        "disp_tres_especialistas(dermato, neuro, psiq)"
      ],
      "metadata": {
        "colab": {
          "base_uri": "https://localhost:8080/"
        },
        "id": "7PdXo64gDSjG",
        "outputId": "50a8637a-c47c-4db2-8c6d-3ddab76875f2"
      },
      "execution_count": null,
      "outputs": [
        {
          "output_type": "stream",
          "name": "stdout",
          "text": [
            "Dias em comum: {'quinta', 'terca'}\n",
            "Dias em comum: {'sexta'}\n"
          ]
        }
      ]
    }
  ]
}