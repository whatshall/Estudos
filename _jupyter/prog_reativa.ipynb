{
 "cells": [
  {
   "cell_type": "code",
   "execution_count": 3,
   "id": "bd15c042-025c-4a6d-a2ac-3cae4ad8ef06",
   "metadata": {},
   "outputs": [],
   "source": [
    "# Programação Reativa\n",
    "import rx\n",
    "import rx.operators as ops"
   ]
  },
  {
   "cell_type": "code",
   "execution_count": 4,
   "id": "0296aad3-1ad1-4917-8e8b-ae12bfda87e9",
   "metadata": {},
   "outputs": [
    {
     "name": "stdout",
     "output_type": "stream",
     "text": [
      "on_next: 0\n",
      "on_next: 2\n",
      "on_next: 4\n",
      "on_completed\n",
      "fim\n"
     ]
    }
   ],
   "source": [
    "source = rx.from_iterable([1,2,3,4,5])\n",
    "\n",
    "disposable = source.pipe(\n",
    "    ops.map(lambda i:i-1),\n",
    "    ops.filter(lambda i:i%2 == 0),\n",
    ").subscribe(\n",
    "    on_next =lambda i: print(\"on_next: {}\".format(i)),\n",
    "    on_completed = lambda: print(\"on_completed\"),\n",
    "    on_error = lambda e: print(\"on_error: {}\".format(e))\n",
    ")\n",
    "disposable.dispose()\n",
    "print(\"fim\")"
   ]
  },
  {
   "cell_type": "code",
   "execution_count": null,
   "id": "e0ed275e-c493-4925-a549-dc2203ed705e",
   "metadata": {},
   "outputs": [],
   "source": []
  }
 ],
 "metadata": {
  "kernelspec": {
   "display_name": "Python 3 (ipykernel)",
   "language": "python",
   "name": "python3"
  },
  "language_info": {
   "codemirror_mode": {
    "name": "ipython",
    "version": 3
   },
   "file_extension": ".py",
   "mimetype": "text/x-python",
   "name": "python",
   "nbconvert_exporter": "python",
   "pygments_lexer": "ipython3",
   "version": "3.9.12"
  }
 },
 "nbformat": 4,
 "nbformat_minor": 5
}
