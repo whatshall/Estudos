{
 "cells": [
  {
   "cell_type": "code",
   "execution_count": 3,
   "metadata": {
    "id": "fQJ5CYV9Te0X"
   },
   "outputs": [],
   "source": [
    "# **TRATAMENTO DADOS ENEM NO ESTADO DE SAO PAULO 2019**"
   ]
  },
  {
   "cell_type": "code",
   "execution_count": 4,
   "metadata": {
    "id": "nWvIcticlCs2"
   },
   "outputs": [],
   "source": [
    "import numpy as np\n",
    "import pandas as pd"
   ]
  },
  {
   "cell_type": "code",
   "execution_count": 5,
   "metadata": {
    "id": "LRIrwcC8kUhT"
   },
   "outputs": [],
   "source": [
    "dados = pd.read_csv('C:/Users/leand/Documents/scripts_jupyter/bases/microdados_enem_2019_sp.csv',\n",
    "                    sep=';', \n",
    "                    encoding='iso-8859-1')\n",
    "# encoding: codificação de caracteres, normalmente utiliza-se o iso-8859-1, utf-8, latin-1)"
   ]
  },
  {
   "cell_type": "code",
   "execution_count": 6,
   "metadata": {
    "id": "AwJYfRTTCnLd"
   },
   "outputs": [],
   "source": [
    "pd.options.display.max_columns = 44"
   ]
  },
  {
   "cell_type": "code",
   "execution_count": 7,
   "metadata": {
    "colab": {
     "base_uri": "https://localhost:8080/",
     "height": 0
    },
    "id": "Gol7BjFSuNs0",
    "outputId": "0c556a24-e0be-44f8-eca0-d1d3510ea877"
   },
   "outputs": [
    {
     "data": {
      "text/html": [
       "<div>\n",
       "<style scoped>\n",
       "    .dataframe tbody tr th:only-of-type {\n",
       "        vertical-align: middle;\n",
       "    }\n",
       "\n",
       "    .dataframe tbody tr th {\n",
       "        vertical-align: top;\n",
       "    }\n",
       "\n",
       "    .dataframe thead th {\n",
       "        text-align: right;\n",
       "    }\n",
       "</style>\n",
       "<table border=\"1\" class=\"dataframe\">\n",
       "  <thead>\n",
       "    <tr style=\"text-align: right;\">\n",
       "      <th></th>\n",
       "      <th>NU_INSCRICAO</th>\n",
       "      <th>CO_MUNICIPIO_RESIDENCIA</th>\n",
       "      <th>NO_MUNICIPIO_RESIDENCIA</th>\n",
       "      <th>CO_UF_RESIDENCIA</th>\n",
       "      <th>SG_UF_RESIDENCIA</th>\n",
       "      <th>NU_IDADE</th>\n",
       "      <th>TP_SEXO</th>\n",
       "      <th>TP_ESTADO_CIVIL</th>\n",
       "      <th>TP_COR_RACA</th>\n",
       "      <th>TP_NACIONALIDADE</th>\n",
       "      <th>CO_MUNICIPIO_NASCIMENTO</th>\n",
       "      <th>NO_MUNICIPIO_NASCIMENTO</th>\n",
       "      <th>CO_UF_NASCIMENTO</th>\n",
       "      <th>SG_UF_NASCIMENTO</th>\n",
       "      <th>TP_ST_CONCLUSAO</th>\n",
       "      <th>TP_ANO_CONCLUIU</th>\n",
       "      <th>TP_ESCOLA</th>\n",
       "      <th>TP_ENSINO</th>\n",
       "      <th>IN_TREINEIRO</th>\n",
       "      <th>CO_ESCOLA</th>\n",
       "      <th>CO_MUNICIPIO_ESC</th>\n",
       "      <th>NO_MUNICIPIO_ESC</th>\n",
       "      <th>CO_UF_ESC</th>\n",
       "      <th>SG_UF_ESC</th>\n",
       "      <th>TP_DEPENDENCIA_ADM_ESC</th>\n",
       "      <th>TP_LOCALIZACAO_ESC</th>\n",
       "      <th>TP_SIT_FUNC_ESC</th>\n",
       "      <th>TP_PRESENCA_CN</th>\n",
       "      <th>TP_PRESENCA_CH</th>\n",
       "      <th>TP_PRESENCA_LC</th>\n",
       "      <th>TP_PRESENCA_MT</th>\n",
       "      <th>NU_NOTA_CN</th>\n",
       "      <th>NU_NOTA_CH</th>\n",
       "      <th>NU_NOTA_LC</th>\n",
       "      <th>NU_NOTA_MT</th>\n",
       "      <th>TP_LINGUA</th>\n",
       "      <th>TP_STATUS_REDACAO</th>\n",
       "      <th>NU_NOTA_COMP1</th>\n",
       "      <th>NU_NOTA_COMP2</th>\n",
       "      <th>NU_NOTA_COMP3</th>\n",
       "      <th>NU_NOTA_COMP4</th>\n",
       "      <th>NU_NOTA_COMP5</th>\n",
       "      <th>NU_NOTA_REDACAO</th>\n",
       "      <th>Q025</th>\n",
       "    </tr>\n",
       "  </thead>\n",
       "  <tbody>\n",
       "    <tr>\n",
       "      <th>0</th>\n",
       "      <td>1,90E+11</td>\n",
       "      <td>3546801</td>\n",
       "      <td>Santa Isabel</td>\n",
       "      <td>35</td>\n",
       "      <td>SP</td>\n",
       "      <td>22</td>\n",
       "      <td>M</td>\n",
       "      <td>1</td>\n",
       "      <td>3</td>\n",
       "      <td>1</td>\n",
       "      <td>1506500.0</td>\n",
       "      <td>Santa Izabel do Pará</td>\n",
       "      <td>15.0</td>\n",
       "      <td>PA</td>\n",
       "      <td>1</td>\n",
       "      <td>4</td>\n",
       "      <td>1</td>\n",
       "      <td>1.0</td>\n",
       "      <td>0</td>\n",
       "      <td>NaN</td>\n",
       "      <td>NaN</td>\n",
       "      <td>NaN</td>\n",
       "      <td>NaN</td>\n",
       "      <td>NaN</td>\n",
       "      <td>NaN</td>\n",
       "      <td>NaN</td>\n",
       "      <td>NaN</td>\n",
       "      <td>1</td>\n",
       "      <td>1</td>\n",
       "      <td>1</td>\n",
       "      <td>1</td>\n",
       "      <td>5646.0</td>\n",
       "      <td>5858.0</td>\n",
       "      <td>5929.0</td>\n",
       "      <td>6002.0</td>\n",
       "      <td>0</td>\n",
       "      <td>1.0</td>\n",
       "      <td>160.0</td>\n",
       "      <td>200.0</td>\n",
       "      <td>180.0</td>\n",
       "      <td>200.0</td>\n",
       "      <td>200.0</td>\n",
       "      <td>940.0</td>\n",
       "      <td>B</td>\n",
       "    </tr>\n",
       "    <tr>\n",
       "      <th>1</th>\n",
       "      <td>1,90E+11</td>\n",
       "      <td>3538204</td>\n",
       "      <td>Pinhalzinho</td>\n",
       "      <td>35</td>\n",
       "      <td>SP</td>\n",
       "      <td>19</td>\n",
       "      <td>M</td>\n",
       "      <td>1</td>\n",
       "      <td>3</td>\n",
       "      <td>1</td>\n",
       "      <td>1503804.0</td>\n",
       "      <td>Jacundá</td>\n",
       "      <td>15.0</td>\n",
       "      <td>PA</td>\n",
       "      <td>1</td>\n",
       "      <td>2</td>\n",
       "      <td>1</td>\n",
       "      <td>1.0</td>\n",
       "      <td>0</td>\n",
       "      <td>NaN</td>\n",
       "      <td>NaN</td>\n",
       "      <td>NaN</td>\n",
       "      <td>NaN</td>\n",
       "      <td>NaN</td>\n",
       "      <td>NaN</td>\n",
       "      <td>NaN</td>\n",
       "      <td>NaN</td>\n",
       "      <td>0</td>\n",
       "      <td>0</td>\n",
       "      <td>0</td>\n",
       "      <td>0</td>\n",
       "      <td>NaN</td>\n",
       "      <td>NaN</td>\n",
       "      <td>NaN</td>\n",
       "      <td>NaN</td>\n",
       "      <td>1</td>\n",
       "      <td>NaN</td>\n",
       "      <td>NaN</td>\n",
       "      <td>NaN</td>\n",
       "      <td>NaN</td>\n",
       "      <td>NaN</td>\n",
       "      <td>NaN</td>\n",
       "      <td>NaN</td>\n",
       "      <td>A</td>\n",
       "    </tr>\n",
       "    <tr>\n",
       "      <th>2</th>\n",
       "      <td>1,90E+11</td>\n",
       "      <td>3550308</td>\n",
       "      <td>São Paulo</td>\n",
       "      <td>35</td>\n",
       "      <td>SP</td>\n",
       "      <td>17</td>\n",
       "      <td>F</td>\n",
       "      <td>1</td>\n",
       "      <td>3</td>\n",
       "      <td>1</td>\n",
       "      <td>1501402.0</td>\n",
       "      <td>Belém</td>\n",
       "      <td>15.0</td>\n",
       "      <td>PA</td>\n",
       "      <td>2</td>\n",
       "      <td>0</td>\n",
       "      <td>3</td>\n",
       "      <td>1.0</td>\n",
       "      <td>0</td>\n",
       "      <td>15567761.0</td>\n",
       "      <td>1501402.0</td>\n",
       "      <td>Belém</td>\n",
       "      <td>15.0</td>\n",
       "      <td>PA</td>\n",
       "      <td>4.0</td>\n",
       "      <td>1.0</td>\n",
       "      <td>1.0</td>\n",
       "      <td>1</td>\n",
       "      <td>1</td>\n",
       "      <td>1</td>\n",
       "      <td>1</td>\n",
       "      <td>5762.0</td>\n",
       "      <td>6411.0</td>\n",
       "      <td>6343.0</td>\n",
       "      <td>7318.0</td>\n",
       "      <td>0</td>\n",
       "      <td>1.0</td>\n",
       "      <td>160.0</td>\n",
       "      <td>120.0</td>\n",
       "      <td>200.0</td>\n",
       "      <td>200.0</td>\n",
       "      <td>200.0</td>\n",
       "      <td>880.0</td>\n",
       "      <td>A</td>\n",
       "    </tr>\n",
       "    <tr>\n",
       "      <th>3</th>\n",
       "      <td>1,90E+11</td>\n",
       "      <td>3548708</td>\n",
       "      <td>São Bernardo do Campo</td>\n",
       "      <td>35</td>\n",
       "      <td>SP</td>\n",
       "      <td>19</td>\n",
       "      <td>M</td>\n",
       "      <td>1</td>\n",
       "      <td>3</td>\n",
       "      <td>1</td>\n",
       "      <td>3548708.0</td>\n",
       "      <td>São Bernardo do Campo</td>\n",
       "      <td>35.0</td>\n",
       "      <td>SP</td>\n",
       "      <td>2</td>\n",
       "      <td>0</td>\n",
       "      <td>2</td>\n",
       "      <td>1.0</td>\n",
       "      <td>0</td>\n",
       "      <td>35904958.0</td>\n",
       "      <td>3548708.0</td>\n",
       "      <td>São Bernardo do Campo</td>\n",
       "      <td>35.0</td>\n",
       "      <td>SP</td>\n",
       "      <td>2.0</td>\n",
       "      <td>1.0</td>\n",
       "      <td>1.0</td>\n",
       "      <td>1</td>\n",
       "      <td>1</td>\n",
       "      <td>1</td>\n",
       "      <td>1</td>\n",
       "      <td>4022.0</td>\n",
       "      <td>4248.0</td>\n",
       "      <td>5096.0</td>\n",
       "      <td>3932.0</td>\n",
       "      <td>1</td>\n",
       "      <td>1.0</td>\n",
       "      <td>80.0</td>\n",
       "      <td>160.0</td>\n",
       "      <td>120.0</td>\n",
       "      <td>100.0</td>\n",
       "      <td>100.0</td>\n",
       "      <td>560.0</td>\n",
       "      <td>B</td>\n",
       "    </tr>\n",
       "    <tr>\n",
       "      <th>4</th>\n",
       "      <td>1,90E+11</td>\n",
       "      <td>3549409</td>\n",
       "      <td>São Joaquim da Barra</td>\n",
       "      <td>35</td>\n",
       "      <td>SP</td>\n",
       "      <td>37</td>\n",
       "      <td>M</td>\n",
       "      <td>2</td>\n",
       "      <td>1</td>\n",
       "      <td>1</td>\n",
       "      <td>3549409.0</td>\n",
       "      <td>São Joaquim da Barra</td>\n",
       "      <td>35.0</td>\n",
       "      <td>SP</td>\n",
       "      <td>1</td>\n",
       "      <td>3</td>\n",
       "      <td>1</td>\n",
       "      <td>1.0</td>\n",
       "      <td>0</td>\n",
       "      <td>NaN</td>\n",
       "      <td>NaN</td>\n",
       "      <td>NaN</td>\n",
       "      <td>NaN</td>\n",
       "      <td>NaN</td>\n",
       "      <td>NaN</td>\n",
       "      <td>NaN</td>\n",
       "      <td>NaN</td>\n",
       "      <td>0</td>\n",
       "      <td>0</td>\n",
       "      <td>0</td>\n",
       "      <td>0</td>\n",
       "      <td>NaN</td>\n",
       "      <td>NaN</td>\n",
       "      <td>NaN</td>\n",
       "      <td>NaN</td>\n",
       "      <td>1</td>\n",
       "      <td>NaN</td>\n",
       "      <td>NaN</td>\n",
       "      <td>NaN</td>\n",
       "      <td>NaN</td>\n",
       "      <td>NaN</td>\n",
       "      <td>NaN</td>\n",
       "      <td>NaN</td>\n",
       "      <td>B</td>\n",
       "    </tr>\n",
       "  </tbody>\n",
       "</table>\n",
       "</div>"
      ],
      "text/plain": [
       "  NU_INSCRICAO  CO_MUNICIPIO_RESIDENCIA NO_MUNICIPIO_RESIDENCIA  \\\n",
       "0     1,90E+11                  3546801            Santa Isabel   \n",
       "1     1,90E+11                  3538204             Pinhalzinho   \n",
       "2     1,90E+11                  3550308               São Paulo   \n",
       "3     1,90E+11                  3548708   São Bernardo do Campo   \n",
       "4     1,90E+11                  3549409    São Joaquim da Barra   \n",
       "\n",
       "   CO_UF_RESIDENCIA SG_UF_RESIDENCIA  NU_IDADE TP_SEXO  TP_ESTADO_CIVIL  \\\n",
       "0                35               SP        22       M                1   \n",
       "1                35               SP        19       M                1   \n",
       "2                35               SP        17       F                1   \n",
       "3                35               SP        19       M                1   \n",
       "4                35               SP        37       M                2   \n",
       "\n",
       "   TP_COR_RACA  TP_NACIONALIDADE  CO_MUNICIPIO_NASCIMENTO  \\\n",
       "0            3                 1                1506500.0   \n",
       "1            3                 1                1503804.0   \n",
       "2            3                 1                1501402.0   \n",
       "3            3                 1                3548708.0   \n",
       "4            1                 1                3549409.0   \n",
       "\n",
       "  NO_MUNICIPIO_NASCIMENTO  CO_UF_NASCIMENTO SG_UF_NASCIMENTO  TP_ST_CONCLUSAO  \\\n",
       "0    Santa Izabel do Pará              15.0               PA                1   \n",
       "1                 Jacundá              15.0               PA                1   \n",
       "2                   Belém              15.0               PA                2   \n",
       "3   São Bernardo do Campo              35.0               SP                2   \n",
       "4    São Joaquim da Barra              35.0               SP                1   \n",
       "\n",
       "   TP_ANO_CONCLUIU  TP_ESCOLA  TP_ENSINO  IN_TREINEIRO   CO_ESCOLA  \\\n",
       "0                4          1        1.0             0         NaN   \n",
       "1                2          1        1.0             0         NaN   \n",
       "2                0          3        1.0             0  15567761.0   \n",
       "3                0          2        1.0             0  35904958.0   \n",
       "4                3          1        1.0             0         NaN   \n",
       "\n",
       "   CO_MUNICIPIO_ESC       NO_MUNICIPIO_ESC  CO_UF_ESC SG_UF_ESC  \\\n",
       "0               NaN                    NaN        NaN       NaN   \n",
       "1               NaN                    NaN        NaN       NaN   \n",
       "2         1501402.0                  Belém       15.0        PA   \n",
       "3         3548708.0  São Bernardo do Campo       35.0        SP   \n",
       "4               NaN                    NaN        NaN       NaN   \n",
       "\n",
       "   TP_DEPENDENCIA_ADM_ESC  TP_LOCALIZACAO_ESC  TP_SIT_FUNC_ESC  \\\n",
       "0                     NaN                 NaN              NaN   \n",
       "1                     NaN                 NaN              NaN   \n",
       "2                     4.0                 1.0              1.0   \n",
       "3                     2.0                 1.0              1.0   \n",
       "4                     NaN                 NaN              NaN   \n",
       "\n",
       "   TP_PRESENCA_CN  TP_PRESENCA_CH  TP_PRESENCA_LC  TP_PRESENCA_MT  NU_NOTA_CN  \\\n",
       "0               1               1               1               1      5646.0   \n",
       "1               0               0               0               0         NaN   \n",
       "2               1               1               1               1      5762.0   \n",
       "3               1               1               1               1      4022.0   \n",
       "4               0               0               0               0         NaN   \n",
       "\n",
       "   NU_NOTA_CH  NU_NOTA_LC  NU_NOTA_MT  TP_LINGUA  TP_STATUS_REDACAO  \\\n",
       "0      5858.0      5929.0      6002.0          0                1.0   \n",
       "1         NaN         NaN         NaN          1                NaN   \n",
       "2      6411.0      6343.0      7318.0          0                1.0   \n",
       "3      4248.0      5096.0      3932.0          1                1.0   \n",
       "4         NaN         NaN         NaN          1                NaN   \n",
       "\n",
       "   NU_NOTA_COMP1  NU_NOTA_COMP2  NU_NOTA_COMP3  NU_NOTA_COMP4  NU_NOTA_COMP5  \\\n",
       "0          160.0          200.0          180.0          200.0          200.0   \n",
       "1            NaN            NaN            NaN            NaN            NaN   \n",
       "2          160.0          120.0          200.0          200.0          200.0   \n",
       "3           80.0          160.0          120.0          100.0          100.0   \n",
       "4            NaN            NaN            NaN            NaN            NaN   \n",
       "\n",
       "   NU_NOTA_REDACAO Q025  \n",
       "0            940.0    B  \n",
       "1              NaN    A  \n",
       "2            880.0    A  \n",
       "3            560.0    B  \n",
       "4              NaN    B  "
      ]
     },
     "execution_count": 7,
     "metadata": {},
     "output_type": "execute_result"
    }
   ],
   "source": [
    "dados.head()"
   ]
  },
  {
   "cell_type": "code",
   "execution_count": 8,
   "metadata": {
    "colab": {
     "base_uri": "https://localhost:8080/"
    },
    "id": "BFS6iDf4wYG3",
    "outputId": "8f2b97b8-aa05-4a12-b51b-0eea9e41e24d"
   },
   "outputs": [
    {
     "data": {
      "text/plain": [
       "(813772, 44)"
      ]
     },
     "execution_count": 8,
     "metadata": {},
     "output_type": "execute_result"
    }
   ],
   "source": [
    "#O número total de inscritos em São Paulo foi de 813772, sendo de 15,97% de todo o Brasil que foi de 5095308 inscritos. \n",
    "dados.shape"
   ]
  },
  {
   "cell_type": "code",
   "execution_count": 9,
   "metadata": {
    "colab": {
     "base_uri": "https://localhost:8080/"
    },
    "id": "wopAqivQXpqI",
    "outputId": "caa18529-9035-474c-fc53-5d41909204a8"
   },
   "outputs": [
    {
     "data": {
      "text/plain": [
       "NU_INSCRICAO                object\n",
       "CO_MUNICIPIO_RESIDENCIA      int64\n",
       "NO_MUNICIPIO_RESIDENCIA     object\n",
       "CO_UF_RESIDENCIA             int64\n",
       "SG_UF_RESIDENCIA            object\n",
       "NU_IDADE                     int64\n",
       "TP_SEXO                     object\n",
       "TP_ESTADO_CIVIL              int64\n",
       "TP_COR_RACA                  int64\n",
       "TP_NACIONALIDADE             int64\n",
       "CO_MUNICIPIO_NASCIMENTO    float64\n",
       "NO_MUNICIPIO_NASCIMENTO     object\n",
       "CO_UF_NASCIMENTO           float64\n",
       "SG_UF_NASCIMENTO            object\n",
       "TP_ST_CONCLUSAO              int64\n",
       "TP_ANO_CONCLUIU              int64\n",
       "TP_ESCOLA                    int64\n",
       "TP_ENSINO                  float64\n",
       "IN_TREINEIRO                 int64\n",
       "CO_ESCOLA                  float64\n",
       "CO_MUNICIPIO_ESC           float64\n",
       "NO_MUNICIPIO_ESC            object\n",
       "CO_UF_ESC                  float64\n",
       "SG_UF_ESC                   object\n",
       "TP_DEPENDENCIA_ADM_ESC     float64\n",
       "TP_LOCALIZACAO_ESC         float64\n",
       "TP_SIT_FUNC_ESC            float64\n",
       "TP_PRESENCA_CN               int64\n",
       "TP_PRESENCA_CH               int64\n",
       "TP_PRESENCA_LC               int64\n",
       "TP_PRESENCA_MT               int64\n",
       "NU_NOTA_CN                 float64\n",
       "NU_NOTA_CH                 float64\n",
       "NU_NOTA_LC                 float64\n",
       "NU_NOTA_MT                 float64\n",
       "TP_LINGUA                    int64\n",
       "TP_STATUS_REDACAO          float64\n",
       "NU_NOTA_COMP1              float64\n",
       "NU_NOTA_COMP2              float64\n",
       "NU_NOTA_COMP3              float64\n",
       "NU_NOTA_COMP4              float64\n",
       "NU_NOTA_COMP5              float64\n",
       "NU_NOTA_REDACAO            float64\n",
       "Q025                        object\n",
       "dtype: object"
      ]
     },
     "execution_count": 9,
     "metadata": {},
     "output_type": "execute_result"
    }
   ],
   "source": [
    "# Análise dos tipos de atributos.\n",
    "# object: strings\n",
    "# int64: inteiros\n",
    "# float64: reais\n",
    "# complex: complexos\n",
    "dados.dtypes"
   ]
  },
  {
   "cell_type": "code",
   "execution_count": 10,
   "metadata": {
    "id": "BjCxJx81cwfM"
   },
   "outputs": [],
   "source": [
    "dados1 = dados.drop(columns=['CO_MUNICIPIO_RESIDENCIA', 'CO_UF_RESIDENCIA', 'SG_UF_RESIDENCIA', 'CO_MUNICIPIO_NASCIMENTO', 'NO_MUNICIPIO_NASCIMENTO',\n",
    "                             'CO_UF_NASCIMENTO','SG_UF_NASCIMENTO', 'TP_ANO_CONCLUIU','TP_ENSINO','CO_MUNICIPIO_ESC','CO_UF_ESC','SG_UF_ESC',\n",
    "                             'TP_DEPENDENCIA_ADM_ESC','TP_LOCALIZACAO_ESC','TP_SIT_FUNC_ESC'],)"
   ]
  },
  {
   "cell_type": "code",
   "execution_count": 11,
   "metadata": {
    "colab": {
     "base_uri": "https://localhost:8080/"
    },
    "id": "PvftFwLmzZIA",
    "outputId": "7a9393bf-676e-4e98-ac74-0b2f731ae2cc"
   },
   "outputs": [
    {
     "data": {
      "text/plain": [
       "(813772, 29)"
      ]
     },
     "execution_count": 11,
     "metadata": {},
     "output_type": "execute_result"
    }
   ],
   "source": [
    "dados1.shape"
   ]
  },
  {
   "cell_type": "code",
   "execution_count": 12,
   "metadata": {
    "id": "vSE2L_8Via3L"
   },
   "outputs": [],
   "source": [
    "# DIVIDINDO AS NOTAS POR 10\n",
    "dados1.loc[:,'NU_NOTA_CN'] /= 10\n",
    "dados1.loc[:,'NU_NOTA_CH'] /= 10 #(x=x/10)\n",
    "dados1.loc[:,'NU_NOTA_LC'] /= 10\n",
    "dados1.loc[:,'NU_NOTA_MT'] /= 10"
   ]
  },
  {
   "cell_type": "code",
   "execution_count": 13,
   "metadata": {
    "colab": {
     "base_uri": "https://localhost:8080/",
     "height": 0
    },
    "id": "VViqwvsKilw4",
    "outputId": "44bda8a3-f1d8-452d-b2d7-1735f534dc1a"
   },
   "outputs": [
    {
     "data": {
      "text/html": [
       "<div>\n",
       "<style scoped>\n",
       "    .dataframe tbody tr th:only-of-type {\n",
       "        vertical-align: middle;\n",
       "    }\n",
       "\n",
       "    .dataframe tbody tr th {\n",
       "        vertical-align: top;\n",
       "    }\n",
       "\n",
       "    .dataframe thead th {\n",
       "        text-align: right;\n",
       "    }\n",
       "</style>\n",
       "<table border=\"1\" class=\"dataframe\">\n",
       "  <thead>\n",
       "    <tr style=\"text-align: right;\">\n",
       "      <th></th>\n",
       "      <th>NU_INSCRICAO</th>\n",
       "      <th>NO_MUNICIPIO_RESIDENCIA</th>\n",
       "      <th>NU_IDADE</th>\n",
       "      <th>TP_SEXO</th>\n",
       "      <th>TP_ESTADO_CIVIL</th>\n",
       "      <th>TP_COR_RACA</th>\n",
       "      <th>TP_NACIONALIDADE</th>\n",
       "      <th>TP_ST_CONCLUSAO</th>\n",
       "      <th>TP_ESCOLA</th>\n",
       "      <th>IN_TREINEIRO</th>\n",
       "      <th>CO_ESCOLA</th>\n",
       "      <th>NO_MUNICIPIO_ESC</th>\n",
       "      <th>TP_PRESENCA_CN</th>\n",
       "      <th>TP_PRESENCA_CH</th>\n",
       "      <th>TP_PRESENCA_LC</th>\n",
       "      <th>TP_PRESENCA_MT</th>\n",
       "      <th>NU_NOTA_CN</th>\n",
       "      <th>NU_NOTA_CH</th>\n",
       "      <th>NU_NOTA_LC</th>\n",
       "      <th>NU_NOTA_MT</th>\n",
       "      <th>TP_LINGUA</th>\n",
       "      <th>TP_STATUS_REDACAO</th>\n",
       "      <th>NU_NOTA_COMP1</th>\n",
       "      <th>NU_NOTA_COMP2</th>\n",
       "      <th>NU_NOTA_COMP3</th>\n",
       "      <th>NU_NOTA_COMP4</th>\n",
       "      <th>NU_NOTA_COMP5</th>\n",
       "      <th>NU_NOTA_REDACAO</th>\n",
       "      <th>Q025</th>\n",
       "    </tr>\n",
       "  </thead>\n",
       "  <tbody>\n",
       "    <tr>\n",
       "      <th>0</th>\n",
       "      <td>1,90E+11</td>\n",
       "      <td>Santa Isabel</td>\n",
       "      <td>22</td>\n",
       "      <td>M</td>\n",
       "      <td>1</td>\n",
       "      <td>3</td>\n",
       "      <td>1</td>\n",
       "      <td>1</td>\n",
       "      <td>1</td>\n",
       "      <td>0</td>\n",
       "      <td>NaN</td>\n",
       "      <td>NaN</td>\n",
       "      <td>1</td>\n",
       "      <td>1</td>\n",
       "      <td>1</td>\n",
       "      <td>1</td>\n",
       "      <td>564.6</td>\n",
       "      <td>585.8</td>\n",
       "      <td>592.9</td>\n",
       "      <td>600.2</td>\n",
       "      <td>0</td>\n",
       "      <td>1.0</td>\n",
       "      <td>160.0</td>\n",
       "      <td>200.0</td>\n",
       "      <td>180.0</td>\n",
       "      <td>200.0</td>\n",
       "      <td>200.0</td>\n",
       "      <td>940.0</td>\n",
       "      <td>B</td>\n",
       "    </tr>\n",
       "    <tr>\n",
       "      <th>1</th>\n",
       "      <td>1,90E+11</td>\n",
       "      <td>Pinhalzinho</td>\n",
       "      <td>19</td>\n",
       "      <td>M</td>\n",
       "      <td>1</td>\n",
       "      <td>3</td>\n",
       "      <td>1</td>\n",
       "      <td>1</td>\n",
       "      <td>1</td>\n",
       "      <td>0</td>\n",
       "      <td>NaN</td>\n",
       "      <td>NaN</td>\n",
       "      <td>0</td>\n",
       "      <td>0</td>\n",
       "      <td>0</td>\n",
       "      <td>0</td>\n",
       "      <td>NaN</td>\n",
       "      <td>NaN</td>\n",
       "      <td>NaN</td>\n",
       "      <td>NaN</td>\n",
       "      <td>1</td>\n",
       "      <td>NaN</td>\n",
       "      <td>NaN</td>\n",
       "      <td>NaN</td>\n",
       "      <td>NaN</td>\n",
       "      <td>NaN</td>\n",
       "      <td>NaN</td>\n",
       "      <td>NaN</td>\n",
       "      <td>A</td>\n",
       "    </tr>\n",
       "  </tbody>\n",
       "</table>\n",
       "</div>"
      ],
      "text/plain": [
       "  NU_INSCRICAO NO_MUNICIPIO_RESIDENCIA  NU_IDADE TP_SEXO  TP_ESTADO_CIVIL  \\\n",
       "0     1,90E+11            Santa Isabel        22       M                1   \n",
       "1     1,90E+11             Pinhalzinho        19       M                1   \n",
       "\n",
       "   TP_COR_RACA  TP_NACIONALIDADE  TP_ST_CONCLUSAO  TP_ESCOLA  IN_TREINEIRO  \\\n",
       "0            3                 1                1          1             0   \n",
       "1            3                 1                1          1             0   \n",
       "\n",
       "   CO_ESCOLA NO_MUNICIPIO_ESC  TP_PRESENCA_CN  TP_PRESENCA_CH  TP_PRESENCA_LC  \\\n",
       "0        NaN              NaN               1               1               1   \n",
       "1        NaN              NaN               0               0               0   \n",
       "\n",
       "   TP_PRESENCA_MT  NU_NOTA_CN  NU_NOTA_CH  NU_NOTA_LC  NU_NOTA_MT  TP_LINGUA  \\\n",
       "0               1       564.6       585.8       592.9       600.2          0   \n",
       "1               0         NaN         NaN         NaN         NaN          1   \n",
       "\n",
       "   TP_STATUS_REDACAO  NU_NOTA_COMP1  NU_NOTA_COMP2  NU_NOTA_COMP3  \\\n",
       "0                1.0          160.0          200.0          180.0   \n",
       "1                NaN            NaN            NaN            NaN   \n",
       "\n",
       "   NU_NOTA_COMP4  NU_NOTA_COMP5  NU_NOTA_REDACAO Q025  \n",
       "0          200.0          200.0            940.0    B  \n",
       "1            NaN            NaN              NaN    A  "
      ]
     },
     "execution_count": 13,
     "metadata": {},
     "output_type": "execute_result"
    }
   ],
   "source": [
    "dados1.head(2)"
   ]
  },
  {
   "cell_type": "code",
   "execution_count": 14,
   "metadata": {
    "id": "eK1hqPsJawER"
   },
   "outputs": [],
   "source": [
    "dados1 = dados1.rename(columns={'NU_NOTA_REDACAO': 'NOTA_REDACAO',\n",
    "                                'NU_NOTA_CN': 'NOTA_CN',\n",
    "                                'NU_NOTA_CH': 'NOTA_CH',\n",
    "                                'NU_NOTA_LC': 'NOTA_LC',\n",
    "                                'NU_NOTA_MT': 'NOTA_MT',\n",
    "                                'NU_NOTA_COMP1': 'COMP1',\n",
    "                                'NU_NOTA_COMP2': 'COMP2',\n",
    "                                'NU_NOTA_COMP3': 'COMP3',\n",
    "                                'NU_NOTA_COMP4': 'COMP4',\n",
    "                                'NU_NOTA_COMP5':'COMP5',\n",
    "                                'NU_IDADE': 'IDADE','TP_SEXO': 'SEXO',\n",
    "                                'TP_COR_RACA': 'RACA','Q025': 'INTERNET',\n",
    "                                'TP_ESCOLA':'ESCOLA'})"
   ]
  },
  {
   "cell_type": "code",
   "execution_count": 15,
   "metadata": {
    "id": "1aU3YcRIGsRo"
   },
   "outputs": [],
   "source": [
    "# Renomeando Registros\n",
    "dados1[\"RACA\"] = dados1[\"RACA\"].replace({0:\"nao_declarado\", 1:\"branca\", 2:\"preta\", 3:\"parda\", 4:\"amarela\", 5:\"indigena\"})\n",
    "dados1[\"TP_LINGUA\"] = dados1[\"TP_LINGUA\"].replace({0:\"Inglês\", 1:\"Espanhol\"})\n",
    "dados1[\"ESCOLA\"] = dados1[\"ESCOLA\"].replace({1:\"não_respondeu\", 2:\"pública\", 3:\"privada\", 4:\"exterior\"})\n",
    "dados1[\"INTERNET\"] = dados1[\"INTERNET\"].replace({\"A\":\"Não\", \"B\":\"Sim\"})\n",
    "\n",
    "# OUTRA MANEIRA\n",
    "# dados1['RACA'] = dados1['RACA'].replace([0,1,2,3,4,5], ['Não Declarado','Branca','Preta','Parda','Amarela','Indígena'])"
   ]
  },
  {
   "cell_type": "code",
   "execution_count": 16,
   "metadata": {
    "colab": {
     "base_uri": "https://localhost:8080/"
    },
    "id": "F_-iQxfFpTok",
    "outputId": "33aa58f3-9e15-42d2-dcaf-aa9644f95c3a"
   },
   "outputs": [
    {
     "data": {
      "text/plain": [
       "17    219313\n",
       "18    147548\n",
       "19     81236\n",
       "16     59316\n",
       "20     53009\n",
       "       ...  \n",
       "86         1\n",
       "4          1\n",
       "3          1\n",
       "91         1\n",
       "2          1\n",
       "Name: IDADE, Length: 80, dtype: int64"
      ]
     },
     "execution_count": 16,
     "metadata": {},
     "output_type": "execute_result"
    }
   ],
   "source": [
    "# \n",
    "dados1['IDADE'].value_counts()"
   ]
  },
  {
   "cell_type": "code",
   "execution_count": 17,
   "metadata": {
    "id": "8rDPKtGEFwR-"
   },
   "outputs": [
    {
     "data": {
      "text/plain": [
       "2     1\n",
       "3     1\n",
       "4     1\n",
       "5     2\n",
       "6     2\n",
       "     ..\n",
       "80    2\n",
       "81    3\n",
       "82    2\n",
       "86    1\n",
       "91    1\n",
       "Name: IDADE, Length: 80, dtype: int64"
      ]
     },
     "execution_count": 17,
     "metadata": {},
     "output_type": "execute_result"
    }
   ],
   "source": [
    "dados1['IDADE'].value_counts().sort_index()"
   ]
  },
  {
   "cell_type": "code",
   "execution_count": 18,
   "metadata": {
    "id": "8u3FaIlnajQo"
   },
   "outputs": [],
   "source": [
    "# Para ver todas as linhas, primeiro transforme num Dataframe:\n",
    "idade = pd.DataFrame(dados1['IDADE'].value_counts().sort_index())"
   ]
  },
  {
   "cell_type": "code",
   "execution_count": 19,
   "metadata": {
    "id": "ZMa7N5pBb3bi"
   },
   "outputs": [],
   "source": [
    "# Configura o Pandas para observar 80 linhas\n",
    "pd.set_option('display.max_rows', 80)"
   ]
  },
  {
   "cell_type": "code",
   "execution_count": 20,
   "metadata": {
    "id": "eVXrknNga5tT"
   },
   "outputs": [
    {
     "data": {
      "text/html": [
       "<div>\n",
       "<style scoped>\n",
       "    .dataframe tbody tr th:only-of-type {\n",
       "        vertical-align: middle;\n",
       "    }\n",
       "\n",
       "    .dataframe tbody tr th {\n",
       "        vertical-align: top;\n",
       "    }\n",
       "\n",
       "    .dataframe thead th {\n",
       "        text-align: right;\n",
       "    }\n",
       "</style>\n",
       "<table border=\"1\" class=\"dataframe\">\n",
       "  <thead>\n",
       "    <tr style=\"text-align: right;\">\n",
       "      <th></th>\n",
       "      <th>IDADE</th>\n",
       "    </tr>\n",
       "  </thead>\n",
       "  <tbody>\n",
       "    <tr>\n",
       "      <th>2</th>\n",
       "      <td>1</td>\n",
       "    </tr>\n",
       "    <tr>\n",
       "      <th>3</th>\n",
       "      <td>1</td>\n",
       "    </tr>\n",
       "    <tr>\n",
       "      <th>4</th>\n",
       "      <td>1</td>\n",
       "    </tr>\n",
       "    <tr>\n",
       "      <th>5</th>\n",
       "      <td>2</td>\n",
       "    </tr>\n",
       "    <tr>\n",
       "      <th>6</th>\n",
       "      <td>2</td>\n",
       "    </tr>\n",
       "    <tr>\n",
       "      <th>7</th>\n",
       "      <td>3</td>\n",
       "    </tr>\n",
       "    <tr>\n",
       "      <th>8</th>\n",
       "      <td>6</td>\n",
       "    </tr>\n",
       "    <tr>\n",
       "      <th>12</th>\n",
       "      <td>6</td>\n",
       "    </tr>\n",
       "    <tr>\n",
       "      <th>13</th>\n",
       "      <td>29</td>\n",
       "    </tr>\n",
       "    <tr>\n",
       "      <th>14</th>\n",
       "      <td>355</td>\n",
       "    </tr>\n",
       "    <tr>\n",
       "      <th>15</th>\n",
       "      <td>11583</td>\n",
       "    </tr>\n",
       "    <tr>\n",
       "      <th>16</th>\n",
       "      <td>59316</td>\n",
       "    </tr>\n",
       "    <tr>\n",
       "      <th>17</th>\n",
       "      <td>219313</td>\n",
       "    </tr>\n",
       "    <tr>\n",
       "      <th>18</th>\n",
       "      <td>147548</td>\n",
       "    </tr>\n",
       "    <tr>\n",
       "      <th>19</th>\n",
       "      <td>81236</td>\n",
       "    </tr>\n",
       "    <tr>\n",
       "      <th>20</th>\n",
       "      <td>53009</td>\n",
       "    </tr>\n",
       "    <tr>\n",
       "      <th>21</th>\n",
       "      <td>37242</td>\n",
       "    </tr>\n",
       "    <tr>\n",
       "      <th>22</th>\n",
       "      <td>29489</td>\n",
       "    </tr>\n",
       "    <tr>\n",
       "      <th>23</th>\n",
       "      <td>23531</td>\n",
       "    </tr>\n",
       "    <tr>\n",
       "      <th>24</th>\n",
       "      <td>18851</td>\n",
       "    </tr>\n",
       "    <tr>\n",
       "      <th>25</th>\n",
       "      <td>15103</td>\n",
       "    </tr>\n",
       "    <tr>\n",
       "      <th>26</th>\n",
       "      <td>12465</td>\n",
       "    </tr>\n",
       "    <tr>\n",
       "      <th>27</th>\n",
       "      <td>10367</td>\n",
       "    </tr>\n",
       "    <tr>\n",
       "      <th>28</th>\n",
       "      <td>8986</td>\n",
       "    </tr>\n",
       "    <tr>\n",
       "      <th>29</th>\n",
       "      <td>7650</td>\n",
       "    </tr>\n",
       "    <tr>\n",
       "      <th>30</th>\n",
       "      <td>6967</td>\n",
       "    </tr>\n",
       "    <tr>\n",
       "      <th>31</th>\n",
       "      <td>6331</td>\n",
       "    </tr>\n",
       "    <tr>\n",
       "      <th>32</th>\n",
       "      <td>5685</td>\n",
       "    </tr>\n",
       "    <tr>\n",
       "      <th>33</th>\n",
       "      <td>5175</td>\n",
       "    </tr>\n",
       "    <tr>\n",
       "      <th>34</th>\n",
       "      <td>4795</td>\n",
       "    </tr>\n",
       "    <tr>\n",
       "      <th>35</th>\n",
       "      <td>4340</td>\n",
       "    </tr>\n",
       "    <tr>\n",
       "      <th>36</th>\n",
       "      <td>4109</td>\n",
       "    </tr>\n",
       "    <tr>\n",
       "      <th>37</th>\n",
       "      <td>4105</td>\n",
       "    </tr>\n",
       "    <tr>\n",
       "      <th>38</th>\n",
       "      <td>3767</td>\n",
       "    </tr>\n",
       "    <tr>\n",
       "      <th>39</th>\n",
       "      <td>3299</td>\n",
       "    </tr>\n",
       "    <tr>\n",
       "      <th>40</th>\n",
       "      <td>3058</td>\n",
       "    </tr>\n",
       "    <tr>\n",
       "      <th>41</th>\n",
       "      <td>2638</td>\n",
       "    </tr>\n",
       "    <tr>\n",
       "      <th>42</th>\n",
       "      <td>2462</td>\n",
       "    </tr>\n",
       "    <tr>\n",
       "      <th>43</th>\n",
       "      <td>2307</td>\n",
       "    </tr>\n",
       "    <tr>\n",
       "      <th>44</th>\n",
       "      <td>2069</td>\n",
       "    </tr>\n",
       "    <tr>\n",
       "      <th>45</th>\n",
       "      <td>1939</td>\n",
       "    </tr>\n",
       "    <tr>\n",
       "      <th>46</th>\n",
       "      <td>1718</td>\n",
       "    </tr>\n",
       "    <tr>\n",
       "      <th>47</th>\n",
       "      <td>1578</td>\n",
       "    </tr>\n",
       "    <tr>\n",
       "      <th>48</th>\n",
       "      <td>1496</td>\n",
       "    </tr>\n",
       "    <tr>\n",
       "      <th>49</th>\n",
       "      <td>1304</td>\n",
       "    </tr>\n",
       "    <tr>\n",
       "      <th>50</th>\n",
       "      <td>1167</td>\n",
       "    </tr>\n",
       "    <tr>\n",
       "      <th>51</th>\n",
       "      <td>1014</td>\n",
       "    </tr>\n",
       "    <tr>\n",
       "      <th>52</th>\n",
       "      <td>933</td>\n",
       "    </tr>\n",
       "    <tr>\n",
       "      <th>53</th>\n",
       "      <td>841</td>\n",
       "    </tr>\n",
       "    <tr>\n",
       "      <th>54</th>\n",
       "      <td>727</td>\n",
       "    </tr>\n",
       "    <tr>\n",
       "      <th>55</th>\n",
       "      <td>652</td>\n",
       "    </tr>\n",
       "    <tr>\n",
       "      <th>56</th>\n",
       "      <td>530</td>\n",
       "    </tr>\n",
       "    <tr>\n",
       "      <th>57</th>\n",
       "      <td>497</td>\n",
       "    </tr>\n",
       "    <tr>\n",
       "      <th>58</th>\n",
       "      <td>388</td>\n",
       "    </tr>\n",
       "    <tr>\n",
       "      <th>59</th>\n",
       "      <td>325</td>\n",
       "    </tr>\n",
       "    <tr>\n",
       "      <th>60</th>\n",
       "      <td>254</td>\n",
       "    </tr>\n",
       "    <tr>\n",
       "      <th>61</th>\n",
       "      <td>236</td>\n",
       "    </tr>\n",
       "    <tr>\n",
       "      <th>62</th>\n",
       "      <td>176</td>\n",
       "    </tr>\n",
       "    <tr>\n",
       "      <th>63</th>\n",
       "      <td>144</td>\n",
       "    </tr>\n",
       "    <tr>\n",
       "      <th>64</th>\n",
       "      <td>139</td>\n",
       "    </tr>\n",
       "    <tr>\n",
       "      <th>65</th>\n",
       "      <td>115</td>\n",
       "    </tr>\n",
       "    <tr>\n",
       "      <th>66</th>\n",
       "      <td>81</td>\n",
       "    </tr>\n",
       "    <tr>\n",
       "      <th>67</th>\n",
       "      <td>72</td>\n",
       "    </tr>\n",
       "    <tr>\n",
       "      <th>68</th>\n",
       "      <td>53</td>\n",
       "    </tr>\n",
       "    <tr>\n",
       "      <th>69</th>\n",
       "      <td>43</td>\n",
       "    </tr>\n",
       "    <tr>\n",
       "      <th>70</th>\n",
       "      <td>40</td>\n",
       "    </tr>\n",
       "    <tr>\n",
       "      <th>71</th>\n",
       "      <td>25</td>\n",
       "    </tr>\n",
       "    <tr>\n",
       "      <th>72</th>\n",
       "      <td>17</td>\n",
       "    </tr>\n",
       "    <tr>\n",
       "      <th>73</th>\n",
       "      <td>16</td>\n",
       "    </tr>\n",
       "    <tr>\n",
       "      <th>74</th>\n",
       "      <td>13</td>\n",
       "    </tr>\n",
       "    <tr>\n",
       "      <th>75</th>\n",
       "      <td>10</td>\n",
       "    </tr>\n",
       "    <tr>\n",
       "      <th>76</th>\n",
       "      <td>8</td>\n",
       "    </tr>\n",
       "    <tr>\n",
       "      <th>77</th>\n",
       "      <td>3</td>\n",
       "    </tr>\n",
       "    <tr>\n",
       "      <th>78</th>\n",
       "      <td>3</td>\n",
       "    </tr>\n",
       "    <tr>\n",
       "      <th>79</th>\n",
       "      <td>4</td>\n",
       "    </tr>\n",
       "    <tr>\n",
       "      <th>80</th>\n",
       "      <td>2</td>\n",
       "    </tr>\n",
       "    <tr>\n",
       "      <th>81</th>\n",
       "      <td>3</td>\n",
       "    </tr>\n",
       "    <tr>\n",
       "      <th>82</th>\n",
       "      <td>2</td>\n",
       "    </tr>\n",
       "    <tr>\n",
       "      <th>86</th>\n",
       "      <td>1</td>\n",
       "    </tr>\n",
       "    <tr>\n",
       "      <th>91</th>\n",
       "      <td>1</td>\n",
       "    </tr>\n",
       "  </tbody>\n",
       "</table>\n",
       "</div>"
      ],
      "text/plain": [
       "     IDADE\n",
       "2        1\n",
       "3        1\n",
       "4        1\n",
       "5        2\n",
       "6        2\n",
       "7        3\n",
       "8        6\n",
       "12       6\n",
       "13      29\n",
       "14     355\n",
       "15   11583\n",
       "16   59316\n",
       "17  219313\n",
       "18  147548\n",
       "19   81236\n",
       "20   53009\n",
       "21   37242\n",
       "22   29489\n",
       "23   23531\n",
       "24   18851\n",
       "25   15103\n",
       "26   12465\n",
       "27   10367\n",
       "28    8986\n",
       "29    7650\n",
       "30    6967\n",
       "31    6331\n",
       "32    5685\n",
       "33    5175\n",
       "34    4795\n",
       "35    4340\n",
       "36    4109\n",
       "37    4105\n",
       "38    3767\n",
       "39    3299\n",
       "40    3058\n",
       "41    2638\n",
       "42    2462\n",
       "43    2307\n",
       "44    2069\n",
       "45    1939\n",
       "46    1718\n",
       "47    1578\n",
       "48    1496\n",
       "49    1304\n",
       "50    1167\n",
       "51    1014\n",
       "52     933\n",
       "53     841\n",
       "54     727\n",
       "55     652\n",
       "56     530\n",
       "57     497\n",
       "58     388\n",
       "59     325\n",
       "60     254\n",
       "61     236\n",
       "62     176\n",
       "63     144\n",
       "64     139\n",
       "65     115\n",
       "66      81\n",
       "67      72\n",
       "68      53\n",
       "69      43\n",
       "70      40\n",
       "71      25\n",
       "72      17\n",
       "73      16\n",
       "74      13\n",
       "75      10\n",
       "76       8\n",
       "77       3\n",
       "78       3\n",
       "79       4\n",
       "80       2\n",
       "81       3\n",
       "82       2\n",
       "86       1\n",
       "91       1"
      ]
     },
     "execution_count": 20,
     "metadata": {},
     "output_type": "execute_result"
    }
   ],
   "source": [
    "idade.head(80)"
   ]
  },
  {
   "cell_type": "code",
   "execution_count": 21,
   "metadata": {
    "id": "L6Kb8z7gqy9a"
   },
   "outputs": [],
   "source": [
    "menores_12 = dados1.query('IDADE < 12')['NO_MUNICIPIO_RESIDENCIA'].value_counts()"
   ]
  },
  {
   "cell_type": "code",
   "execution_count": 22,
   "metadata": {
    "id": "V-KFAIp6GO7E"
   },
   "outputs": [
    {
     "data": {
      "text/plain": [
       "São Paulo                 5\n",
       "Tambaú                    1\n",
       "Ribeirão Preto            1\n",
       "Bálsamo                   1\n",
       "São Bernardo do Campo     1\n",
       "Embu das Artes            1\n",
       "Queiroz                   1\n",
       "Santana de Parnaíba       1\n",
       "Vargem Grande Paulista    1\n",
       "Auriflama                 1\n",
       "Araçatuba                 1\n",
       "Campinas                  1\n",
       "Name: NO_MUNICIPIO_RESIDENCIA, dtype: int64"
      ]
     },
     "execution_count": 22,
     "metadata": {},
     "output_type": "execute_result"
    }
   ],
   "source": [
    "# Inscrições com idade abaixo de 12 anos serão excluídos devido a alta probabilidade de erro.\n",
    "menores_12"
   ]
  },
  {
   "cell_type": "code",
   "execution_count": 23,
   "metadata": {
    "id": "5LJCjuILHGE7"
   },
   "outputs": [],
   "source": [
    "dados_maiores_11 = dados1.loc[dados1.IDADE > 11]"
   ]
  },
  {
   "cell_type": "code",
   "execution_count": 24,
   "metadata": {
    "id": "osXcpcJ3La1S"
   },
   "outputs": [
    {
     "data": {
      "text/html": [
       "<div>\n",
       "<style scoped>\n",
       "    .dataframe tbody tr th:only-of-type {\n",
       "        vertical-align: middle;\n",
       "    }\n",
       "\n",
       "    .dataframe tbody tr th {\n",
       "        vertical-align: top;\n",
       "    }\n",
       "\n",
       "    .dataframe thead th {\n",
       "        text-align: right;\n",
       "    }\n",
       "</style>\n",
       "<table border=\"1\" class=\"dataframe\">\n",
       "  <thead>\n",
       "    <tr style=\"text-align: right;\">\n",
       "      <th></th>\n",
       "      <th>NU_INSCRICAO</th>\n",
       "      <th>NO_MUNICIPIO_RESIDENCIA</th>\n",
       "      <th>IDADE</th>\n",
       "      <th>SEXO</th>\n",
       "      <th>TP_ESTADO_CIVIL</th>\n",
       "      <th>RACA</th>\n",
       "      <th>TP_NACIONALIDADE</th>\n",
       "      <th>TP_ST_CONCLUSAO</th>\n",
       "      <th>ESCOLA</th>\n",
       "      <th>IN_TREINEIRO</th>\n",
       "      <th>CO_ESCOLA</th>\n",
       "      <th>NO_MUNICIPIO_ESC</th>\n",
       "      <th>TP_PRESENCA_CN</th>\n",
       "      <th>TP_PRESENCA_CH</th>\n",
       "      <th>TP_PRESENCA_LC</th>\n",
       "      <th>TP_PRESENCA_MT</th>\n",
       "      <th>NOTA_CN</th>\n",
       "      <th>NOTA_CH</th>\n",
       "      <th>NOTA_LC</th>\n",
       "      <th>NOTA_MT</th>\n",
       "      <th>TP_LINGUA</th>\n",
       "      <th>TP_STATUS_REDACAO</th>\n",
       "      <th>COMP1</th>\n",
       "      <th>COMP2</th>\n",
       "      <th>COMP3</th>\n",
       "      <th>COMP4</th>\n",
       "      <th>COMP5</th>\n",
       "      <th>NOTA_REDACAO</th>\n",
       "      <th>INTERNET</th>\n",
       "    </tr>\n",
       "  </thead>\n",
       "  <tbody>\n",
       "    <tr>\n",
       "      <th>0</th>\n",
       "      <td>1,90E+11</td>\n",
       "      <td>Santa Isabel</td>\n",
       "      <td>22</td>\n",
       "      <td>M</td>\n",
       "      <td>1</td>\n",
       "      <td>parda</td>\n",
       "      <td>1</td>\n",
       "      <td>1</td>\n",
       "      <td>não_respondeu</td>\n",
       "      <td>0</td>\n",
       "      <td>NaN</td>\n",
       "      <td>NaN</td>\n",
       "      <td>1</td>\n",
       "      <td>1</td>\n",
       "      <td>1</td>\n",
       "      <td>1</td>\n",
       "      <td>564.6</td>\n",
       "      <td>585.8</td>\n",
       "      <td>592.9</td>\n",
       "      <td>600.2</td>\n",
       "      <td>Inglês</td>\n",
       "      <td>1.0</td>\n",
       "      <td>160.0</td>\n",
       "      <td>200.0</td>\n",
       "      <td>180.0</td>\n",
       "      <td>200.0</td>\n",
       "      <td>200.0</td>\n",
       "      <td>940.0</td>\n",
       "      <td>Sim</td>\n",
       "    </tr>\n",
       "    <tr>\n",
       "      <th>1</th>\n",
       "      <td>1,90E+11</td>\n",
       "      <td>Pinhalzinho</td>\n",
       "      <td>19</td>\n",
       "      <td>M</td>\n",
       "      <td>1</td>\n",
       "      <td>parda</td>\n",
       "      <td>1</td>\n",
       "      <td>1</td>\n",
       "      <td>não_respondeu</td>\n",
       "      <td>0</td>\n",
       "      <td>NaN</td>\n",
       "      <td>NaN</td>\n",
       "      <td>0</td>\n",
       "      <td>0</td>\n",
       "      <td>0</td>\n",
       "      <td>0</td>\n",
       "      <td>NaN</td>\n",
       "      <td>NaN</td>\n",
       "      <td>NaN</td>\n",
       "      <td>NaN</td>\n",
       "      <td>Espanhol</td>\n",
       "      <td>NaN</td>\n",
       "      <td>NaN</td>\n",
       "      <td>NaN</td>\n",
       "      <td>NaN</td>\n",
       "      <td>NaN</td>\n",
       "      <td>NaN</td>\n",
       "      <td>NaN</td>\n",
       "      <td>Não</td>\n",
       "    </tr>\n",
       "    <tr>\n",
       "      <th>2</th>\n",
       "      <td>1,90E+11</td>\n",
       "      <td>São Paulo</td>\n",
       "      <td>17</td>\n",
       "      <td>F</td>\n",
       "      <td>1</td>\n",
       "      <td>parda</td>\n",
       "      <td>1</td>\n",
       "      <td>2</td>\n",
       "      <td>privada</td>\n",
       "      <td>0</td>\n",
       "      <td>15567761.0</td>\n",
       "      <td>Belém</td>\n",
       "      <td>1</td>\n",
       "      <td>1</td>\n",
       "      <td>1</td>\n",
       "      <td>1</td>\n",
       "      <td>576.2</td>\n",
       "      <td>641.1</td>\n",
       "      <td>634.3</td>\n",
       "      <td>731.8</td>\n",
       "      <td>Inglês</td>\n",
       "      <td>1.0</td>\n",
       "      <td>160.0</td>\n",
       "      <td>120.0</td>\n",
       "      <td>200.0</td>\n",
       "      <td>200.0</td>\n",
       "      <td>200.0</td>\n",
       "      <td>880.0</td>\n",
       "      <td>Não</td>\n",
       "    </tr>\n",
       "    <tr>\n",
       "      <th>3</th>\n",
       "      <td>1,90E+11</td>\n",
       "      <td>São Bernardo do Campo</td>\n",
       "      <td>19</td>\n",
       "      <td>M</td>\n",
       "      <td>1</td>\n",
       "      <td>parda</td>\n",
       "      <td>1</td>\n",
       "      <td>2</td>\n",
       "      <td>pública</td>\n",
       "      <td>0</td>\n",
       "      <td>35904958.0</td>\n",
       "      <td>São Bernardo do Campo</td>\n",
       "      <td>1</td>\n",
       "      <td>1</td>\n",
       "      <td>1</td>\n",
       "      <td>1</td>\n",
       "      <td>402.2</td>\n",
       "      <td>424.8</td>\n",
       "      <td>509.6</td>\n",
       "      <td>393.2</td>\n",
       "      <td>Espanhol</td>\n",
       "      <td>1.0</td>\n",
       "      <td>80.0</td>\n",
       "      <td>160.0</td>\n",
       "      <td>120.0</td>\n",
       "      <td>100.0</td>\n",
       "      <td>100.0</td>\n",
       "      <td>560.0</td>\n",
       "      <td>Sim</td>\n",
       "    </tr>\n",
       "    <tr>\n",
       "      <th>4</th>\n",
       "      <td>1,90E+11</td>\n",
       "      <td>São Joaquim da Barra</td>\n",
       "      <td>37</td>\n",
       "      <td>M</td>\n",
       "      <td>2</td>\n",
       "      <td>branca</td>\n",
       "      <td>1</td>\n",
       "      <td>1</td>\n",
       "      <td>não_respondeu</td>\n",
       "      <td>0</td>\n",
       "      <td>NaN</td>\n",
       "      <td>NaN</td>\n",
       "      <td>0</td>\n",
       "      <td>0</td>\n",
       "      <td>0</td>\n",
       "      <td>0</td>\n",
       "      <td>NaN</td>\n",
       "      <td>NaN</td>\n",
       "      <td>NaN</td>\n",
       "      <td>NaN</td>\n",
       "      <td>Espanhol</td>\n",
       "      <td>NaN</td>\n",
       "      <td>NaN</td>\n",
       "      <td>NaN</td>\n",
       "      <td>NaN</td>\n",
       "      <td>NaN</td>\n",
       "      <td>NaN</td>\n",
       "      <td>NaN</td>\n",
       "      <td>Sim</td>\n",
       "    </tr>\n",
       "  </tbody>\n",
       "</table>\n",
       "</div>"
      ],
      "text/plain": [
       "  NU_INSCRICAO NO_MUNICIPIO_RESIDENCIA  IDADE SEXO  TP_ESTADO_CIVIL    RACA  \\\n",
       "0     1,90E+11            Santa Isabel     22    M                1   parda   \n",
       "1     1,90E+11             Pinhalzinho     19    M                1   parda   \n",
       "2     1,90E+11               São Paulo     17    F                1   parda   \n",
       "3     1,90E+11   São Bernardo do Campo     19    M                1   parda   \n",
       "4     1,90E+11    São Joaquim da Barra     37    M                2  branca   \n",
       "\n",
       "   TP_NACIONALIDADE  TP_ST_CONCLUSAO         ESCOLA  IN_TREINEIRO   CO_ESCOLA  \\\n",
       "0                 1                1  não_respondeu             0         NaN   \n",
       "1                 1                1  não_respondeu             0         NaN   \n",
       "2                 1                2        privada             0  15567761.0   \n",
       "3                 1                2        pública             0  35904958.0   \n",
       "4                 1                1  não_respondeu             0         NaN   \n",
       "\n",
       "        NO_MUNICIPIO_ESC  TP_PRESENCA_CN  TP_PRESENCA_CH  TP_PRESENCA_LC  \\\n",
       "0                    NaN               1               1               1   \n",
       "1                    NaN               0               0               0   \n",
       "2                  Belém               1               1               1   \n",
       "3  São Bernardo do Campo               1               1               1   \n",
       "4                    NaN               0               0               0   \n",
       "\n",
       "   TP_PRESENCA_MT  NOTA_CN  NOTA_CH  NOTA_LC  NOTA_MT TP_LINGUA  \\\n",
       "0               1    564.6    585.8    592.9    600.2    Inglês   \n",
       "1               0      NaN      NaN      NaN      NaN  Espanhol   \n",
       "2               1    576.2    641.1    634.3    731.8    Inglês   \n",
       "3               1    402.2    424.8    509.6    393.2  Espanhol   \n",
       "4               0      NaN      NaN      NaN      NaN  Espanhol   \n",
       "\n",
       "   TP_STATUS_REDACAO  COMP1  COMP2  COMP3  COMP4  COMP5  NOTA_REDACAO INTERNET  \n",
       "0                1.0  160.0  200.0  180.0  200.0  200.0         940.0      Sim  \n",
       "1                NaN    NaN    NaN    NaN    NaN    NaN           NaN      Não  \n",
       "2                1.0  160.0  120.0  200.0  200.0  200.0         880.0      Não  \n",
       "3                1.0   80.0  160.0  120.0  100.0  100.0         560.0      Sim  \n",
       "4                NaN    NaN    NaN    NaN    NaN    NaN           NaN      Sim  "
      ]
     },
     "execution_count": 24,
     "metadata": {},
     "output_type": "execute_result"
    }
   ],
   "source": [
    "dados_maiores_11.head()"
   ]
  },
  {
   "cell_type": "code",
   "execution_count": 25,
   "metadata": {
    "id": "FNnKvKY3MBKd"
   },
   "outputs": [
    {
     "data": {
      "text/plain": [
       "12         6\n",
       "13        29\n",
       "14       355\n",
       "15     11583\n",
       "16     59316\n",
       "17    219313\n",
       "18    147548\n",
       "19     81236\n",
       "20     53009\n",
       "21     37242\n",
       "22     29489\n",
       "23     23531\n",
       "24     18851\n",
       "25     15103\n",
       "26     12465\n",
       "27     10367\n",
       "28      8986\n",
       "29      7650\n",
       "30      6967\n",
       "31      6331\n",
       "32      5685\n",
       "33      5175\n",
       "34      4795\n",
       "35      4340\n",
       "36      4109\n",
       "37      4105\n",
       "38      3767\n",
       "39      3299\n",
       "40      3058\n",
       "41      2638\n",
       "42      2462\n",
       "43      2307\n",
       "44      2069\n",
       "45      1939\n",
       "46      1718\n",
       "47      1578\n",
       "48      1496\n",
       "49      1304\n",
       "50      1167\n",
       "51      1014\n",
       "52       933\n",
       "53       841\n",
       "54       727\n",
       "55       652\n",
       "56       530\n",
       "57       497\n",
       "58       388\n",
       "59       325\n",
       "60       254\n",
       "61       236\n",
       "62       176\n",
       "63       144\n",
       "64       139\n",
       "65       115\n",
       "66        81\n",
       "67        72\n",
       "68        53\n",
       "69        43\n",
       "70        40\n",
       "71        25\n",
       "72        17\n",
       "73        16\n",
       "74        13\n",
       "75        10\n",
       "76         8\n",
       "77         3\n",
       "78         3\n",
       "79         4\n",
       "80         2\n",
       "81         3\n",
       "82         2\n",
       "86         1\n",
       "91         1\n",
       "Name: IDADE, dtype: int64"
      ]
     },
     "execution_count": 25,
     "metadata": {},
     "output_type": "execute_result"
    }
   ],
   "source": [
    "dados_maiores_11['IDADE'].value_counts().sort_index()"
   ]
  },
  {
   "cell_type": "code",
   "execution_count": 26,
   "metadata": {
    "colab": {
     "base_uri": "https://localhost:8080/"
    },
    "id": "CRD9ukIOMdXG",
    "outputId": "08c5e0c5-f00a-42f3-9dcc-44c82ee6fa0e"
   },
   "outputs": [
    {
     "data": {
      "text/plain": [
       "1    93988\n",
       "Name: IN_TREINEIRO, dtype: int64"
      ]
     },
     "execution_count": 26,
     "metadata": {},
     "output_type": "execute_result"
    }
   ],
   "source": [
    "# treineros\n",
    "dados_maiores_11.query('IN_TREINEIRO == 1')['IN_TREINEIRO'].value_counts()"
   ]
  },
  {
   "cell_type": "code",
   "execution_count": 27,
   "metadata": {
    "id": "qgfvskS5MdgS"
   },
   "outputs": [],
   "source": [
    "treineiros = dados_maiores_11.loc[dados_maiores_11.IN_TREINEIRO == 1]"
   ]
  },
  {
   "cell_type": "code",
   "execution_count": 28,
   "metadata": {
    "id": "MNPxlhQ0MdpF"
   },
   "outputs": [
    {
     "data": {
      "text/html": [
       "<div>\n",
       "<style scoped>\n",
       "    .dataframe tbody tr th:only-of-type {\n",
       "        vertical-align: middle;\n",
       "    }\n",
       "\n",
       "    .dataframe tbody tr th {\n",
       "        vertical-align: top;\n",
       "    }\n",
       "\n",
       "    .dataframe thead th {\n",
       "        text-align: right;\n",
       "    }\n",
       "</style>\n",
       "<table border=\"1\" class=\"dataframe\">\n",
       "  <thead>\n",
       "    <tr style=\"text-align: right;\">\n",
       "      <th></th>\n",
       "      <th>NU_INSCRICAO</th>\n",
       "      <th>NO_MUNICIPIO_RESIDENCIA</th>\n",
       "      <th>IDADE</th>\n",
       "      <th>SEXO</th>\n",
       "      <th>TP_ESTADO_CIVIL</th>\n",
       "      <th>RACA</th>\n",
       "      <th>TP_NACIONALIDADE</th>\n",
       "      <th>TP_ST_CONCLUSAO</th>\n",
       "      <th>ESCOLA</th>\n",
       "      <th>IN_TREINEIRO</th>\n",
       "      <th>CO_ESCOLA</th>\n",
       "      <th>NO_MUNICIPIO_ESC</th>\n",
       "      <th>TP_PRESENCA_CN</th>\n",
       "      <th>TP_PRESENCA_CH</th>\n",
       "      <th>TP_PRESENCA_LC</th>\n",
       "      <th>TP_PRESENCA_MT</th>\n",
       "      <th>NOTA_CN</th>\n",
       "      <th>NOTA_CH</th>\n",
       "      <th>NOTA_LC</th>\n",
       "      <th>NOTA_MT</th>\n",
       "      <th>TP_LINGUA</th>\n",
       "      <th>TP_STATUS_REDACAO</th>\n",
       "      <th>COMP1</th>\n",
       "      <th>COMP2</th>\n",
       "      <th>COMP3</th>\n",
       "      <th>COMP4</th>\n",
       "      <th>COMP5</th>\n",
       "      <th>NOTA_REDACAO</th>\n",
       "      <th>INTERNET</th>\n",
       "    </tr>\n",
       "  </thead>\n",
       "  <tbody>\n",
       "    <tr>\n",
       "      <th>20</th>\n",
       "      <td>1,90E+11</td>\n",
       "      <td>Santos</td>\n",
       "      <td>15</td>\n",
       "      <td>F</td>\n",
       "      <td>1</td>\n",
       "      <td>parda</td>\n",
       "      <td>1</td>\n",
       "      <td>3</td>\n",
       "      <td>não_respondeu</td>\n",
       "      <td>1</td>\n",
       "      <td>NaN</td>\n",
       "      <td>NaN</td>\n",
       "      <td>1</td>\n",
       "      <td>1</td>\n",
       "      <td>1</td>\n",
       "      <td>1</td>\n",
       "      <td>455.4</td>\n",
       "      <td>506.7</td>\n",
       "      <td>480.4</td>\n",
       "      <td>573.2</td>\n",
       "      <td>Inglês</td>\n",
       "      <td>1.0</td>\n",
       "      <td>140.0</td>\n",
       "      <td>120.0</td>\n",
       "      <td>120.0</td>\n",
       "      <td>100.0</td>\n",
       "      <td>80.0</td>\n",
       "      <td>560.0</td>\n",
       "      <td>Sim</td>\n",
       "    </tr>\n",
       "    <tr>\n",
       "      <th>21</th>\n",
       "      <td>1,90E+11</td>\n",
       "      <td>Panorama</td>\n",
       "      <td>16</td>\n",
       "      <td>F</td>\n",
       "      <td>1</td>\n",
       "      <td>parda</td>\n",
       "      <td>1</td>\n",
       "      <td>3</td>\n",
       "      <td>não_respondeu</td>\n",
       "      <td>1</td>\n",
       "      <td>NaN</td>\n",
       "      <td>NaN</td>\n",
       "      <td>0</td>\n",
       "      <td>0</td>\n",
       "      <td>0</td>\n",
       "      <td>0</td>\n",
       "      <td>NaN</td>\n",
       "      <td>NaN</td>\n",
       "      <td>NaN</td>\n",
       "      <td>NaN</td>\n",
       "      <td>Espanhol</td>\n",
       "      <td>NaN</td>\n",
       "      <td>NaN</td>\n",
       "      <td>NaN</td>\n",
       "      <td>NaN</td>\n",
       "      <td>NaN</td>\n",
       "      <td>NaN</td>\n",
       "      <td>NaN</td>\n",
       "      <td>Não</td>\n",
       "    </tr>\n",
       "    <tr>\n",
       "      <th>106</th>\n",
       "      <td>1,90E+11</td>\n",
       "      <td>São Paulo</td>\n",
       "      <td>16</td>\n",
       "      <td>F</td>\n",
       "      <td>1</td>\n",
       "      <td>branca</td>\n",
       "      <td>1</td>\n",
       "      <td>3</td>\n",
       "      <td>não_respondeu</td>\n",
       "      <td>1</td>\n",
       "      <td>NaN</td>\n",
       "      <td>NaN</td>\n",
       "      <td>1</td>\n",
       "      <td>1</td>\n",
       "      <td>1</td>\n",
       "      <td>1</td>\n",
       "      <td>424.5</td>\n",
       "      <td>517.7</td>\n",
       "      <td>489.6</td>\n",
       "      <td>532.6</td>\n",
       "      <td>Inglês</td>\n",
       "      <td>1.0</td>\n",
       "      <td>120.0</td>\n",
       "      <td>120.0</td>\n",
       "      <td>120.0</td>\n",
       "      <td>100.0</td>\n",
       "      <td>80.0</td>\n",
       "      <td>540.0</td>\n",
       "      <td>Sim</td>\n",
       "    </tr>\n",
       "    <tr>\n",
       "      <th>109</th>\n",
       "      <td>1,90E+11</td>\n",
       "      <td>Águas de Lindóia</td>\n",
       "      <td>16</td>\n",
       "      <td>M</td>\n",
       "      <td>1</td>\n",
       "      <td>branca</td>\n",
       "      <td>1</td>\n",
       "      <td>3</td>\n",
       "      <td>não_respondeu</td>\n",
       "      <td>1</td>\n",
       "      <td>NaN</td>\n",
       "      <td>NaN</td>\n",
       "      <td>0</td>\n",
       "      <td>0</td>\n",
       "      <td>0</td>\n",
       "      <td>0</td>\n",
       "      <td>NaN</td>\n",
       "      <td>NaN</td>\n",
       "      <td>NaN</td>\n",
       "      <td>NaN</td>\n",
       "      <td>Espanhol</td>\n",
       "      <td>NaN</td>\n",
       "      <td>NaN</td>\n",
       "      <td>NaN</td>\n",
       "      <td>NaN</td>\n",
       "      <td>NaN</td>\n",
       "      <td>NaN</td>\n",
       "      <td>NaN</td>\n",
       "      <td>Sim</td>\n",
       "    </tr>\n",
       "    <tr>\n",
       "      <th>159</th>\n",
       "      <td>1,90E+11</td>\n",
       "      <td>Águas de Lindóia</td>\n",
       "      <td>15</td>\n",
       "      <td>M</td>\n",
       "      <td>1</td>\n",
       "      <td>branca</td>\n",
       "      <td>1</td>\n",
       "      <td>3</td>\n",
       "      <td>não_respondeu</td>\n",
       "      <td>1</td>\n",
       "      <td>NaN</td>\n",
       "      <td>NaN</td>\n",
       "      <td>0</td>\n",
       "      <td>0</td>\n",
       "      <td>0</td>\n",
       "      <td>0</td>\n",
       "      <td>NaN</td>\n",
       "      <td>NaN</td>\n",
       "      <td>NaN</td>\n",
       "      <td>NaN</td>\n",
       "      <td>Inglês</td>\n",
       "      <td>NaN</td>\n",
       "      <td>NaN</td>\n",
       "      <td>NaN</td>\n",
       "      <td>NaN</td>\n",
       "      <td>NaN</td>\n",
       "      <td>NaN</td>\n",
       "      <td>NaN</td>\n",
       "      <td>Sim</td>\n",
       "    </tr>\n",
       "  </tbody>\n",
       "</table>\n",
       "</div>"
      ],
      "text/plain": [
       "    NU_INSCRICAO NO_MUNICIPIO_RESIDENCIA  IDADE SEXO  TP_ESTADO_CIVIL    RACA  \\\n",
       "20      1,90E+11                  Santos     15    F                1   parda   \n",
       "21      1,90E+11                Panorama     16    F                1   parda   \n",
       "106     1,90E+11               São Paulo     16    F                1  branca   \n",
       "109     1,90E+11        Águas de Lindóia     16    M                1  branca   \n",
       "159     1,90E+11        Águas de Lindóia     15    M                1  branca   \n",
       "\n",
       "     TP_NACIONALIDADE  TP_ST_CONCLUSAO         ESCOLA  IN_TREINEIRO  \\\n",
       "20                  1                3  não_respondeu             1   \n",
       "21                  1                3  não_respondeu             1   \n",
       "106                 1                3  não_respondeu             1   \n",
       "109                 1                3  não_respondeu             1   \n",
       "159                 1                3  não_respondeu             1   \n",
       "\n",
       "     CO_ESCOLA NO_MUNICIPIO_ESC  TP_PRESENCA_CN  TP_PRESENCA_CH  \\\n",
       "20         NaN              NaN               1               1   \n",
       "21         NaN              NaN               0               0   \n",
       "106        NaN              NaN               1               1   \n",
       "109        NaN              NaN               0               0   \n",
       "159        NaN              NaN               0               0   \n",
       "\n",
       "     TP_PRESENCA_LC  TP_PRESENCA_MT  NOTA_CN  NOTA_CH  NOTA_LC  NOTA_MT  \\\n",
       "20                1               1    455.4    506.7    480.4    573.2   \n",
       "21                0               0      NaN      NaN      NaN      NaN   \n",
       "106               1               1    424.5    517.7    489.6    532.6   \n",
       "109               0               0      NaN      NaN      NaN      NaN   \n",
       "159               0               0      NaN      NaN      NaN      NaN   \n",
       "\n",
       "    TP_LINGUA  TP_STATUS_REDACAO  COMP1  COMP2  COMP3  COMP4  COMP5  \\\n",
       "20     Inglês                1.0  140.0  120.0  120.0  100.0   80.0   \n",
       "21   Espanhol                NaN    NaN    NaN    NaN    NaN    NaN   \n",
       "106    Inglês                1.0  120.0  120.0  120.0  100.0   80.0   \n",
       "109  Espanhol                NaN    NaN    NaN    NaN    NaN    NaN   \n",
       "159    Inglês                NaN    NaN    NaN    NaN    NaN    NaN   \n",
       "\n",
       "     NOTA_REDACAO INTERNET  \n",
       "20          560.0      Sim  \n",
       "21            NaN      Não  \n",
       "106         540.0      Sim  \n",
       "109           NaN      Sim  \n",
       "159           NaN      Sim  "
      ]
     },
     "execution_count": 28,
     "metadata": {},
     "output_type": "execute_result"
    }
   ],
   "source": [
    "treineiros.head()"
   ]
  },
  {
   "cell_type": "code",
   "execution_count": 29,
   "metadata": {
    "id": "SgARM58Gcpx6"
   },
   "outputs": [],
   "source": [
    "#treineiros.to_csv('treineiros_enem_2019_sp.csv', encoding = 'iso-8859-1', index = False)"
   ]
  },
  {
   "cell_type": "code",
   "execution_count": 30,
   "metadata": {
    "id": "Gaq-SOFUMdzb"
   },
   "outputs": [],
   "source": [
    "# Separação entre os treineiros e os vestibulandos\n",
    "vestibulandos = dados_maiores_11.loc[dados_maiores_11.IN_TREINEIRO == 0]"
   ]
  },
  {
   "cell_type": "code",
   "execution_count": 31,
   "metadata": {
    "colab": {
     "base_uri": "https://localhost:8080/",
     "height": 287
    },
    "id": "B8ixIFm_PdnN",
    "outputId": "ad4dd21d-a551-48fd-ef59-0f0ec7d4a496"
   },
   "outputs": [
    {
     "data": {
      "text/html": [
       "<div>\n",
       "<style scoped>\n",
       "    .dataframe tbody tr th:only-of-type {\n",
       "        vertical-align: middle;\n",
       "    }\n",
       "\n",
       "    .dataframe tbody tr th {\n",
       "        vertical-align: top;\n",
       "    }\n",
       "\n",
       "    .dataframe thead th {\n",
       "        text-align: right;\n",
       "    }\n",
       "</style>\n",
       "<table border=\"1\" class=\"dataframe\">\n",
       "  <thead>\n",
       "    <tr style=\"text-align: right;\">\n",
       "      <th></th>\n",
       "      <th>NU_INSCRICAO</th>\n",
       "      <th>NO_MUNICIPIO_RESIDENCIA</th>\n",
       "      <th>IDADE</th>\n",
       "      <th>SEXO</th>\n",
       "      <th>TP_ESTADO_CIVIL</th>\n",
       "      <th>RACA</th>\n",
       "      <th>TP_NACIONALIDADE</th>\n",
       "      <th>TP_ST_CONCLUSAO</th>\n",
       "      <th>ESCOLA</th>\n",
       "      <th>IN_TREINEIRO</th>\n",
       "      <th>CO_ESCOLA</th>\n",
       "      <th>NO_MUNICIPIO_ESC</th>\n",
       "      <th>TP_PRESENCA_CN</th>\n",
       "      <th>TP_PRESENCA_CH</th>\n",
       "      <th>TP_PRESENCA_LC</th>\n",
       "      <th>TP_PRESENCA_MT</th>\n",
       "      <th>NOTA_CN</th>\n",
       "      <th>NOTA_CH</th>\n",
       "      <th>NOTA_LC</th>\n",
       "      <th>NOTA_MT</th>\n",
       "      <th>TP_LINGUA</th>\n",
       "      <th>TP_STATUS_REDACAO</th>\n",
       "      <th>COMP1</th>\n",
       "      <th>COMP2</th>\n",
       "      <th>COMP3</th>\n",
       "      <th>COMP4</th>\n",
       "      <th>COMP5</th>\n",
       "      <th>NOTA_REDACAO</th>\n",
       "      <th>INTERNET</th>\n",
       "    </tr>\n",
       "  </thead>\n",
       "  <tbody>\n",
       "    <tr>\n",
       "      <th>0</th>\n",
       "      <td>1,90E+11</td>\n",
       "      <td>Santa Isabel</td>\n",
       "      <td>22</td>\n",
       "      <td>M</td>\n",
       "      <td>1</td>\n",
       "      <td>parda</td>\n",
       "      <td>1</td>\n",
       "      <td>1</td>\n",
       "      <td>não_respondeu</td>\n",
       "      <td>0</td>\n",
       "      <td>NaN</td>\n",
       "      <td>NaN</td>\n",
       "      <td>1</td>\n",
       "      <td>1</td>\n",
       "      <td>1</td>\n",
       "      <td>1</td>\n",
       "      <td>564.6</td>\n",
       "      <td>585.8</td>\n",
       "      <td>592.9</td>\n",
       "      <td>600.2</td>\n",
       "      <td>Inglês</td>\n",
       "      <td>1.0</td>\n",
       "      <td>160.0</td>\n",
       "      <td>200.0</td>\n",
       "      <td>180.0</td>\n",
       "      <td>200.0</td>\n",
       "      <td>200.0</td>\n",
       "      <td>940.0</td>\n",
       "      <td>Sim</td>\n",
       "    </tr>\n",
       "    <tr>\n",
       "      <th>1</th>\n",
       "      <td>1,90E+11</td>\n",
       "      <td>Pinhalzinho</td>\n",
       "      <td>19</td>\n",
       "      <td>M</td>\n",
       "      <td>1</td>\n",
       "      <td>parda</td>\n",
       "      <td>1</td>\n",
       "      <td>1</td>\n",
       "      <td>não_respondeu</td>\n",
       "      <td>0</td>\n",
       "      <td>NaN</td>\n",
       "      <td>NaN</td>\n",
       "      <td>0</td>\n",
       "      <td>0</td>\n",
       "      <td>0</td>\n",
       "      <td>0</td>\n",
       "      <td>NaN</td>\n",
       "      <td>NaN</td>\n",
       "      <td>NaN</td>\n",
       "      <td>NaN</td>\n",
       "      <td>Espanhol</td>\n",
       "      <td>NaN</td>\n",
       "      <td>NaN</td>\n",
       "      <td>NaN</td>\n",
       "      <td>NaN</td>\n",
       "      <td>NaN</td>\n",
       "      <td>NaN</td>\n",
       "      <td>NaN</td>\n",
       "      <td>Não</td>\n",
       "    </tr>\n",
       "    <tr>\n",
       "      <th>2</th>\n",
       "      <td>1,90E+11</td>\n",
       "      <td>São Paulo</td>\n",
       "      <td>17</td>\n",
       "      <td>F</td>\n",
       "      <td>1</td>\n",
       "      <td>parda</td>\n",
       "      <td>1</td>\n",
       "      <td>2</td>\n",
       "      <td>privada</td>\n",
       "      <td>0</td>\n",
       "      <td>15567761.0</td>\n",
       "      <td>Belém</td>\n",
       "      <td>1</td>\n",
       "      <td>1</td>\n",
       "      <td>1</td>\n",
       "      <td>1</td>\n",
       "      <td>576.2</td>\n",
       "      <td>641.1</td>\n",
       "      <td>634.3</td>\n",
       "      <td>731.8</td>\n",
       "      <td>Inglês</td>\n",
       "      <td>1.0</td>\n",
       "      <td>160.0</td>\n",
       "      <td>120.0</td>\n",
       "      <td>200.0</td>\n",
       "      <td>200.0</td>\n",
       "      <td>200.0</td>\n",
       "      <td>880.0</td>\n",
       "      <td>Não</td>\n",
       "    </tr>\n",
       "    <tr>\n",
       "      <th>3</th>\n",
       "      <td>1,90E+11</td>\n",
       "      <td>São Bernardo do Campo</td>\n",
       "      <td>19</td>\n",
       "      <td>M</td>\n",
       "      <td>1</td>\n",
       "      <td>parda</td>\n",
       "      <td>1</td>\n",
       "      <td>2</td>\n",
       "      <td>pública</td>\n",
       "      <td>0</td>\n",
       "      <td>35904958.0</td>\n",
       "      <td>São Bernardo do Campo</td>\n",
       "      <td>1</td>\n",
       "      <td>1</td>\n",
       "      <td>1</td>\n",
       "      <td>1</td>\n",
       "      <td>402.2</td>\n",
       "      <td>424.8</td>\n",
       "      <td>509.6</td>\n",
       "      <td>393.2</td>\n",
       "      <td>Espanhol</td>\n",
       "      <td>1.0</td>\n",
       "      <td>80.0</td>\n",
       "      <td>160.0</td>\n",
       "      <td>120.0</td>\n",
       "      <td>100.0</td>\n",
       "      <td>100.0</td>\n",
       "      <td>560.0</td>\n",
       "      <td>Sim</td>\n",
       "    </tr>\n",
       "    <tr>\n",
       "      <th>4</th>\n",
       "      <td>1,90E+11</td>\n",
       "      <td>São Joaquim da Barra</td>\n",
       "      <td>37</td>\n",
       "      <td>M</td>\n",
       "      <td>2</td>\n",
       "      <td>branca</td>\n",
       "      <td>1</td>\n",
       "      <td>1</td>\n",
       "      <td>não_respondeu</td>\n",
       "      <td>0</td>\n",
       "      <td>NaN</td>\n",
       "      <td>NaN</td>\n",
       "      <td>0</td>\n",
       "      <td>0</td>\n",
       "      <td>0</td>\n",
       "      <td>0</td>\n",
       "      <td>NaN</td>\n",
       "      <td>NaN</td>\n",
       "      <td>NaN</td>\n",
       "      <td>NaN</td>\n",
       "      <td>Espanhol</td>\n",
       "      <td>NaN</td>\n",
       "      <td>NaN</td>\n",
       "      <td>NaN</td>\n",
       "      <td>NaN</td>\n",
       "      <td>NaN</td>\n",
       "      <td>NaN</td>\n",
       "      <td>NaN</td>\n",
       "      <td>Sim</td>\n",
       "    </tr>\n",
       "  </tbody>\n",
       "</table>\n",
       "</div>"
      ],
      "text/plain": [
       "  NU_INSCRICAO NO_MUNICIPIO_RESIDENCIA  IDADE SEXO  TP_ESTADO_CIVIL    RACA  \\\n",
       "0     1,90E+11            Santa Isabel     22    M                1   parda   \n",
       "1     1,90E+11             Pinhalzinho     19    M                1   parda   \n",
       "2     1,90E+11               São Paulo     17    F                1   parda   \n",
       "3     1,90E+11   São Bernardo do Campo     19    M                1   parda   \n",
       "4     1,90E+11    São Joaquim da Barra     37    M                2  branca   \n",
       "\n",
       "   TP_NACIONALIDADE  TP_ST_CONCLUSAO         ESCOLA  IN_TREINEIRO   CO_ESCOLA  \\\n",
       "0                 1                1  não_respondeu             0         NaN   \n",
       "1                 1                1  não_respondeu             0         NaN   \n",
       "2                 1                2        privada             0  15567761.0   \n",
       "3                 1                2        pública             0  35904958.0   \n",
       "4                 1                1  não_respondeu             0         NaN   \n",
       "\n",
       "        NO_MUNICIPIO_ESC  TP_PRESENCA_CN  TP_PRESENCA_CH  TP_PRESENCA_LC  \\\n",
       "0                    NaN               1               1               1   \n",
       "1                    NaN               0               0               0   \n",
       "2                  Belém               1               1               1   \n",
       "3  São Bernardo do Campo               1               1               1   \n",
       "4                    NaN               0               0               0   \n",
       "\n",
       "   TP_PRESENCA_MT  NOTA_CN  NOTA_CH  NOTA_LC  NOTA_MT TP_LINGUA  \\\n",
       "0               1    564.6    585.8    592.9    600.2    Inglês   \n",
       "1               0      NaN      NaN      NaN      NaN  Espanhol   \n",
       "2               1    576.2    641.1    634.3    731.8    Inglês   \n",
       "3               1    402.2    424.8    509.6    393.2  Espanhol   \n",
       "4               0      NaN      NaN      NaN      NaN  Espanhol   \n",
       "\n",
       "   TP_STATUS_REDACAO  COMP1  COMP2  COMP3  COMP4  COMP5  NOTA_REDACAO INTERNET  \n",
       "0                1.0  160.0  200.0  180.0  200.0  200.0         940.0      Sim  \n",
       "1                NaN    NaN    NaN    NaN    NaN    NaN           NaN      Não  \n",
       "2                1.0  160.0  120.0  200.0  200.0  200.0         880.0      Não  \n",
       "3                1.0   80.0  160.0  120.0  100.0  100.0         560.0      Sim  \n",
       "4                NaN    NaN    NaN    NaN    NaN    NaN           NaN      Sim  "
      ]
     },
     "execution_count": 31,
     "metadata": {},
     "output_type": "execute_result"
    }
   ],
   "source": [
    "vestibulandos.head()"
   ]
  },
  {
   "cell_type": "code",
   "execution_count": 32,
   "metadata": {
    "colab": {
     "base_uri": "https://localhost:8080/"
    },
    "id": "Nuoxx9D9Pdvd",
    "outputId": "6e012c7f-040a-4c25-a1b9-230f85c28645"
   },
   "outputs": [
    {
     "data": {
      "text/plain": [
       "(719768, 29)"
      ]
     },
     "execution_count": 32,
     "metadata": {},
     "output_type": "execute_result"
    }
   ],
   "source": [
    "vestibulandos.shape"
   ]
  },
  {
   "cell_type": "code",
   "execution_count": 40,
   "metadata": {
    "colab": {
     "base_uri": "https://localhost:8080/"
    },
    "id": "j8h9xEweKjIR",
    "outputId": "4a3b4d2b-db40-4120-c1dd-f3f959eed6cd"
   },
   "outputs": [
    {
     "data": {
      "text/plain": [
       "1    500805\n",
       "0    218693\n",
       "2       270\n",
       "Name: TP_PRESENCA_CN, dtype: int64"
      ]
     },
     "execution_count": 40,
     "metadata": {},
     "output_type": "execute_result"
    }
   ],
   "source": [
    "# Análise das presenças\n",
    "\n",
    "vestibulandos['TP_PRESENCA_CN'].value_counts()\n",
    "# Ciências da Natureza: 500805 presentes, 218693 faltaram e 270 eliminados."
   ]
  },
  {
   "cell_type": "code",
   "execution_count": 41,
   "metadata": {
    "colab": {
     "base_uri": "https://localhost:8080/"
    },
    "id": "BBQvCu7yLLd9",
    "outputId": "bdd14f9f-9d7b-48cf-a146-5473f9437a12"
   },
   "outputs": [
    {
     "data": {
      "text/plain": [
       "1    533142\n",
       "0    185969\n",
       "2       657\n",
       "Name: TP_PRESENCA_CH, dtype: int64"
      ]
     },
     "execution_count": 41,
     "metadata": {},
     "output_type": "execute_result"
    }
   ],
   "source": [
    "vestibulandos['TP_PRESENCA_CH'].value_counts()\n",
    "# Ciências Humanas: 533142 presentes, 185969 faltaram e 657 eliminados."
   ]
  },
  {
   "cell_type": "code",
   "execution_count": 42,
   "metadata": {
    "colab": {
     "base_uri": "https://localhost:8080/"
    },
    "id": "qKQs-FseLSvZ",
    "outputId": "2911a1c9-156e-4403-a570-34d9193d0b1d"
   },
   "outputs": [
    {
     "data": {
      "text/plain": [
       "1    533142\n",
       "0    185969\n",
       "2       657\n",
       "Name: TP_PRESENCA_LC, dtype: int64"
      ]
     },
     "execution_count": 42,
     "metadata": {},
     "output_type": "execute_result"
    }
   ],
   "source": [
    "vestibulandos['TP_PRESENCA_LC'].value_counts()\n",
    "# Linguagens e Códigos: 533142 presentes, 185969 faltaram e 657 eliminados."
   ]
  },
  {
   "cell_type": "code",
   "execution_count": 43,
   "metadata": {
    "colab": {
     "base_uri": "https://localhost:8080/"
    },
    "id": "PysS3z9kLVzF",
    "outputId": "65be227b-c8f4-4b91-a847-eb93e86f7a3a"
   },
   "outputs": [
    {
     "data": {
      "text/plain": [
       "1    500805\n",
       "0    218693\n",
       "2       270\n",
       "Name: TP_PRESENCA_MT, dtype: int64"
      ]
     },
     "execution_count": 43,
     "metadata": {},
     "output_type": "execute_result"
    }
   ],
   "source": [
    "vestibulandos['TP_PRESENCA_MT'].value_counts()\n",
    "# Matemática: 500805 presentes, 218693 faltaram e 270 eliminados."
   ]
  },
  {
   "cell_type": "code",
   "execution_count": 44,
   "metadata": {
    "colab": {
     "base_uri": "https://localhost:8080/"
    },
    "id": "NJWJp5PxLpBN",
    "outputId": "a5ca8d40-0c01-4d15-e27f-da559bf045c2"
   },
   "outputs": [
    {
     "data": {
      "text/plain": [
       "1.0    519763\n",
       "2.0       913\n",
       "3.0      1417\n",
       "4.0      5513\n",
       "6.0      3626\n",
       "7.0       543\n",
       "8.0       828\n",
       "9.0       539\n",
       "Name: TP_STATUS_REDACAO, dtype: int64"
      ]
     },
     "execution_count": 44,
     "metadata": {},
     "output_type": "execute_result"
    }
   ],
   "source": [
    "vestibulandos['TP_STATUS_REDACAO'].value_counts().sort_index()"
   ]
  },
  {
   "cell_type": "code",
   "execution_count": 45,
   "metadata": {
    "id": "kZIbSeR8Pdyt"
   },
   "outputs": [],
   "source": [
    "provas = ['NOTA_REDACAO','NOTA_CN','NOTA_MT','NOTA_LC','NOTA_CH']"
   ]
  },
  {
   "cell_type": "code",
   "execution_count": 46,
   "metadata": {
    "colab": {
     "base_uri": "https://localhost:8080/"
    },
    "id": "CupDbA6qPd03",
    "outputId": "c1911d7d-191b-4572-ad6e-7a7ea9f72504"
   },
   "outputs": [
    {
     "data": {
      "text/plain": [
       "NOTA_REDACAO    186626\n",
       "NOTA_CN         218963\n",
       "NOTA_MT         218963\n",
       "NOTA_LC         186626\n",
       "NOTA_CH         186626\n",
       "dtype: int64"
      ]
     },
     "execution_count": 46,
     "metadata": {},
     "output_type": "execute_result"
    }
   ],
   "source": [
    "# Registros NAN nas notas\n",
    "vestibulandos[provas].isnull().sum()"
   ]
  },
  {
   "cell_type": "code",
   "execution_count": 47,
   "metadata": {
    "id": "sjr7ySOJbqKq"
   },
   "outputs": [],
   "source": [
    "vestibulandos_classificados = vestibulandos.loc[vestibulandos.TP_PRESENCA_CH == 1]\n",
    "vestibulandos_classificados = vestibulandos_classificados.loc[vestibulandos_classificados.TP_PRESENCA_MT == 1]"
   ]
  },
  {
   "cell_type": "code",
   "execution_count": 48,
   "metadata": {
    "colab": {
     "base_uri": "https://localhost:8080/"
    },
    "id": "PToyNsgHd9Bs",
    "outputId": "334bb243-dc21-449c-eb31-49b34b146875"
   },
   "outputs": [
    {
     "data": {
      "text/plain": [
       "1    499940\n",
       "Name: TP_PRESENCA_MT, dtype: int64"
      ]
     },
     "execution_count": 48,
     "metadata": {},
     "output_type": "execute_result"
    }
   ],
   "source": [
    "vestibulandos_classificados['TP_PRESENCA_MT'].value_counts()"
   ]
  },
  {
   "cell_type": "code",
   "execution_count": 49,
   "metadata": {
    "colab": {
     "base_uri": "https://localhost:8080/"
    },
    "id": "u1iJjvbu9QH2",
    "outputId": "ab9a1e26-7552-4dce-f2e8-e00f708b5092"
   },
   "outputs": [
    {
     "data": {
      "text/plain": [
       "1    499940\n",
       "Name: TP_PRESENCA_CH, dtype: int64"
      ]
     },
     "execution_count": 49,
     "metadata": {},
     "output_type": "execute_result"
    }
   ],
   "source": [
    "vestibulandos_classificados['TP_PRESENCA_CH'].value_counts()"
   ]
  },
  {
   "cell_type": "code",
   "execution_count": 50,
   "metadata": {
    "colab": {
     "base_uri": "https://localhost:8080/"
    },
    "id": "6U5xavx3hRRa",
    "outputId": "91ce480e-1329-41de-f693-e1aaf405cd59"
   },
   "outputs": [
    {
     "data": {
      "text/plain": [
       "1    499940\n",
       "Name: TP_PRESENCA_CN, dtype: int64"
      ]
     },
     "execution_count": 50,
     "metadata": {},
     "output_type": "execute_result"
    }
   ],
   "source": [
    "vestibulandos_classificados['TP_PRESENCA_CN'].value_counts()"
   ]
  },
  {
   "cell_type": "code",
   "execution_count": 51,
   "metadata": {
    "colab": {
     "base_uri": "https://localhost:8080/"
    },
    "id": "XE0AG0ZvhXPg",
    "outputId": "598edaae-32bf-47a3-f858-abdb7c28b8f3"
   },
   "outputs": [
    {
     "data": {
      "text/plain": [
       "1    499940\n",
       "Name: TP_PRESENCA_LC, dtype: int64"
      ]
     },
     "execution_count": 51,
     "metadata": {},
     "output_type": "execute_result"
    }
   ],
   "source": [
    "vestibulandos_classificados['TP_PRESENCA_LC'].value_counts()"
   ]
  },
  {
   "cell_type": "code",
   "execution_count": 52,
   "metadata": {
    "colab": {
     "base_uri": "https://localhost:8080/"
    },
    "id": "77hYSsYmhGCd",
    "outputId": "5e2cf459-3f85-424d-e297-748a7922c74f"
   },
   "outputs": [
    {
     "data": {
      "text/plain": [
       "NOTA_REDACAO    0\n",
       "NOTA_CN         0\n",
       "NOTA_MT         0\n",
       "NOTA_LC         0\n",
       "NOTA_CH         0\n",
       "dtype: int64"
      ]
     },
     "execution_count": 52,
     "metadata": {},
     "output_type": "execute_result"
    }
   ],
   "source": [
    "vestibulandos_classificados[provas].isnull().sum()"
   ]
  },
  {
   "cell_type": "code",
   "execution_count": 53,
   "metadata": {
    "id": "NN_QNiqqC3H6"
   },
   "outputs": [
    {
     "data": {
      "text/plain": [
       "{940.0: 4688,\n",
       " 880.0: 7676,\n",
       " 560.0: 35741,\n",
       " 580.0: 33062,\n",
       " 540.0: 25538,\n",
       " 900.0: 5921,\n",
       " 520.0: 24551,\n",
       " 500.0: 17102,\n",
       " 680.0: 19520,\n",
       " 660.0: 18451,\n",
       " 760.0: 12859,\n",
       " 860.0: 6502,\n",
       " 480.0: 19617,\n",
       " 640.0: 27623,\n",
       " 720.0: 15214,\n",
       " 600.0: 37197,\n",
       " 820.0: 7810,\n",
       " 340.0: 5464,\n",
       " 0.0: 9181,\n",
       " 920.0: 6540,\n",
       " 780.0: 9236,\n",
       " 400.0: 7232,\n",
       " 740.0: 10931,\n",
       " 320.0: 8113,\n",
       " 840.0: 9047,\n",
       " 800.0: 10677,\n",
       " 700.0: 13502,\n",
       " 460.0: 13045,\n",
       " 360.0: 7023,\n",
       " 620.0: 28059,\n",
       " 980.0: 978,\n",
       " 440.0: 11950,\n",
       " 420.0: 6555,\n",
       " 380.0: 4453,\n",
       " 280.0: 4734,\n",
       " 300.0: 5418,\n",
       " 960.0: 3057,\n",
       " 200.0: 312,\n",
       " 260.0: 2634,\n",
       " 180.0: 105,\n",
       " 240.0: 1841,\n",
       " 220.0: 664,\n",
       " 40.0: 1,\n",
       " 140.0: 20,\n",
       " 160.0: 65,\n",
       " 120.0: 16,\n",
       " 100.0: 5,\n",
       " 60.0: 4,\n",
       " 1000.0: 5,\n",
       " 80.0: 1}"
      ]
     },
     "execution_count": 53,
     "metadata": {},
     "output_type": "execute_result"
    }
   ],
   "source": [
    "# Notas zeros na Redação\n",
    "from collections import Counter\n",
    "\n",
    "dict(Counter(vestibulandos_classificados['NOTA_REDACAO']))"
   ]
  },
  {
   "cell_type": "code",
   "execution_count": 60,
   "metadata": {
    "id": "MP41kN969Saz"
   },
   "outputs": [
    {
     "data": {
      "text/plain": [
       "0.0    9181\n",
       "Name: NOTA_REDACAO, dtype: int64"
      ]
     },
     "execution_count": 60,
     "metadata": {},
     "output_type": "execute_result"
    }
   ],
   "source": [
    "vestibulandos_classificados.query('NOTA_REDACAO == 0')['NOTA_REDACAO'].value_counts()\n",
    "# REDAÇÃO: 9181 notas zeros"
   ]
  },
  {
   "cell_type": "code",
   "execution_count": 61,
   "metadata": {
    "id": "jmwHE5j5XjTS"
   },
   "outputs": [
    {
     "data": {
      "text/plain": [
       "0.0    9188\n",
       "Name: COMP1, dtype: int64"
      ]
     },
     "execution_count": 61,
     "metadata": {},
     "output_type": "execute_result"
    }
   ],
   "source": [
    "vestibulandos_classificados.query('COMP1 == 0')['COMP1'].value_counts()\n",
    "# COMPONENTE 1(Demonstrar domínio da modalidade escrita formal da Língua Portuguesa.): 9188 notas zeros."
   ]
  },
  {
   "cell_type": "code",
   "execution_count": 56,
   "metadata": {
    "id": "qrTvoIfKXW5n"
   },
   "outputs": [
    {
     "data": {
      "text/plain": [
       "0.0    9181\n",
       "Name: COMP2, dtype: int64"
      ]
     },
     "execution_count": 56,
     "metadata": {},
     "output_type": "execute_result"
    }
   ],
   "source": [
    "vestibulandos_classificados.query('COMP2 == 0')['COMP2'].value_counts()\n",
    "# COMPONENTE 2 (Compreender a proposta de redação e aplicar conceitos das várias áreas de conhecimento para desenvolver o tema, dentro dos limites estruturais do texto dissertativo-argumentativo em prosa): 9181."
   ]
  },
  {
   "cell_type": "code",
   "execution_count": 62,
   "metadata": {
    "id": "VlH_HTVtXXNi"
   },
   "outputs": [
    {
     "data": {
      "text/plain": [
       "0.0    9197\n",
       "Name: COMP3, dtype: int64"
      ]
     },
     "execution_count": 62,
     "metadata": {},
     "output_type": "execute_result"
    }
   ],
   "source": [
    "vestibulandos_classificados.query('COMP3 == 0')['COMP3'].value_counts()\n",
    "# COMPONENTE 3 (Selecionar, relacionar, organizar e interpretar informações, fatos, opiniões e argumentos em defesa de um ponto de vista): 9197 notas zeros."
   ]
  },
  {
   "cell_type": "code",
   "execution_count": 63,
   "metadata": {
    "id": "EPeuZVq-XXdB"
   },
   "outputs": [
    {
     "data": {
      "text/plain": [
       "0.0    9194\n",
       "Name: COMP4, dtype: int64"
      ]
     },
     "execution_count": 63,
     "metadata": {},
     "output_type": "execute_result"
    }
   ],
   "source": [
    "vestibulandos_classificados.query('COMP4 == 0')['COMP4'].value_counts()\n",
    "# COMPONENTE 4 (Demonstrar conhecimento dos mecanismos linguísticos necessários para a construção da argumentação.): 9194 notas zeros."
   ]
  },
  {
   "cell_type": "code",
   "execution_count": 64,
   "metadata": {
    "id": "-iORCGQOXXuy"
   },
   "outputs": [
    {
     "data": {
      "text/plain": [
       "0.0    73330\n",
       "Name: COMP5, dtype: int64"
      ]
     },
     "execution_count": 64,
     "metadata": {},
     "output_type": "execute_result"
    }
   ],
   "source": [
    "vestibulandos_classificados.query('COMP5 == 0')['COMP5'].value_counts()\n",
    "# COMPONENTE 5 (Elaborar proposta de intervenção para o problema abordado, respeitando os direitos humanos): 73330 notas zeros."
   ]
  },
  {
   "cell_type": "code",
   "execution_count": 70,
   "metadata": {
    "id": "gzalNqvXX3Um"
   },
   "outputs": [
    {
     "data": {
      "text/plain": [
       "0.0    343\n",
       "Name: NOTA_CH, dtype: int64"
      ]
     },
     "execution_count": 70,
     "metadata": {},
     "output_type": "execute_result"
    }
   ],
   "source": [
    "vestibulandos_classificados.query('NOTA_CH == 0')['NOTA_CH'].value_counts()\n",
    "# Notas 0: Ciências Humanas = 343"
   ]
  },
  {
   "cell_type": "code",
   "execution_count": 71,
   "metadata": {
    "id": "b_zUC5gidKU_"
   },
   "outputs": [
    {
     "data": {
      "text/plain": [
       "0.0    36\n",
       "Name: NOTA_CN, dtype: int64"
      ]
     },
     "execution_count": 71,
     "metadata": {},
     "output_type": "execute_result"
    }
   ],
   "source": [
    "vestibulandos_classificados.query('NOTA_CN == 0')['NOTA_CN'].value_counts()\n",
    "# Notas 0: Ciências da Natureza = 36"
   ]
  },
  {
   "cell_type": "code",
   "execution_count": 72,
   "metadata": {
    "id": "Uu-SUbkIdKpU"
   },
   "outputs": [
    {
     "data": {
      "text/plain": [
       "0.0    135\n",
       "Name: NOTA_LC, dtype: int64"
      ]
     },
     "execution_count": 72,
     "metadata": {},
     "output_type": "execute_result"
    }
   ],
   "source": [
    "vestibulandos_classificados.query('NOTA_LC == 0')['NOTA_LC'].value_counts()\n",
    "# Notas 0: Linguagens e Códigos = 135"
   ]
  },
  {
   "cell_type": "code",
   "execution_count": 73,
   "metadata": {
    "id": "7WYG9Sy4dK7v"
   },
   "outputs": [
    {
     "data": {
      "text/plain": [
       "0.0    56\n",
       "Name: NOTA_MT, dtype: int64"
      ]
     },
     "execution_count": 73,
     "metadata": {},
     "output_type": "execute_result"
    }
   ],
   "source": [
    "vestibulandos_classificados.query('NOTA_MT == 0')['NOTA_MT'].value_counts()\n",
    "# Notas 0: Matemática = 56"
   ]
  },
  {
   "cell_type": "code",
   "execution_count": 74,
   "metadata": {
    "id": "1QsZ4Yp7dMii"
   },
   "outputs": [
    {
     "data": {
      "text/plain": [
       "0.0    9181\n",
       "Name: NOTA_REDACAO, dtype: int64"
      ]
     },
     "execution_count": 74,
     "metadata": {},
     "output_type": "execute_result"
    }
   ],
   "source": [
    "vestibulandos_classificados.query('NOTA_REDACAO == 0')['NOTA_REDACAO'].value_counts()\n",
    "# Notas 0: Redação = 9181"
   ]
  },
  {
   "cell_type": "code",
   "execution_count": 75,
   "metadata": {
    "id": "1ZHasQ_f_Eri"
   },
   "outputs": [
    {
     "data": {
      "text/html": [
       "<div>\n",
       "<style scoped>\n",
       "    .dataframe tbody tr th:only-of-type {\n",
       "        vertical-align: middle;\n",
       "    }\n",
       "\n",
       "    .dataframe tbody tr th {\n",
       "        vertical-align: top;\n",
       "    }\n",
       "\n",
       "    .dataframe thead th {\n",
       "        text-align: right;\n",
       "    }\n",
       "</style>\n",
       "<table border=\"1\" class=\"dataframe\">\n",
       "  <thead>\n",
       "    <tr style=\"text-align: right;\">\n",
       "      <th></th>\n",
       "      <th>NU_INSCRICAO</th>\n",
       "      <th>NO_MUNICIPIO_RESIDENCIA</th>\n",
       "      <th>IDADE</th>\n",
       "      <th>SEXO</th>\n",
       "      <th>TP_ESTADO_CIVIL</th>\n",
       "      <th>RACA</th>\n",
       "      <th>TP_NACIONALIDADE</th>\n",
       "      <th>TP_ST_CONCLUSAO</th>\n",
       "      <th>ESCOLA</th>\n",
       "      <th>IN_TREINEIRO</th>\n",
       "      <th>CO_ESCOLA</th>\n",
       "      <th>NO_MUNICIPIO_ESC</th>\n",
       "      <th>TP_PRESENCA_CN</th>\n",
       "      <th>TP_PRESENCA_CH</th>\n",
       "      <th>TP_PRESENCA_LC</th>\n",
       "      <th>TP_PRESENCA_MT</th>\n",
       "      <th>NOTA_CN</th>\n",
       "      <th>NOTA_CH</th>\n",
       "      <th>NOTA_LC</th>\n",
       "      <th>NOTA_MT</th>\n",
       "      <th>TP_LINGUA</th>\n",
       "      <th>TP_STATUS_REDACAO</th>\n",
       "      <th>COMP1</th>\n",
       "      <th>COMP2</th>\n",
       "      <th>COMP3</th>\n",
       "      <th>COMP4</th>\n",
       "      <th>COMP5</th>\n",
       "      <th>NOTA_REDACAO</th>\n",
       "      <th>INTERNET</th>\n",
       "    </tr>\n",
       "  </thead>\n",
       "  <tbody>\n",
       "    <tr>\n",
       "      <th>0</th>\n",
       "      <td>1,90E+11</td>\n",
       "      <td>Santa Isabel</td>\n",
       "      <td>22</td>\n",
       "      <td>M</td>\n",
       "      <td>1</td>\n",
       "      <td>parda</td>\n",
       "      <td>1</td>\n",
       "      <td>1</td>\n",
       "      <td>não_respondeu</td>\n",
       "      <td>0</td>\n",
       "      <td>NaN</td>\n",
       "      <td>NaN</td>\n",
       "      <td>1</td>\n",
       "      <td>1</td>\n",
       "      <td>1</td>\n",
       "      <td>1</td>\n",
       "      <td>564.6</td>\n",
       "      <td>585.8</td>\n",
       "      <td>592.9</td>\n",
       "      <td>600.2</td>\n",
       "      <td>Inglês</td>\n",
       "      <td>1.0</td>\n",
       "      <td>160.0</td>\n",
       "      <td>200.0</td>\n",
       "      <td>180.0</td>\n",
       "      <td>200.0</td>\n",
       "      <td>200.0</td>\n",
       "      <td>940.0</td>\n",
       "      <td>Sim</td>\n",
       "    </tr>\n",
       "    <tr>\n",
       "      <th>2</th>\n",
       "      <td>1,90E+11</td>\n",
       "      <td>São Paulo</td>\n",
       "      <td>17</td>\n",
       "      <td>F</td>\n",
       "      <td>1</td>\n",
       "      <td>parda</td>\n",
       "      <td>1</td>\n",
       "      <td>2</td>\n",
       "      <td>privada</td>\n",
       "      <td>0</td>\n",
       "      <td>15567761.0</td>\n",
       "      <td>Belém</td>\n",
       "      <td>1</td>\n",
       "      <td>1</td>\n",
       "      <td>1</td>\n",
       "      <td>1</td>\n",
       "      <td>576.2</td>\n",
       "      <td>641.1</td>\n",
       "      <td>634.3</td>\n",
       "      <td>731.8</td>\n",
       "      <td>Inglês</td>\n",
       "      <td>1.0</td>\n",
       "      <td>160.0</td>\n",
       "      <td>120.0</td>\n",
       "      <td>200.0</td>\n",
       "      <td>200.0</td>\n",
       "      <td>200.0</td>\n",
       "      <td>880.0</td>\n",
       "      <td>Não</td>\n",
       "    </tr>\n",
       "    <tr>\n",
       "      <th>3</th>\n",
       "      <td>1,90E+11</td>\n",
       "      <td>São Bernardo do Campo</td>\n",
       "      <td>19</td>\n",
       "      <td>M</td>\n",
       "      <td>1</td>\n",
       "      <td>parda</td>\n",
       "      <td>1</td>\n",
       "      <td>2</td>\n",
       "      <td>pública</td>\n",
       "      <td>0</td>\n",
       "      <td>35904958.0</td>\n",
       "      <td>São Bernardo do Campo</td>\n",
       "      <td>1</td>\n",
       "      <td>1</td>\n",
       "      <td>1</td>\n",
       "      <td>1</td>\n",
       "      <td>402.2</td>\n",
       "      <td>424.8</td>\n",
       "      <td>509.6</td>\n",
       "      <td>393.2</td>\n",
       "      <td>Espanhol</td>\n",
       "      <td>1.0</td>\n",
       "      <td>80.0</td>\n",
       "      <td>160.0</td>\n",
       "      <td>120.0</td>\n",
       "      <td>100.0</td>\n",
       "      <td>100.0</td>\n",
       "      <td>560.0</td>\n",
       "      <td>Sim</td>\n",
       "    </tr>\n",
       "    <tr>\n",
       "      <th>5</th>\n",
       "      <td>1,90E+11</td>\n",
       "      <td>Embu-Guaçu</td>\n",
       "      <td>17</td>\n",
       "      <td>F</td>\n",
       "      <td>1</td>\n",
       "      <td>parda</td>\n",
       "      <td>1</td>\n",
       "      <td>2</td>\n",
       "      <td>pública</td>\n",
       "      <td>0</td>\n",
       "      <td>NaN</td>\n",
       "      <td>NaN</td>\n",
       "      <td>1</td>\n",
       "      <td>1</td>\n",
       "      <td>1</td>\n",
       "      <td>1</td>\n",
       "      <td>399.6</td>\n",
       "      <td>426.8</td>\n",
       "      <td>487.2</td>\n",
       "      <td>419.2</td>\n",
       "      <td>Inglês</td>\n",
       "      <td>1.0</td>\n",
       "      <td>120.0</td>\n",
       "      <td>120.0</td>\n",
       "      <td>120.0</td>\n",
       "      <td>120.0</td>\n",
       "      <td>80.0</td>\n",
       "      <td>560.0</td>\n",
       "      <td>Sim</td>\n",
       "    </tr>\n",
       "    <tr>\n",
       "      <th>8</th>\n",
       "      <td>1,90E+11</td>\n",
       "      <td>Guarulhos</td>\n",
       "      <td>23</td>\n",
       "      <td>F</td>\n",
       "      <td>1</td>\n",
       "      <td>branca</td>\n",
       "      <td>1</td>\n",
       "      <td>1</td>\n",
       "      <td>não_respondeu</td>\n",
       "      <td>0</td>\n",
       "      <td>NaN</td>\n",
       "      <td>NaN</td>\n",
       "      <td>1</td>\n",
       "      <td>1</td>\n",
       "      <td>1</td>\n",
       "      <td>1</td>\n",
       "      <td>625.7</td>\n",
       "      <td>646.5</td>\n",
       "      <td>629.3</td>\n",
       "      <td>796.1</td>\n",
       "      <td>Inglês</td>\n",
       "      <td>1.0</td>\n",
       "      <td>160.0</td>\n",
       "      <td>200.0</td>\n",
       "      <td>180.0</td>\n",
       "      <td>180.0</td>\n",
       "      <td>160.0</td>\n",
       "      <td>880.0</td>\n",
       "      <td>Sim</td>\n",
       "    </tr>\n",
       "  </tbody>\n",
       "</table>\n",
       "</div>"
      ],
      "text/plain": [
       "  NU_INSCRICAO NO_MUNICIPIO_RESIDENCIA  IDADE SEXO  TP_ESTADO_CIVIL    RACA  \\\n",
       "0     1,90E+11            Santa Isabel     22    M                1   parda   \n",
       "2     1,90E+11               São Paulo     17    F                1   parda   \n",
       "3     1,90E+11   São Bernardo do Campo     19    M                1   parda   \n",
       "5     1,90E+11              Embu-Guaçu     17    F                1   parda   \n",
       "8     1,90E+11               Guarulhos     23    F                1  branca   \n",
       "\n",
       "   TP_NACIONALIDADE  TP_ST_CONCLUSAO         ESCOLA  IN_TREINEIRO   CO_ESCOLA  \\\n",
       "0                 1                1  não_respondeu             0         NaN   \n",
       "2                 1                2        privada             0  15567761.0   \n",
       "3                 1                2        pública             0  35904958.0   \n",
       "5                 1                2        pública             0         NaN   \n",
       "8                 1                1  não_respondeu             0         NaN   \n",
       "\n",
       "        NO_MUNICIPIO_ESC  TP_PRESENCA_CN  TP_PRESENCA_CH  TP_PRESENCA_LC  \\\n",
       "0                    NaN               1               1               1   \n",
       "2                  Belém               1               1               1   \n",
       "3  São Bernardo do Campo               1               1               1   \n",
       "5                    NaN               1               1               1   \n",
       "8                    NaN               1               1               1   \n",
       "\n",
       "   TP_PRESENCA_MT  NOTA_CN  NOTA_CH  NOTA_LC  NOTA_MT TP_LINGUA  \\\n",
       "0               1    564.6    585.8    592.9    600.2    Inglês   \n",
       "2               1    576.2    641.1    634.3    731.8    Inglês   \n",
       "3               1    402.2    424.8    509.6    393.2  Espanhol   \n",
       "5               1    399.6    426.8    487.2    419.2    Inglês   \n",
       "8               1    625.7    646.5    629.3    796.1    Inglês   \n",
       "\n",
       "   TP_STATUS_REDACAO  COMP1  COMP2  COMP3  COMP4  COMP5  NOTA_REDACAO INTERNET  \n",
       "0                1.0  160.0  200.0  180.0  200.0  200.0         940.0      Sim  \n",
       "2                1.0  160.0  120.0  200.0  200.0  200.0         880.0      Não  \n",
       "3                1.0   80.0  160.0  120.0  100.0  100.0         560.0      Sim  \n",
       "5                1.0  120.0  120.0  120.0  120.0   80.0         560.0      Sim  \n",
       "8                1.0  160.0  200.0  180.0  180.0  160.0         880.0      Sim  "
      ]
     },
     "execution_count": 75,
     "metadata": {},
     "output_type": "execute_result"
    }
   ],
   "source": [
    "vestibulandos_classificados.head()"
   ]
  },
  {
   "cell_type": "code",
   "execution_count": 76,
   "metadata": {
    "id": "Ojifr3mxeowO"
   },
   "outputs": [],
   "source": [
    "vestibulandos_classificados = vestibulandos_classificados.drop(columns=['IN_TREINEIRO'], )"
   ]
  },
  {
   "cell_type": "code",
   "execution_count": 77,
   "metadata": {
    "id": "rWZ4rP2Te_FB"
   },
   "outputs": [
    {
     "data": {
      "text/plain": [
       "(499940, 28)"
      ]
     },
     "execution_count": 77,
     "metadata": {},
     "output_type": "execute_result"
    }
   ],
   "source": [
    "vestibulandos_classificados.shape"
   ]
  },
  {
   "cell_type": "code",
   "execution_count": 78,
   "metadata": {
    "id": "lpVkk2e9XXuF"
   },
   "outputs": [],
   "source": [
    "vestibulandos_classificados.to_csv('C:/Users/leand/Documents/scripts_jupyter/bases/enem_2019_tratado.csv', encoding = 'iso-8859-1', index = False)"
   ]
  },
  {
   "cell_type": "code",
   "execution_count": null,
   "metadata": {},
   "outputs": [],
   "source": []
  }
 ],
 "metadata": {
  "colab": {
   "collapsed_sections": [
    "xJBO2DT_dykz"
   ],
   "name": "tratamento_enem_2019_corrigido.ipynb",
   "provenance": []
  },
  "kernelspec": {
   "display_name": "Python 3 (ipykernel)",
   "language": "python",
   "name": "python3"
  },
  "language_info": {
   "codemirror_mode": {
    "name": "ipython",
    "version": 3
   },
   "file_extension": ".py",
   "mimetype": "text/x-python",
   "name": "python",
   "nbconvert_exporter": "python",
   "pygments_lexer": "ipython3",
   "version": "3.9.13"
  }
 },
 "nbformat": 4,
 "nbformat_minor": 4
}
