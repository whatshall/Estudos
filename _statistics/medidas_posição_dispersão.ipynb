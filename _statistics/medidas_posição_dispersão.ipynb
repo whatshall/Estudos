{
 "cells": [
  {
   "cell_type": "markdown",
   "metadata": {
    "id": "u49o_i42jJOW"
   },
   "source": [
    "## **Medidas de dispersão e de posição** \n"
   ]
  },
  {
   "cell_type": "code",
   "execution_count": 1,
   "metadata": {
    "id": "qBfPIhEzUATt"
   },
   "outputs": [],
   "source": [
    "import numpy as np\n",
    "import pandas as pd"
   ]
  },
  {
   "cell_type": "code",
   "execution_count": 2,
   "metadata": {
    "id": "T80BqJgUjjqS"
   },
   "outputs": [],
   "source": [
    "enem_sp = pd.read_csv('C:/Users/leand/Documents/scripts_jupyter/bases/enem_2019_tratado.csv',\n",
    "                      sep=',', \n",
    "                      encoding='iso-8859-1')"
   ]
  },
  {
   "cell_type": "markdown",
   "metadata": {
    "id": "aFV-LyAAxBGZ"
   },
   "source": [
    "## Medidas de dispersão"
   ]
  },
  {
   "cell_type": "code",
   "execution_count": 3,
   "metadata": {
    "colab": {
     "base_uri": "https://localhost:8080/"
    },
    "id": "TFMYuhtJw8K5",
    "outputId": "efa21b59-d305-446f-8bfb-3bd3d5d1e32d"
   },
   "outputs": [
    {
     "data": {
      "text/plain": [
       "33659.47050441108"
      ]
     },
     "execution_count": 3,
     "metadata": {},
     "output_type": "execute_result"
    }
   ],
   "source": [
    "enem_sp['NOTA_MT'].var() # Variância"
   ]
  },
  {
   "cell_type": "code",
   "execution_count": 4,
   "metadata": {
    "colab": {
     "base_uri": "https://localhost:8080/"
    },
    "id": "O9IWMP4ow4Nb",
    "outputId": "33b268b4-c218-4563-f435-c96b8e898b2f"
   },
   "outputs": [
    {
     "data": {
      "text/plain": [
       "33659.47050441108"
      ]
     },
     "execution_count": 4,
     "metadata": {},
     "output_type": "execute_result"
    }
   ],
   "source": [
    "enem_sp.NOTA_MT.var()"
   ]
  },
  {
   "cell_type": "code",
   "execution_count": 5,
   "metadata": {
    "colab": {
     "base_uri": "https://localhost:8080/"
    },
    "id": "rZ91OWKxxjxo",
    "outputId": "21511bfd-29c3-46bc-8dc0-a568470d1558"
   },
   "outputs": [
    {
     "data": {
      "text/plain": [
       "183.46517518158885"
      ]
     },
     "execution_count": 5,
     "metadata": {},
     "output_type": "execute_result"
    }
   ],
   "source": [
    "enem_sp.NOTA_MT.std() # Desvio padrão"
   ]
  },
  {
   "cell_type": "code",
   "execution_count": 6,
   "metadata": {
    "colab": {
     "base_uri": "https://localhost:8080/"
    },
    "id": "Fkk0W-2LxtCv",
    "outputId": "2156c27d-28a1-47f4-f191-2334c1b77c20"
   },
   "outputs": [
    {
     "data": {
      "text/plain": [
       "497.5942403088341"
      ]
     },
     "execution_count": 6,
     "metadata": {},
     "output_type": "execute_result"
    }
   ],
   "source": [
    "enem_sp.NOTA_MT.mean() # Média"
   ]
  },
  {
   "cell_type": "code",
   "execution_count": 7,
   "metadata": {
    "colab": {
     "base_uri": "https://localhost:8080/"
    },
    "id": "DkifVGhKz0wy",
    "outputId": "f8a11e90-89ab-496c-f9fc-badff5703ab6"
   },
   "outputs": [
    {
     "data": {
      "text/plain": [
       "132.98102283461475"
      ]
     },
     "execution_count": 7,
     "metadata": {},
     "output_type": "execute_result"
    }
   ],
   "source": [
    "enem_sp.NOTA_MT.mad() # Desvio absoluto"
   ]
  },
  {
   "cell_type": "code",
   "execution_count": 8,
   "metadata": {
    "colab": {
     "base_uri": "https://localhost:8080/"
    },
    "id": "Wndk-yPIx4h3",
    "outputId": "46b50765-1e5f-4dbe-c48d-48eb1a0e2a3b"
   },
   "outputs": [
    {
     "data": {
      "text/plain": [
       "29082.774122769704"
      ]
     },
     "execution_count": 8,
     "metadata": {},
     "output_type": "execute_result"
    }
   ],
   "source": [
    "enem_sp.NOTA_REDACAO.var()"
   ]
  },
  {
   "cell_type": "code",
   "execution_count": 9,
   "metadata": {
    "colab": {
     "base_uri": "https://localhost:8080/"
    },
    "id": "kwoXDdruyJGW",
    "outputId": "6c9f36b4-3df8-41fb-d81a-93029e8a0454"
   },
   "outputs": [
    {
     "data": {
      "text/plain": [
       "170.5367236778334"
      ]
     },
     "execution_count": 9,
     "metadata": {},
     "output_type": "execute_result"
    }
   ],
   "source": [
    "enem_sp.NOTA_REDACAO.std()"
   ]
  },
  {
   "cell_type": "code",
   "execution_count": 10,
   "metadata": {
    "colab": {
     "base_uri": "https://localhost:8080/"
    },
    "id": "RC-Jnwg1ySxl",
    "outputId": "7b804a28-7b6e-49e2-865b-094f9bd7ee04"
   },
   "outputs": [
    {
     "data": {
      "text/plain": [
       "593.0183221986639"
      ]
     },
     "execution_count": 10,
     "metadata": {},
     "output_type": "execute_result"
    }
   ],
   "source": [
    "enem_sp.NOTA_REDACAO.mean()"
   ]
  },
  {
   "cell_type": "code",
   "execution_count": 11,
   "metadata": {
    "colab": {
     "base_uri": "https://localhost:8080/",
     "height": 304
    },
    "id": "yBOGVoGjysQV",
    "outputId": "af1ad8ba-0a3f-450e-da24-c8f66968a6cc"
   },
   "outputs": [
    {
     "data": {
      "text/html": [
       "<div>\n",
       "<style scoped>\n",
       "    .dataframe tbody tr th:only-of-type {\n",
       "        vertical-align: middle;\n",
       "    }\n",
       "\n",
       "    .dataframe tbody tr th {\n",
       "        vertical-align: top;\n",
       "    }\n",
       "\n",
       "    .dataframe thead th {\n",
       "        text-align: right;\n",
       "    }\n",
       "</style>\n",
       "<table border=\"1\" class=\"dataframe\">\n",
       "  <thead>\n",
       "    <tr style=\"text-align: right;\">\n",
       "      <th></th>\n",
       "      <th>IDADE</th>\n",
       "      <th>TP_ESTADO_CIVIL</th>\n",
       "      <th>TP_NACIONALIDADE</th>\n",
       "      <th>TP_ST_CONCLUSAO</th>\n",
       "      <th>CO_ESCOLA</th>\n",
       "      <th>TP_PRESENCA_CN</th>\n",
       "      <th>TP_PRESENCA_CH</th>\n",
       "      <th>TP_PRESENCA_LC</th>\n",
       "      <th>TP_PRESENCA_MT</th>\n",
       "      <th>NOTA_CN</th>\n",
       "      <th>NOTA_CH</th>\n",
       "      <th>NOTA_LC</th>\n",
       "      <th>NOTA_MT</th>\n",
       "      <th>TP_STATUS_REDACAO</th>\n",
       "      <th>COMP1</th>\n",
       "      <th>COMP2</th>\n",
       "      <th>COMP3</th>\n",
       "      <th>COMP4</th>\n",
       "      <th>COMP5</th>\n",
       "      <th>NOTA_REDACAO</th>\n",
       "    </tr>\n",
       "  </thead>\n",
       "  <tbody>\n",
       "    <tr>\n",
       "      <th>count</th>\n",
       "      <td>499940.0</td>\n",
       "      <td>499940.0</td>\n",
       "      <td>499940.0</td>\n",
       "      <td>499940.0</td>\n",
       "      <td>176894.0</td>\n",
       "      <td>499940.0</td>\n",
       "      <td>499940.0</td>\n",
       "      <td>499940.0</td>\n",
       "      <td>499940.0</td>\n",
       "      <td>499940.0</td>\n",
       "      <td>499940.0</td>\n",
       "      <td>499940.0</td>\n",
       "      <td>499940.0</td>\n",
       "      <td>499940.0</td>\n",
       "      <td>499940.0</td>\n",
       "      <td>499940.0</td>\n",
       "      <td>499940.0</td>\n",
       "      <td>499940.0</td>\n",
       "      <td>499940.0</td>\n",
       "      <td>499940.0</td>\n",
       "    </tr>\n",
       "    <tr>\n",
       "      <th>mean</th>\n",
       "      <td>20.6</td>\n",
       "      <td>1.1</td>\n",
       "      <td>1.0</td>\n",
       "      <td>1.5</td>\n",
       "      <td>35211378.2</td>\n",
       "      <td>1.0</td>\n",
       "      <td>1.0</td>\n",
       "      <td>1.0</td>\n",
       "      <td>1.0</td>\n",
       "      <td>449.9</td>\n",
       "      <td>482.2</td>\n",
       "      <td>491.9</td>\n",
       "      <td>497.6</td>\n",
       "      <td>1.1</td>\n",
       "      <td>125.0</td>\n",
       "      <td>127.1</td>\n",
       "      <td>118.8</td>\n",
       "      <td>125.0</td>\n",
       "      <td>97.2</td>\n",
       "      <td>593.0</td>\n",
       "    </tr>\n",
       "    <tr>\n",
       "      <th>std</th>\n",
       "      <td>6.5</td>\n",
       "      <td>0.4</td>\n",
       "      <td>0.2</td>\n",
       "      <td>0.5</td>\n",
       "      <td>443039.2</td>\n",
       "      <td>0.0</td>\n",
       "      <td>0.0</td>\n",
       "      <td>0.0</td>\n",
       "      <td>0.0</td>\n",
       "      <td>153.0</td>\n",
       "      <td>161.1</td>\n",
       "      <td>156.2</td>\n",
       "      <td>183.5</td>\n",
       "      <td>0.6</td>\n",
       "      <td>28.6</td>\n",
       "      <td>39.8</td>\n",
       "      <td>36.8</td>\n",
       "      <td>33.9</td>\n",
       "      <td>57.8</td>\n",
       "      <td>170.5</td>\n",
       "    </tr>\n",
       "    <tr>\n",
       "      <th>min</th>\n",
       "      <td>12.0</td>\n",
       "      <td>0.0</td>\n",
       "      <td>0.0</td>\n",
       "      <td>1.0</td>\n",
       "      <td>11003065.0</td>\n",
       "      <td>1.0</td>\n",
       "      <td>1.0</td>\n",
       "      <td>1.0</td>\n",
       "      <td>1.0</td>\n",
       "      <td>0.0</td>\n",
       "      <td>0.0</td>\n",
       "      <td>0.0</td>\n",
       "      <td>0.0</td>\n",
       "      <td>1.0</td>\n",
       "      <td>0.0</td>\n",
       "      <td>0.0</td>\n",
       "      <td>0.0</td>\n",
       "      <td>0.0</td>\n",
       "      <td>0.0</td>\n",
       "      <td>0.0</td>\n",
       "    </tr>\n",
       "    <tr>\n",
       "      <th>25%</th>\n",
       "      <td>17.0</td>\n",
       "      <td>1.0</td>\n",
       "      <td>1.0</td>\n",
       "      <td>1.0</td>\n",
       "      <td>35016251.0</td>\n",
       "      <td>1.0</td>\n",
       "      <td>1.0</td>\n",
       "      <td>1.0</td>\n",
       "      <td>1.0</td>\n",
       "      <td>412.4</td>\n",
       "      <td>450.6</td>\n",
       "      <td>490.1</td>\n",
       "      <td>427.9</td>\n",
       "      <td>1.0</td>\n",
       "      <td>120.0</td>\n",
       "      <td>120.0</td>\n",
       "      <td>100.0</td>\n",
       "      <td>120.0</td>\n",
       "      <td>60.0</td>\n",
       "      <td>500.0</td>\n",
       "    </tr>\n",
       "    <tr>\n",
       "      <th>50%</th>\n",
       "      <td>18.0</td>\n",
       "      <td>1.0</td>\n",
       "      <td>1.0</td>\n",
       "      <td>1.0</td>\n",
       "      <td>35044957.0</td>\n",
       "      <td>1.0</td>\n",
       "      <td>1.0</td>\n",
       "      <td>1.0</td>\n",
       "      <td>1.0</td>\n",
       "      <td>478.1</td>\n",
       "      <td>523.7</td>\n",
       "      <td>538.3</td>\n",
       "      <td>511.8</td>\n",
       "      <td>1.0</td>\n",
       "      <td>120.0</td>\n",
       "      <td>120.0</td>\n",
       "      <td>120.0</td>\n",
       "      <td>120.0</td>\n",
       "      <td>100.0</td>\n",
       "      <td>600.0</td>\n",
       "    </tr>\n",
       "    <tr>\n",
       "      <th>75%</th>\n",
       "      <td>21.0</td>\n",
       "      <td>1.0</td>\n",
       "      <td>1.0</td>\n",
       "      <td>2.0</td>\n",
       "      <td>35290701.0</td>\n",
       "      <td>1.0</td>\n",
       "      <td>1.0</td>\n",
       "      <td>1.0</td>\n",
       "      <td>1.0</td>\n",
       "      <td>544.4</td>\n",
       "      <td>578.1</td>\n",
       "      <td>576.2</td>\n",
       "      <td>617.9</td>\n",
       "      <td>1.0</td>\n",
       "      <td>140.0</td>\n",
       "      <td>140.0</td>\n",
       "      <td>140.0</td>\n",
       "      <td>140.0</td>\n",
       "      <td>140.0</td>\n",
       "      <td>680.0</td>\n",
       "    </tr>\n",
       "    <tr>\n",
       "      <th>max</th>\n",
       "      <td>91.0</td>\n",
       "      <td>4.0</td>\n",
       "      <td>4.0</td>\n",
       "      <td>4.0</td>\n",
       "      <td>53001036.0</td>\n",
       "      <td>1.0</td>\n",
       "      <td>1.0</td>\n",
       "      <td>1.0</td>\n",
       "      <td>1.0</td>\n",
       "      <td>860.9</td>\n",
       "      <td>822.7</td>\n",
       "      <td>772.3</td>\n",
       "      <td>984.7</td>\n",
       "      <td>9.0</td>\n",
       "      <td>200.0</td>\n",
       "      <td>200.0</td>\n",
       "      <td>200.0</td>\n",
       "      <td>200.0</td>\n",
       "      <td>200.0</td>\n",
       "      <td>1000.0</td>\n",
       "    </tr>\n",
       "  </tbody>\n",
       "</table>\n",
       "</div>"
      ],
      "text/plain": [
       "          IDADE  TP_ESTADO_CIVIL  TP_NACIONALIDADE  TP_ST_CONCLUSAO  \\\n",
       "count  499940.0         499940.0          499940.0         499940.0   \n",
       "mean       20.6              1.1               1.0              1.5   \n",
       "std         6.5              0.4               0.2              0.5   \n",
       "min        12.0              0.0               0.0              1.0   \n",
       "25%        17.0              1.0               1.0              1.0   \n",
       "50%        18.0              1.0               1.0              1.0   \n",
       "75%        21.0              1.0               1.0              2.0   \n",
       "max        91.0              4.0               4.0              4.0   \n",
       "\n",
       "        CO_ESCOLA  TP_PRESENCA_CN  TP_PRESENCA_CH  TP_PRESENCA_LC  \\\n",
       "count    176894.0        499940.0        499940.0        499940.0   \n",
       "mean   35211378.2             1.0             1.0             1.0   \n",
       "std      443039.2             0.0             0.0             0.0   \n",
       "min    11003065.0             1.0             1.0             1.0   \n",
       "25%    35016251.0             1.0             1.0             1.0   \n",
       "50%    35044957.0             1.0             1.0             1.0   \n",
       "75%    35290701.0             1.0             1.0             1.0   \n",
       "max    53001036.0             1.0             1.0             1.0   \n",
       "\n",
       "       TP_PRESENCA_MT   NOTA_CN   NOTA_CH   NOTA_LC   NOTA_MT  \\\n",
       "count        499940.0  499940.0  499940.0  499940.0  499940.0   \n",
       "mean              1.0     449.9     482.2     491.9     497.6   \n",
       "std               0.0     153.0     161.1     156.2     183.5   \n",
       "min               1.0       0.0       0.0       0.0       0.0   \n",
       "25%               1.0     412.4     450.6     490.1     427.9   \n",
       "50%               1.0     478.1     523.7     538.3     511.8   \n",
       "75%               1.0     544.4     578.1     576.2     617.9   \n",
       "max               1.0     860.9     822.7     772.3     984.7   \n",
       "\n",
       "       TP_STATUS_REDACAO     COMP1     COMP2     COMP3     COMP4     COMP5  \\\n",
       "count           499940.0  499940.0  499940.0  499940.0  499940.0  499940.0   \n",
       "mean                 1.1     125.0     127.1     118.8     125.0      97.2   \n",
       "std                  0.6      28.6      39.8      36.8      33.9      57.8   \n",
       "min                  1.0       0.0       0.0       0.0       0.0       0.0   \n",
       "25%                  1.0     120.0     120.0     100.0     120.0      60.0   \n",
       "50%                  1.0     120.0     120.0     120.0     120.0     100.0   \n",
       "75%                  1.0     140.0     140.0     140.0     140.0     140.0   \n",
       "max                  9.0     200.0     200.0     200.0     200.0     200.0   \n",
       "\n",
       "       NOTA_REDACAO  \n",
       "count      499940.0  \n",
       "mean          593.0  \n",
       "std           170.5  \n",
       "min             0.0  \n",
       "25%           500.0  \n",
       "50%           600.0  \n",
       "75%           680.0  \n",
       "max          1000.0  "
      ]
     },
     "execution_count": 11,
     "metadata": {},
     "output_type": "execute_result"
    }
   ],
   "source": [
    "round(enem_sp.describe(), 1)"
   ]
  },
  {
   "cell_type": "markdown",
   "metadata": {
    "id": "YeJLPvqqzVyi"
   },
   "source": [
    "## Medidas de Posição"
   ]
  },
  {
   "cell_type": "code",
   "execution_count": 12,
   "metadata": {
    "colab": {
     "base_uri": "https://localhost:8080/"
    },
    "id": "AYmsAgKt1CTO",
    "outputId": "9e5c53e3-0466-47a8-e25f-085458e70fb2"
   },
   "outputs": [
    {
     "data": {
      "text/plain": [
       "0.0"
      ]
     },
     "execution_count": 12,
     "metadata": {},
     "output_type": "execute_result"
    }
   ],
   "source": [
    "# Mínimo\n",
    "enem_sp['NOTA_MT'].min()"
   ]
  },
  {
   "cell_type": "code",
   "execution_count": 13,
   "metadata": {
    "colab": {
     "base_uri": "https://localhost:8080/"
    },
    "id": "-wULQGUC1Hc9",
    "outputId": "486486e5-fa2a-40d0-ce1d-fa35f39e7078"
   },
   "outputs": [
    {
     "data": {
      "text/plain": [
       "0.0"
      ]
     },
     "execution_count": 13,
     "metadata": {},
     "output_type": "execute_result"
    }
   ],
   "source": [
    "enem_sp.NOTA_MT.min()"
   ]
  },
  {
   "cell_type": "code",
   "execution_count": 14,
   "metadata": {
    "colab": {
     "base_uri": "https://localhost:8080/"
    },
    "id": "yRoz7NO41Nmf",
    "outputId": "b537c7ec-10e7-43b9-9d6a-4cfdfb2da633"
   },
   "outputs": [
    {
     "data": {
      "text/plain": [
       "984.7"
      ]
     },
     "execution_count": 14,
     "metadata": {},
     "output_type": "execute_result"
    }
   ],
   "source": [
    "# Máximo\n",
    "enem_sp['NOTA_MT'].max()"
   ]
  },
  {
   "cell_type": "code",
   "execution_count": 15,
   "metadata": {
    "colab": {
     "base_uri": "https://localhost:8080/"
    },
    "id": "Piy39Kgszaxr",
    "outputId": "3e89919b-08de-4603-a7fb-624e0cd49b47"
   },
   "outputs": [
    {
     "data": {
      "text/plain": [
       "427.9"
      ]
     },
     "execution_count": 15,
     "metadata": {},
     "output_type": "execute_result"
    }
   ],
   "source": [
    "# Primeiro Quartil\n",
    "enem_sp['NOTA_MT'].quantile(q=0.25)"
   ]
  },
  {
   "cell_type": "code",
   "execution_count": 16,
   "metadata": {
    "colab": {
     "base_uri": "https://localhost:8080/"
    },
    "id": "uxLfONSm0z1i",
    "outputId": "7218fcec-5aed-4288-8547-079f0f649b01"
   },
   "outputs": [
    {
     "data": {
      "text/plain": [
       "511.8"
      ]
     },
     "execution_count": 16,
     "metadata": {},
     "output_type": "execute_result"
    }
   ],
   "source": [
    "# Segundo Quartil (Mediana)\n",
    "enem_sp['NOTA_MT'].quantile(q=0.5)"
   ]
  },
  {
   "cell_type": "code",
   "execution_count": 17,
   "metadata": {
    "colab": {
     "base_uri": "https://localhost:8080/"
    },
    "id": "YSMI_ZLK08Y2",
    "outputId": "5a61b498-3acd-4bab-eaf6-1f547ba48892"
   },
   "outputs": [
    {
     "data": {
      "text/plain": [
       "617.9"
      ]
     },
     "execution_count": 17,
     "metadata": {},
     "output_type": "execute_result"
    }
   ],
   "source": [
    "# Terceiro Quartil\n",
    "enem_sp['NOTA_MT'].quantile(q=0.75)"
   ]
  },
  {
   "cell_type": "code",
   "execution_count": 18,
   "metadata": {
    "colab": {
     "base_uri": "https://localhost:8080/"
    },
    "id": "sDoADqWE_ejo",
    "outputId": "97a7713b-3840-40f6-bc31-e809ba060e9c"
   },
   "outputs": [
    {
     "data": {
      "text/plain": [
       "827.6"
      ]
     },
     "execution_count": 18,
     "metadata": {},
     "output_type": "execute_result"
    }
   ],
   "source": [
    "enem_sp['NOTA_MT'].quantile(q=0.99)"
   ]
  },
  {
   "cell_type": "code",
   "execution_count": 19,
   "metadata": {
    "colab": {
     "base_uri": "https://localhost:8080/"
    },
    "id": "VTbWkdlK1ddF",
    "outputId": "ac921f0e-2f62-4fe8-f2e9-571c53b3c22b"
   },
   "outputs": [
    {
     "data": {
      "text/plain": [
       "count    499940.000000\n",
       "mean        497.594240\n",
       "std         183.465175\n",
       "min           0.000000\n",
       "25%         427.900000\n",
       "50%         511.800000\n",
       "75%         617.900000\n",
       "max         984.700000\n",
       "Name: NOTA_MT, dtype: float64"
      ]
     },
     "execution_count": 19,
     "metadata": {},
     "output_type": "execute_result"
    }
   ],
   "source": [
    "enem_sp.NOTA_MT.describe()"
   ]
  },
  {
   "cell_type": "code",
   "execution_count": 20,
   "metadata": {
    "colab": {
     "base_uri": "https://localhost:8080/",
     "height": 304
    },
    "id": "YRaniQpX1x_U",
    "outputId": "39c5c590-ea3a-4613-e72a-e1c131184678"
   },
   "outputs": [
    {
     "data": {
      "text/html": [
       "<div>\n",
       "<style scoped>\n",
       "    .dataframe tbody tr th:only-of-type {\n",
       "        vertical-align: middle;\n",
       "    }\n",
       "\n",
       "    .dataframe tbody tr th {\n",
       "        vertical-align: top;\n",
       "    }\n",
       "\n",
       "    .dataframe thead th {\n",
       "        text-align: right;\n",
       "    }\n",
       "</style>\n",
       "<table border=\"1\" class=\"dataframe\">\n",
       "  <thead>\n",
       "    <tr style=\"text-align: right;\">\n",
       "      <th></th>\n",
       "      <th>IDADE</th>\n",
       "      <th>TP_ESTADO_CIVIL</th>\n",
       "      <th>TP_NACIONALIDADE</th>\n",
       "      <th>TP_ST_CONCLUSAO</th>\n",
       "      <th>CO_ESCOLA</th>\n",
       "      <th>TP_PRESENCA_CN</th>\n",
       "      <th>TP_PRESENCA_CH</th>\n",
       "      <th>TP_PRESENCA_LC</th>\n",
       "      <th>TP_PRESENCA_MT</th>\n",
       "      <th>NOTA_CN</th>\n",
       "      <th>NOTA_CH</th>\n",
       "      <th>NOTA_LC</th>\n",
       "      <th>NOTA_MT</th>\n",
       "      <th>TP_STATUS_REDACAO</th>\n",
       "      <th>COMP1</th>\n",
       "      <th>COMP2</th>\n",
       "      <th>COMP3</th>\n",
       "      <th>COMP4</th>\n",
       "      <th>COMP5</th>\n",
       "      <th>NOTA_REDACAO</th>\n",
       "    </tr>\n",
       "  </thead>\n",
       "  <tbody>\n",
       "    <tr>\n",
       "      <th>count</th>\n",
       "      <td>499940.000000</td>\n",
       "      <td>499940.000000</td>\n",
       "      <td>499940.000000</td>\n",
       "      <td>499940.000000</td>\n",
       "      <td>1.768940e+05</td>\n",
       "      <td>499940.0</td>\n",
       "      <td>499940.0</td>\n",
       "      <td>499940.0</td>\n",
       "      <td>499940.0</td>\n",
       "      <td>499940.000000</td>\n",
       "      <td>499940.000000</td>\n",
       "      <td>499940.000000</td>\n",
       "      <td>499940.000000</td>\n",
       "      <td>499940.000000</td>\n",
       "      <td>499940.000000</td>\n",
       "      <td>499940.000000</td>\n",
       "      <td>499940.000000</td>\n",
       "      <td>499940.000000</td>\n",
       "      <td>499940.000000</td>\n",
       "      <td>499940.000000</td>\n",
       "    </tr>\n",
       "    <tr>\n",
       "      <th>mean</th>\n",
       "      <td>20.593387</td>\n",
       "      <td>1.053206</td>\n",
       "      <td>1.029902</td>\n",
       "      <td>1.476085</td>\n",
       "      <td>3.521138e+07</td>\n",
       "      <td>1.0</td>\n",
       "      <td>1.0</td>\n",
       "      <td>1.0</td>\n",
       "      <td>1.0</td>\n",
       "      <td>449.917000</td>\n",
       "      <td>482.228054</td>\n",
       "      <td>491.941262</td>\n",
       "      <td>497.594240</td>\n",
       "      <td>1.072105</td>\n",
       "      <td>125.000760</td>\n",
       "      <td>127.066808</td>\n",
       "      <td>118.760691</td>\n",
       "      <td>124.989359</td>\n",
       "      <td>97.200704</td>\n",
       "      <td>593.018322</td>\n",
       "    </tr>\n",
       "    <tr>\n",
       "      <th>std</th>\n",
       "      <td>6.465291</td>\n",
       "      <td>0.380866</td>\n",
       "      <td>0.230986</td>\n",
       "      <td>0.510351</td>\n",
       "      <td>4.430392e+05</td>\n",
       "      <td>0.0</td>\n",
       "      <td>0.0</td>\n",
       "      <td>0.0</td>\n",
       "      <td>0.0</td>\n",
       "      <td>152.982255</td>\n",
       "      <td>161.122963</td>\n",
       "      <td>156.247134</td>\n",
       "      <td>183.465175</td>\n",
       "      <td>0.584314</td>\n",
       "      <td>28.629513</td>\n",
       "      <td>39.846083</td>\n",
       "      <td>36.778882</td>\n",
       "      <td>33.879299</td>\n",
       "      <td>57.787427</td>\n",
       "      <td>170.536724</td>\n",
       "    </tr>\n",
       "    <tr>\n",
       "      <th>min</th>\n",
       "      <td>12.000000</td>\n",
       "      <td>0.000000</td>\n",
       "      <td>0.000000</td>\n",
       "      <td>1.000000</td>\n",
       "      <td>1.100306e+07</td>\n",
       "      <td>1.0</td>\n",
       "      <td>1.0</td>\n",
       "      <td>1.0</td>\n",
       "      <td>1.0</td>\n",
       "      <td>0.000000</td>\n",
       "      <td>0.000000</td>\n",
       "      <td>0.000000</td>\n",
       "      <td>0.000000</td>\n",
       "      <td>1.000000</td>\n",
       "      <td>0.000000</td>\n",
       "      <td>0.000000</td>\n",
       "      <td>0.000000</td>\n",
       "      <td>0.000000</td>\n",
       "      <td>0.000000</td>\n",
       "      <td>0.000000</td>\n",
       "    </tr>\n",
       "    <tr>\n",
       "      <th>25%</th>\n",
       "      <td>17.000000</td>\n",
       "      <td>1.000000</td>\n",
       "      <td>1.000000</td>\n",
       "      <td>1.000000</td>\n",
       "      <td>3.501625e+07</td>\n",
       "      <td>1.0</td>\n",
       "      <td>1.0</td>\n",
       "      <td>1.0</td>\n",
       "      <td>1.0</td>\n",
       "      <td>412.400000</td>\n",
       "      <td>450.600000</td>\n",
       "      <td>490.100000</td>\n",
       "      <td>427.900000</td>\n",
       "      <td>1.000000</td>\n",
       "      <td>120.000000</td>\n",
       "      <td>120.000000</td>\n",
       "      <td>100.000000</td>\n",
       "      <td>120.000000</td>\n",
       "      <td>60.000000</td>\n",
       "      <td>500.000000</td>\n",
       "    </tr>\n",
       "    <tr>\n",
       "      <th>50%</th>\n",
       "      <td>18.000000</td>\n",
       "      <td>1.000000</td>\n",
       "      <td>1.000000</td>\n",
       "      <td>1.000000</td>\n",
       "      <td>3.504496e+07</td>\n",
       "      <td>1.0</td>\n",
       "      <td>1.0</td>\n",
       "      <td>1.0</td>\n",
       "      <td>1.0</td>\n",
       "      <td>478.100000</td>\n",
       "      <td>523.700000</td>\n",
       "      <td>538.300000</td>\n",
       "      <td>511.800000</td>\n",
       "      <td>1.000000</td>\n",
       "      <td>120.000000</td>\n",
       "      <td>120.000000</td>\n",
       "      <td>120.000000</td>\n",
       "      <td>120.000000</td>\n",
       "      <td>100.000000</td>\n",
       "      <td>600.000000</td>\n",
       "    </tr>\n",
       "    <tr>\n",
       "      <th>75%</th>\n",
       "      <td>21.000000</td>\n",
       "      <td>1.000000</td>\n",
       "      <td>1.000000</td>\n",
       "      <td>2.000000</td>\n",
       "      <td>3.529070e+07</td>\n",
       "      <td>1.0</td>\n",
       "      <td>1.0</td>\n",
       "      <td>1.0</td>\n",
       "      <td>1.0</td>\n",
       "      <td>544.400000</td>\n",
       "      <td>578.100000</td>\n",
       "      <td>576.200000</td>\n",
       "      <td>617.900000</td>\n",
       "      <td>1.000000</td>\n",
       "      <td>140.000000</td>\n",
       "      <td>140.000000</td>\n",
       "      <td>140.000000</td>\n",
       "      <td>140.000000</td>\n",
       "      <td>140.000000</td>\n",
       "      <td>680.000000</td>\n",
       "    </tr>\n",
       "    <tr>\n",
       "      <th>max</th>\n",
       "      <td>91.000000</td>\n",
       "      <td>4.000000</td>\n",
       "      <td>4.000000</td>\n",
       "      <td>4.000000</td>\n",
       "      <td>5.300104e+07</td>\n",
       "      <td>1.0</td>\n",
       "      <td>1.0</td>\n",
       "      <td>1.0</td>\n",
       "      <td>1.0</td>\n",
       "      <td>860.900000</td>\n",
       "      <td>822.700000</td>\n",
       "      <td>772.300000</td>\n",
       "      <td>984.700000</td>\n",
       "      <td>9.000000</td>\n",
       "      <td>200.000000</td>\n",
       "      <td>200.000000</td>\n",
       "      <td>200.000000</td>\n",
       "      <td>200.000000</td>\n",
       "      <td>200.000000</td>\n",
       "      <td>1000.000000</td>\n",
       "    </tr>\n",
       "  </tbody>\n",
       "</table>\n",
       "</div>"
      ],
      "text/plain": [
       "               IDADE  TP_ESTADO_CIVIL  TP_NACIONALIDADE  TP_ST_CONCLUSAO  \\\n",
       "count  499940.000000    499940.000000     499940.000000    499940.000000   \n",
       "mean       20.593387         1.053206          1.029902         1.476085   \n",
       "std         6.465291         0.380866          0.230986         0.510351   \n",
       "min        12.000000         0.000000          0.000000         1.000000   \n",
       "25%        17.000000         1.000000          1.000000         1.000000   \n",
       "50%        18.000000         1.000000          1.000000         1.000000   \n",
       "75%        21.000000         1.000000          1.000000         2.000000   \n",
       "max        91.000000         4.000000          4.000000         4.000000   \n",
       "\n",
       "          CO_ESCOLA  TP_PRESENCA_CN  TP_PRESENCA_CH  TP_PRESENCA_LC  \\\n",
       "count  1.768940e+05        499940.0        499940.0        499940.0   \n",
       "mean   3.521138e+07             1.0             1.0             1.0   \n",
       "std    4.430392e+05             0.0             0.0             0.0   \n",
       "min    1.100306e+07             1.0             1.0             1.0   \n",
       "25%    3.501625e+07             1.0             1.0             1.0   \n",
       "50%    3.504496e+07             1.0             1.0             1.0   \n",
       "75%    3.529070e+07             1.0             1.0             1.0   \n",
       "max    5.300104e+07             1.0             1.0             1.0   \n",
       "\n",
       "       TP_PRESENCA_MT        NOTA_CN        NOTA_CH        NOTA_LC  \\\n",
       "count        499940.0  499940.000000  499940.000000  499940.000000   \n",
       "mean              1.0     449.917000     482.228054     491.941262   \n",
       "std               0.0     152.982255     161.122963     156.247134   \n",
       "min               1.0       0.000000       0.000000       0.000000   \n",
       "25%               1.0     412.400000     450.600000     490.100000   \n",
       "50%               1.0     478.100000     523.700000     538.300000   \n",
       "75%               1.0     544.400000     578.100000     576.200000   \n",
       "max               1.0     860.900000     822.700000     772.300000   \n",
       "\n",
       "             NOTA_MT  TP_STATUS_REDACAO          COMP1          COMP2  \\\n",
       "count  499940.000000      499940.000000  499940.000000  499940.000000   \n",
       "mean      497.594240           1.072105     125.000760     127.066808   \n",
       "std       183.465175           0.584314      28.629513      39.846083   \n",
       "min         0.000000           1.000000       0.000000       0.000000   \n",
       "25%       427.900000           1.000000     120.000000     120.000000   \n",
       "50%       511.800000           1.000000     120.000000     120.000000   \n",
       "75%       617.900000           1.000000     140.000000     140.000000   \n",
       "max       984.700000           9.000000     200.000000     200.000000   \n",
       "\n",
       "               COMP3          COMP4          COMP5   NOTA_REDACAO  \n",
       "count  499940.000000  499940.000000  499940.000000  499940.000000  \n",
       "mean      118.760691     124.989359      97.200704     593.018322  \n",
       "std        36.778882      33.879299      57.787427     170.536724  \n",
       "min         0.000000       0.000000       0.000000       0.000000  \n",
       "25%       100.000000     120.000000      60.000000     500.000000  \n",
       "50%       120.000000     120.000000     100.000000     600.000000  \n",
       "75%       140.000000     140.000000     140.000000     680.000000  \n",
       "max       200.000000     200.000000     200.000000    1000.000000  "
      ]
     },
     "execution_count": 20,
     "metadata": {},
     "output_type": "execute_result"
    }
   ],
   "source": [
    "enem_sp.describe()"
   ]
  },
  {
   "cell_type": "markdown",
   "metadata": {
    "id": "_NjvPort3i5m"
   },
   "source": [
    "## Gráfico BoxPlot e Outliers"
   ]
  },
  {
   "cell_type": "markdown",
   "metadata": {
    "id": "2zdW_4uU3o4W"
   },
   "source": [
    "### Matplotlib"
   ]
  },
  {
   "cell_type": "code",
   "execution_count": 21,
   "metadata": {
    "id": "e193RWfX1_f7"
   },
   "outputs": [],
   "source": [
    "import matplotlib.pyplot as plt"
   ]
  },
  {
   "cell_type": "code",
   "execution_count": 22,
   "metadata": {
    "colab": {
     "base_uri": "https://localhost:8080/",
     "height": 265
    },
    "id": "iGGksQlR3_oG",
    "outputId": "90fb05fa-67a7-4fea-fe83-093d934ea719"
   },
   "outputs": [
    {
     "data": {
      "image/png": "[encoded data removed]",
      "text/plain": [
       "<Figure size 640x480 with 1 Axes>"
      ]
     },
     "metadata": {},
     "output_type": "display_data"
    }
   ],
   "source": [
    "plt.boxplot(enem_sp.NOTA_MT)\n",
    "plt.show()"
   ]
  },
  {
   "cell_type": "markdown",
   "metadata": {
    "id": "WdNJuBLA5_dg"
   },
   "source": [
    "### Seaborn"
   ]
  },
  {
   "cell_type": "code",
   "execution_count": 23,
   "metadata": {
    "id": "DYNO6Ecr6rq-"
   },
   "outputs": [],
   "source": [
    "import seaborn as sns"
   ]
  },
  {
   "cell_type": "code",
   "execution_count": 24,
   "metadata": {
    "colab": {
     "base_uri": "https://localhost:8080/",
     "height": 252
    },
    "id": "W6o3tRKg5-xC",
    "outputId": "aafd58db-d242-430f-fab2-a70781adb3c9"
   },
   "outputs": [
    {
     "data": {
      "image/png": "[encoded data removed]",
      "text/plain": [
       "<Figure size 640x480 with 1 Axes>"
      ]
     },
     "metadata": {},
     "output_type": "display_data"
    }
   ],
   "source": [
    "sns.boxplot(y='NOTA_MT', data=enem_sp);"
   ]
  },
  {
   "cell_type": "markdown",
   "metadata": {
    "id": "ScWeChCL7uyj"
   },
   "source": [
    "### Plotly"
   ]
  },
  {
   "cell_type": "code",
   "execution_count": 25,
   "metadata": {
    "id": "2J5koL5x_Brw"
   },
   "outputs": [],
   "source": [
    "import plotly.express as px"
   ]
  },
  {
   "cell_type": "code",
   "execution_count": 26,
   "metadata": {
    "colab": {
     "base_uri": "https://localhost:8080/",
     "height": 542
    },
    "id": "Inq9Ob7I7rSd",
    "outputId": "ac705b37-7ec4-45fa-8ecf-98492e366cc4"
   },
   "outputs": [],
   "source": [
    "#grafico = px.box(enem_sp, y=\"NOTA_MT\")\n",
    "#grafico.show()"
   ]
  },
  {
   "cell_type": "code",
   "execution_count": 27,
   "metadata": {
    "id": "RiAg15Kn-Pm5"
   },
   "outputs": [],
   "source": [
    "sem_outliers = enem_sp.loc[enem_sp.NOTA_MT <= 902.9 ]"
   ]
  },
  {
   "cell_type": "code",
   "execution_count": 28,
   "metadata": {
    "id": "TwTqqvIJEUDV"
   },
   "outputs": [],
   "source": [
    "sem_outliers = sem_outliers.loc[sem_outliers.NOTA_MT >= 359.1]"
   ]
  },
  {
   "cell_type": "code",
   "execution_count": 29,
   "metadata": {
    "colab": {
     "base_uri": "https://localhost:8080/",
     "height": 232
    },
    "id": "W9MYmRDxFJeH",
    "outputId": "5fbd89b8-1cf2-4055-ac2f-29f160852346"
   },
   "outputs": [
    {
     "data": {
      "text/html": [
       "<div>\n",
       "<style scoped>\n",
       "    .dataframe tbody tr th:only-of-type {\n",
       "        vertical-align: middle;\n",
       "    }\n",
       "\n",
       "    .dataframe tbody tr th {\n",
       "        vertical-align: top;\n",
       "    }\n",
       "\n",
       "    .dataframe thead th {\n",
       "        text-align: right;\n",
       "    }\n",
       "</style>\n",
       "<table border=\"1\" class=\"dataframe\">\n",
       "  <thead>\n",
       "    <tr style=\"text-align: right;\">\n",
       "      <th></th>\n",
       "      <th>NU_INSCRICAO</th>\n",
       "      <th>NO_MUNICIPIO_RESIDENCIA</th>\n",
       "      <th>IDADE</th>\n",
       "      <th>SEXO</th>\n",
       "      <th>TP_ESTADO_CIVIL</th>\n",
       "      <th>RACA</th>\n",
       "      <th>TP_NACIONALIDADE</th>\n",
       "      <th>TP_ST_CONCLUSAO</th>\n",
       "      <th>ESCOLA</th>\n",
       "      <th>CO_ESCOLA</th>\n",
       "      <th>...</th>\n",
       "      <th>NOTA_MT</th>\n",
       "      <th>TP_LINGUA</th>\n",
       "      <th>TP_STATUS_REDACAO</th>\n",
       "      <th>COMP1</th>\n",
       "      <th>COMP2</th>\n",
       "      <th>COMP3</th>\n",
       "      <th>COMP4</th>\n",
       "      <th>COMP5</th>\n",
       "      <th>NOTA_REDACAO</th>\n",
       "      <th>INTERNET</th>\n",
       "    </tr>\n",
       "  </thead>\n",
       "  <tbody>\n",
       "    <tr>\n",
       "      <th>0</th>\n",
       "      <td>1,90E+11</td>\n",
       "      <td>Santa Isabel</td>\n",
       "      <td>22</td>\n",
       "      <td>M</td>\n",
       "      <td>1</td>\n",
       "      <td>parda</td>\n",
       "      <td>1</td>\n",
       "      <td>1</td>\n",
       "      <td>não_respondeu</td>\n",
       "      <td>NaN</td>\n",
       "      <td>...</td>\n",
       "      <td>600.2</td>\n",
       "      <td>Inglês</td>\n",
       "      <td>1.0</td>\n",
       "      <td>160.0</td>\n",
       "      <td>200.0</td>\n",
       "      <td>180.0</td>\n",
       "      <td>200.0</td>\n",
       "      <td>200.0</td>\n",
       "      <td>940.0</td>\n",
       "      <td>Sim</td>\n",
       "    </tr>\n",
       "    <tr>\n",
       "      <th>1</th>\n",
       "      <td>1,90E+11</td>\n",
       "      <td>São Paulo</td>\n",
       "      <td>17</td>\n",
       "      <td>F</td>\n",
       "      <td>1</td>\n",
       "      <td>parda</td>\n",
       "      <td>1</td>\n",
       "      <td>2</td>\n",
       "      <td>privada</td>\n",
       "      <td>15567761.0</td>\n",
       "      <td>...</td>\n",
       "      <td>731.8</td>\n",
       "      <td>Inglês</td>\n",
       "      <td>1.0</td>\n",
       "      <td>160.0</td>\n",
       "      <td>120.0</td>\n",
       "      <td>200.0</td>\n",
       "      <td>200.0</td>\n",
       "      <td>200.0</td>\n",
       "      <td>880.0</td>\n",
       "      <td>Não</td>\n",
       "    </tr>\n",
       "    <tr>\n",
       "      <th>2</th>\n",
       "      <td>1,90E+11</td>\n",
       "      <td>São Bernardo do Campo</td>\n",
       "      <td>19</td>\n",
       "      <td>M</td>\n",
       "      <td>1</td>\n",
       "      <td>parda</td>\n",
       "      <td>1</td>\n",
       "      <td>2</td>\n",
       "      <td>pública</td>\n",
       "      <td>35904958.0</td>\n",
       "      <td>...</td>\n",
       "      <td>393.2</td>\n",
       "      <td>Espanhol</td>\n",
       "      <td>1.0</td>\n",
       "      <td>80.0</td>\n",
       "      <td>160.0</td>\n",
       "      <td>120.0</td>\n",
       "      <td>100.0</td>\n",
       "      <td>100.0</td>\n",
       "      <td>560.0</td>\n",
       "      <td>Sim</td>\n",
       "    </tr>\n",
       "    <tr>\n",
       "      <th>3</th>\n",
       "      <td>1,90E+11</td>\n",
       "      <td>Embu-Guaçu</td>\n",
       "      <td>17</td>\n",
       "      <td>F</td>\n",
       "      <td>1</td>\n",
       "      <td>parda</td>\n",
       "      <td>1</td>\n",
       "      <td>2</td>\n",
       "      <td>pública</td>\n",
       "      <td>NaN</td>\n",
       "      <td>...</td>\n",
       "      <td>419.2</td>\n",
       "      <td>Inglês</td>\n",
       "      <td>1.0</td>\n",
       "      <td>120.0</td>\n",
       "      <td>120.0</td>\n",
       "      <td>120.0</td>\n",
       "      <td>120.0</td>\n",
       "      <td>80.0</td>\n",
       "      <td>560.0</td>\n",
       "      <td>Sim</td>\n",
       "    </tr>\n",
       "    <tr>\n",
       "      <th>4</th>\n",
       "      <td>1,90E+11</td>\n",
       "      <td>Guarulhos</td>\n",
       "      <td>23</td>\n",
       "      <td>F</td>\n",
       "      <td>1</td>\n",
       "      <td>branca</td>\n",
       "      <td>1</td>\n",
       "      <td>1</td>\n",
       "      <td>não_respondeu</td>\n",
       "      <td>NaN</td>\n",
       "      <td>...</td>\n",
       "      <td>796.1</td>\n",
       "      <td>Inglês</td>\n",
       "      <td>1.0</td>\n",
       "      <td>160.0</td>\n",
       "      <td>200.0</td>\n",
       "      <td>180.0</td>\n",
       "      <td>180.0</td>\n",
       "      <td>160.0</td>\n",
       "      <td>880.0</td>\n",
       "      <td>Sim</td>\n",
       "    </tr>\n",
       "  </tbody>\n",
       "</table>\n",
       "<p>5 rows × 28 columns</p>\n",
       "</div>"
      ],
      "text/plain": [
       "  NU_INSCRICAO NO_MUNICIPIO_RESIDENCIA  IDADE SEXO  TP_ESTADO_CIVIL    RACA  \\\n",
       "0     1,90E+11            Santa Isabel     22    M                1   parda   \n",
       "1     1,90E+11               São Paulo     17    F                1   parda   \n",
       "2     1,90E+11   São Bernardo do Campo     19    M                1   parda   \n",
       "3     1,90E+11              Embu-Guaçu     17    F                1   parda   \n",
       "4     1,90E+11               Guarulhos     23    F                1  branca   \n",
       "\n",
       "   TP_NACIONALIDADE  TP_ST_CONCLUSAO         ESCOLA   CO_ESCOLA  ... NOTA_MT  \\\n",
       "0                 1                1  não_respondeu         NaN  ...   600.2   \n",
       "1                 1                2        privada  15567761.0  ...   731.8   \n",
       "2                 1                2        pública  35904958.0  ...   393.2   \n",
       "3                 1                2        pública         NaN  ...   419.2   \n",
       "4                 1                1  não_respondeu         NaN  ...   796.1   \n",
       "\n",
       "   TP_LINGUA  TP_STATUS_REDACAO  COMP1  COMP2  COMP3  COMP4  COMP5  \\\n",
       "0     Inglês                1.0  160.0  200.0  180.0  200.0  200.0   \n",
       "1     Inglês                1.0  160.0  120.0  200.0  200.0  200.0   \n",
       "2   Espanhol                1.0   80.0  160.0  120.0  100.0  100.0   \n",
       "3     Inglês                1.0  120.0  120.0  120.0  120.0   80.0   \n",
       "4     Inglês                1.0  160.0  200.0  180.0  180.0  160.0   \n",
       "\n",
       "   NOTA_REDACAO INTERNET  \n",
       "0         940.0      Sim  \n",
       "1         880.0      Não  \n",
       "2         560.0      Sim  \n",
       "3         560.0      Sim  \n",
       "4         880.0      Sim  \n",
       "\n",
       "[5 rows x 28 columns]"
      ]
     },
     "execution_count": 29,
     "metadata": {},
     "output_type": "execute_result"
    }
   ],
   "source": [
    "sem_outliers.head()"
   ]
  },
  {
   "cell_type": "code",
   "execution_count": 32,
   "metadata": {
    "colab": {
     "base_uri": "https://localhost:8080/",
     "height": 542
    },
    "id": "bTcKBu46FA-7",
    "outputId": "31eff257-cde8-4722-add6-c583e045636b"
   },
   "outputs": [],
   "source": [
    "#grafico = px.box(sem_outliers, y=\"NOTA_MT\")\n",
    "#grafico.show()"
   ]
  },
  {
   "cell_type": "code",
   "execution_count": 33,
   "metadata": {
    "colab": {
     "base_uri": "https://localhost:8080/",
     "height": 542
    },
    "id": "ugT3qnav2ZBb",
    "outputId": "f962a32b-df48-4a1b-d14e-379bf2fc7025"
   },
   "outputs": [],
   "source": [
    "#grafico = px.box(enem_sp, y=\"NOTA_CN\")\n",
    "#grafico.show()"
   ]
  },
  {
   "cell_type": "code",
   "execution_count": 37,
   "metadata": {
    "colab": {
     "base_uri": "https://localhost:8080/",
     "height": 542
    },
    "id": "L0KmWV8P2pt1",
    "outputId": "28ee1d1f-7fc0-40c8-b5c4-6683cb658f76"
   },
   "outputs": [],
   "source": [
    "#grafico = px.box(enem_sp, y=\"NOTA_CH\")\n",
    "#grafico.show()"
   ]
  },
  {
   "cell_type": "code",
   "execution_count": 38,
   "metadata": {
    "colab": {
     "base_uri": "https://localhost:8080/",
     "height": 542
    },
    "id": "_dzjXfjC238p",
    "outputId": "6305fd44-6542-440d-8189-3f67ed90c00f"
   },
   "outputs": [],
   "source": [
    "#grafico = px.box(enem_sp, y=\"NOTA_LC\")\n",
    "#grafico.show()"
   ]
  },
  {
   "cell_type": "code",
   "execution_count": 39,
   "metadata": {
    "colab": {
     "base_uri": "https://localhost:8080/",
     "height": 542
    },
    "id": "LWqhSnsK4oFr",
    "outputId": "11192892-0352-4067-e7f2-a50daad65cfb"
   },
   "outputs": [],
   "source": [
    "#grafico = px.box(enem_sp, y=\"NOTA_REDACAO\")\n",
    "#grafico.show()"
   ]
  },
  {
   "cell_type": "code",
   "execution_count": 40,
   "metadata": {
    "colab": {
     "base_uri": "https://localhost:8080/",
     "height": 542
    },
    "id": "cNRUeVEB4_Kr",
    "outputId": "969548b3-cc92-49dc-ab09-54fb8cd54c75"
   },
   "outputs": [],
   "source": [
    "#grafico = px.box(enem_sp, x = 'SEXO', y=\"NOTA_MT\")\n",
    "#grafico.show()"
   ]
  },
  {
   "cell_type": "code",
   "execution_count": 41,
   "metadata": {
    "colab": {
     "base_uri": "https://localhost:8080/",
     "height": 542
    },
    "id": "3xKUlUET5dpC",
    "outputId": "eb45d01f-05d6-4ec0-8c4d-b32a4ac3b537"
   },
   "outputs": [],
   "source": [
    "#grafico = px.box(enem_sp, x = 'RACA', y=\"NOTA_MT\")\n",
    "#grafico.show()"
   ]
  },
  {
   "cell_type": "code",
   "execution_count": 42,
   "metadata": {
    "colab": {
     "base_uri": "https://localhost:8080/",
     "height": 542
    },
    "id": "VzRlx8RU6L3R",
    "outputId": "4bc337db-8621-49f3-daba-c4b4fb0d1756"
   },
   "outputs": [],
   "source": [
    "#grafico = px.box(enem_sp, x = 'ESCOLA', y=\"NOTA_MT\")\n",
    "#grafico.show()"
   ]
  }
 ],
 "metadata": {
  "colab": {
   "collapsed_sections": [],
   "name": "medidas_posição_dispersão.ipynb",
   "provenance": []
  },
  "kernelspec": {
   "display_name": "Python 3 (ipykernel)",
   "language": "python",
   "name": "python3"
  },
  "language_info": {
   "codemirror_mode": {
    "name": "ipython",
    "version": 3
   },
   "file_extension": ".py",
   "mimetype": "text/x-python",
   "name": "python",
   "nbconvert_exporter": "python",
   "pygments_lexer": "ipython3",
   "version": "3.9.13"
  }
 },
 "nbformat": 4,
 "nbformat_minor": 4
}
